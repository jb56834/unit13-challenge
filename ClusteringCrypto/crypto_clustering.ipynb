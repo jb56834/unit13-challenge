{
 "cells": [
  {
   "cell_type": "markdown",
   "metadata": {},
   "source": [
    "# Clustering Crypto"
   ]
  },
  {
   "cell_type": "code",
   "execution_count": 14,
   "metadata": {},
   "outputs": [],
   "source": [
    "# Initial imports\n",
    "import requests\n",
    "import pandas as pd\n",
    "import matplotlib.pyplot as plt\n",
    "import hvplot.pandas\n",
    "import plotly.express as px\n",
    "from sklearn.preprocessing import StandardScaler, MinMaxScaler\n",
    "from sklearn.decomposition import PCA\n",
    "from sklearn.cluster import KMeans"
   ]
  },
  {
   "cell_type": "markdown",
   "metadata": {},
   "source": [
    "### Fetching Cryptocurrency Data"
   ]
  },
  {
   "cell_type": "code",
   "execution_count": 2,
   "metadata": {},
   "outputs": [],
   "source": [
    "# Use the following endpoint to fetch json data\n",
    "url = \"https://min-api.cryptocompare.com/data/all/coinlist\""
   ]
  },
  {
   "cell_type": "code",
   "execution_count": 3,
   "metadata": {},
   "outputs": [],
   "source": [
    "# Create a DataFrame \n",
    "# HINT: You will need to use the 'Data' key from the json response, then transpose the DataFrame."
   ]
  },
  {
   "cell_type": "code",
   "execution_count": 75,
   "metadata": {},
   "outputs": [
    {
     "data": {
      "text/html": [
       "<div>\n",
       "<style scoped>\n",
       "    .dataframe tbody tr th:only-of-type {\n",
       "        vertical-align: middle;\n",
       "    }\n",
       "\n",
       "    .dataframe tbody tr th {\n",
       "        vertical-align: top;\n",
       "    }\n",
       "\n",
       "    .dataframe thead th {\n",
       "        text-align: right;\n",
       "    }\n",
       "</style>\n",
       "<table border=\"1\" class=\"dataframe\">\n",
       "  <thead>\n",
       "    <tr style=\"text-align: right;\">\n",
       "      <th></th>\n",
       "      <th>CoinName</th>\n",
       "      <th>Algorithm</th>\n",
       "      <th>IsTrading</th>\n",
       "      <th>ProofType</th>\n",
       "      <th>TotalCoinsMined</th>\n",
       "      <th>TotalCoinSupply</th>\n",
       "    </tr>\n",
       "    <tr>\n",
       "      <th>Unnamed: 0</th>\n",
       "      <th></th>\n",
       "      <th></th>\n",
       "      <th></th>\n",
       "      <th></th>\n",
       "      <th></th>\n",
       "      <th></th>\n",
       "    </tr>\n",
       "  </thead>\n",
       "  <tbody>\n",
       "    <tr>\n",
       "      <th>42</th>\n",
       "      <td>42 Coin</td>\n",
       "      <td>Scrypt</td>\n",
       "      <td>True</td>\n",
       "      <td>PoW/PoS</td>\n",
       "      <td>4.199995e+01</td>\n",
       "      <td>42</td>\n",
       "    </tr>\n",
       "    <tr>\n",
       "      <th>365</th>\n",
       "      <td>365Coin</td>\n",
       "      <td>X11</td>\n",
       "      <td>True</td>\n",
       "      <td>PoW/PoS</td>\n",
       "      <td>NaN</td>\n",
       "      <td>2300000000</td>\n",
       "    </tr>\n",
       "    <tr>\n",
       "      <th>404</th>\n",
       "      <td>404Coin</td>\n",
       "      <td>Scrypt</td>\n",
       "      <td>True</td>\n",
       "      <td>PoW/PoS</td>\n",
       "      <td>1.055185e+09</td>\n",
       "      <td>532000000</td>\n",
       "    </tr>\n",
       "    <tr>\n",
       "      <th>611</th>\n",
       "      <td>SixEleven</td>\n",
       "      <td>SHA-256</td>\n",
       "      <td>True</td>\n",
       "      <td>PoW</td>\n",
       "      <td>NaN</td>\n",
       "      <td>611000</td>\n",
       "    </tr>\n",
       "    <tr>\n",
       "      <th>808</th>\n",
       "      <td>808</td>\n",
       "      <td>SHA-256</td>\n",
       "      <td>True</td>\n",
       "      <td>PoW/PoS</td>\n",
       "      <td>0.000000e+00</td>\n",
       "      <td>0</td>\n",
       "    </tr>\n",
       "  </tbody>\n",
       "</table>\n",
       "</div>"
      ],
      "text/plain": [
       "             CoinName Algorithm  IsTrading ProofType  TotalCoinsMined  \\\n",
       "Unnamed: 0                                                              \n",
       "42            42 Coin    Scrypt       True   PoW/PoS     4.199995e+01   \n",
       "365           365Coin       X11       True   PoW/PoS              NaN   \n",
       "404           404Coin    Scrypt       True   PoW/PoS     1.055185e+09   \n",
       "611         SixEleven   SHA-256       True       PoW              NaN   \n",
       "808               808   SHA-256       True   PoW/PoS     0.000000e+00   \n",
       "\n",
       "           TotalCoinSupply  \n",
       "Unnamed: 0                  \n",
       "42                      42  \n",
       "365             2300000000  \n",
       "404              532000000  \n",
       "611                 611000  \n",
       "808                      0  "
      ]
     },
     "execution_count": 75,
     "metadata": {},
     "output_type": "execute_result"
    }
   ],
   "source": [
    "# Alternatively, use the provided csv file:\n",
    "\n",
    "from pathlib import Path\n",
    "file_path = Path(\"crypto_data.csv\")\n",
    "df = pd.read_csv(file_path)\n",
    "df.set_index('Unnamed: 0', inplace=True)\n",
    "df.head()"
   ]
  },
  {
   "cell_type": "markdown",
   "metadata": {},
   "source": [
    "### Data Preprocessing"
   ]
  },
  {
   "cell_type": "code",
   "execution_count": 76,
   "metadata": {},
   "outputs": [
    {
     "data": {
      "text/html": [
       "<div>\n",
       "<style scoped>\n",
       "    .dataframe tbody tr th:only-of-type {\n",
       "        vertical-align: middle;\n",
       "    }\n",
       "\n",
       "    .dataframe tbody tr th {\n",
       "        vertical-align: top;\n",
       "    }\n",
       "\n",
       "    .dataframe thead th {\n",
       "        text-align: right;\n",
       "    }\n",
       "</style>\n",
       "<table border=\"1\" class=\"dataframe\">\n",
       "  <thead>\n",
       "    <tr style=\"text-align: right;\">\n",
       "      <th></th>\n",
       "      <th>CoinName</th>\n",
       "      <th>Algorithm</th>\n",
       "      <th>IsTrading</th>\n",
       "      <th>ProofType</th>\n",
       "      <th>TotalCoinsMined</th>\n",
       "      <th>TotalCoinSupply</th>\n",
       "    </tr>\n",
       "    <tr>\n",
       "      <th>Unnamed: 0</th>\n",
       "      <th></th>\n",
       "      <th></th>\n",
       "      <th></th>\n",
       "      <th></th>\n",
       "      <th></th>\n",
       "      <th></th>\n",
       "    </tr>\n",
       "  </thead>\n",
       "  <tbody>\n",
       "    <tr>\n",
       "      <th>42</th>\n",
       "      <td>42 Coin</td>\n",
       "      <td>Scrypt</td>\n",
       "      <td>True</td>\n",
       "      <td>PoW/PoS</td>\n",
       "      <td>4.199995e+01</td>\n",
       "      <td>42</td>\n",
       "    </tr>\n",
       "    <tr>\n",
       "      <th>365</th>\n",
       "      <td>365Coin</td>\n",
       "      <td>X11</td>\n",
       "      <td>True</td>\n",
       "      <td>PoW/PoS</td>\n",
       "      <td>NaN</td>\n",
       "      <td>2300000000</td>\n",
       "    </tr>\n",
       "    <tr>\n",
       "      <th>404</th>\n",
       "      <td>404Coin</td>\n",
       "      <td>Scrypt</td>\n",
       "      <td>True</td>\n",
       "      <td>PoW/PoS</td>\n",
       "      <td>1.055185e+09</td>\n",
       "      <td>532000000</td>\n",
       "    </tr>\n",
       "    <tr>\n",
       "      <th>611</th>\n",
       "      <td>SixEleven</td>\n",
       "      <td>SHA-256</td>\n",
       "      <td>True</td>\n",
       "      <td>PoW</td>\n",
       "      <td>NaN</td>\n",
       "      <td>611000</td>\n",
       "    </tr>\n",
       "    <tr>\n",
       "      <th>808</th>\n",
       "      <td>808</td>\n",
       "      <td>SHA-256</td>\n",
       "      <td>True</td>\n",
       "      <td>PoW/PoS</td>\n",
       "      <td>0.000000e+00</td>\n",
       "      <td>0</td>\n",
       "    </tr>\n",
       "  </tbody>\n",
       "</table>\n",
       "</div>"
      ],
      "text/plain": [
       "             CoinName Algorithm  IsTrading ProofType  TotalCoinsMined  \\\n",
       "Unnamed: 0                                                              \n",
       "42            42 Coin    Scrypt       True   PoW/PoS     4.199995e+01   \n",
       "365           365Coin       X11       True   PoW/PoS              NaN   \n",
       "404           404Coin    Scrypt       True   PoW/PoS     1.055185e+09   \n",
       "611         SixEleven   SHA-256       True       PoW              NaN   \n",
       "808               808   SHA-256       True   PoW/PoS     0.000000e+00   \n",
       "\n",
       "           TotalCoinSupply  \n",
       "Unnamed: 0                  \n",
       "42                      42  \n",
       "365             2300000000  \n",
       "404              532000000  \n",
       "611                 611000  \n",
       "808                      0  "
      ]
     },
     "execution_count": 76,
     "metadata": {},
     "output_type": "execute_result"
    }
   ],
   "source": [
    "# Keep only necessary columns:\n",
    "\n",
    "cols = ['CoinName','Algorithm','IsTrading','ProofType','TotalCoinsMined','TotalCoinSupply']\n",
    "df = df[cols]\n",
    "df.head()"
   ]
  },
  {
   "cell_type": "code",
   "execution_count": 77,
   "metadata": {},
   "outputs": [
    {
     "data": {
      "text/html": [
       "<div>\n",
       "<style scoped>\n",
       "    .dataframe tbody tr th:only-of-type {\n",
       "        vertical-align: middle;\n",
       "    }\n",
       "\n",
       "    .dataframe tbody tr th {\n",
       "        vertical-align: top;\n",
       "    }\n",
       "\n",
       "    .dataframe thead th {\n",
       "        text-align: right;\n",
       "    }\n",
       "</style>\n",
       "<table border=\"1\" class=\"dataframe\">\n",
       "  <thead>\n",
       "    <tr style=\"text-align: right;\">\n",
       "      <th></th>\n",
       "      <th>CoinName</th>\n",
       "      <th>Algorithm</th>\n",
       "      <th>IsTrading</th>\n",
       "      <th>ProofType</th>\n",
       "      <th>TotalCoinsMined</th>\n",
       "      <th>TotalCoinSupply</th>\n",
       "    </tr>\n",
       "    <tr>\n",
       "      <th>Unnamed: 0</th>\n",
       "      <th></th>\n",
       "      <th></th>\n",
       "      <th></th>\n",
       "      <th></th>\n",
       "      <th></th>\n",
       "      <th></th>\n",
       "    </tr>\n",
       "  </thead>\n",
       "  <tbody>\n",
       "    <tr>\n",
       "      <th>42</th>\n",
       "      <td>42 Coin</td>\n",
       "      <td>Scrypt</td>\n",
       "      <td>True</td>\n",
       "      <td>PoW/PoS</td>\n",
       "      <td>4.199995e+01</td>\n",
       "      <td>42</td>\n",
       "    </tr>\n",
       "    <tr>\n",
       "      <th>365</th>\n",
       "      <td>365Coin</td>\n",
       "      <td>X11</td>\n",
       "      <td>True</td>\n",
       "      <td>PoW/PoS</td>\n",
       "      <td>NaN</td>\n",
       "      <td>2300000000</td>\n",
       "    </tr>\n",
       "    <tr>\n",
       "      <th>404</th>\n",
       "      <td>404Coin</td>\n",
       "      <td>Scrypt</td>\n",
       "      <td>True</td>\n",
       "      <td>PoW/PoS</td>\n",
       "      <td>1.055185e+09</td>\n",
       "      <td>532000000</td>\n",
       "    </tr>\n",
       "    <tr>\n",
       "      <th>611</th>\n",
       "      <td>SixEleven</td>\n",
       "      <td>SHA-256</td>\n",
       "      <td>True</td>\n",
       "      <td>PoW</td>\n",
       "      <td>NaN</td>\n",
       "      <td>611000</td>\n",
       "    </tr>\n",
       "    <tr>\n",
       "      <th>808</th>\n",
       "      <td>808</td>\n",
       "      <td>SHA-256</td>\n",
       "      <td>True</td>\n",
       "      <td>PoW/PoS</td>\n",
       "      <td>0.000000e+00</td>\n",
       "      <td>0</td>\n",
       "    </tr>\n",
       "  </tbody>\n",
       "</table>\n",
       "</div>"
      ],
      "text/plain": [
       "             CoinName Algorithm  IsTrading ProofType  TotalCoinsMined  \\\n",
       "Unnamed: 0                                                              \n",
       "42            42 Coin    Scrypt       True   PoW/PoS     4.199995e+01   \n",
       "365           365Coin       X11       True   PoW/PoS              NaN   \n",
       "404           404Coin    Scrypt       True   PoW/PoS     1.055185e+09   \n",
       "611         SixEleven   SHA-256       True       PoW              NaN   \n",
       "808               808   SHA-256       True   PoW/PoS     0.000000e+00   \n",
       "\n",
       "           TotalCoinSupply  \n",
       "Unnamed: 0                  \n",
       "42                      42  \n",
       "365             2300000000  \n",
       "404              532000000  \n",
       "611                 611000  \n",
       "808                      0  "
      ]
     },
     "execution_count": 77,
     "metadata": {},
     "output_type": "execute_result"
    }
   ],
   "source": [
    "# Keep only cryptocurrencies that are trading\n",
    "df_trading = df[df.IsTrading == True]\n",
    "df_trading.head()"
   ]
  },
  {
   "cell_type": "code",
   "execution_count": 78,
   "metadata": {},
   "outputs": [
    {
     "data": {
      "text/plain": [
       "0"
      ]
     },
     "execution_count": 78,
     "metadata": {},
     "output_type": "execute_result"
    }
   ],
   "source": [
    "# Keep only cryptocurrencies with a working algorithm\n",
    "\n",
    "sum(df_trading.Algorithm.isnull())\n",
    "# All cryptos have a working algorithm"
   ]
  },
  {
   "cell_type": "code",
   "execution_count": 79,
   "metadata": {},
   "outputs": [],
   "source": [
    "# Remove the \"IsTrading\" column\n",
    "\n",
    "df_trading = df_trading.drop(columns = ['IsTrading'])"
   ]
  },
  {
   "cell_type": "code",
   "execution_count": 80,
   "metadata": {},
   "outputs": [
    {
     "data": {
      "text/html": [
       "<div>\n",
       "<style scoped>\n",
       "    .dataframe tbody tr th:only-of-type {\n",
       "        vertical-align: middle;\n",
       "    }\n",
       "\n",
       "    .dataframe tbody tr th {\n",
       "        vertical-align: top;\n",
       "    }\n",
       "\n",
       "    .dataframe thead th {\n",
       "        text-align: right;\n",
       "    }\n",
       "</style>\n",
       "<table border=\"1\" class=\"dataframe\">\n",
       "  <thead>\n",
       "    <tr style=\"text-align: right;\">\n",
       "      <th></th>\n",
       "      <th>CoinName</th>\n",
       "      <th>Algorithm</th>\n",
       "      <th>ProofType</th>\n",
       "      <th>TotalCoinsMined</th>\n",
       "      <th>TotalCoinSupply</th>\n",
       "    </tr>\n",
       "    <tr>\n",
       "      <th>Unnamed: 0</th>\n",
       "      <th></th>\n",
       "      <th></th>\n",
       "      <th></th>\n",
       "      <th></th>\n",
       "      <th></th>\n",
       "    </tr>\n",
       "  </thead>\n",
       "  <tbody>\n",
       "    <tr>\n",
       "      <th>42</th>\n",
       "      <td>42 Coin</td>\n",
       "      <td>Scrypt</td>\n",
       "      <td>PoW/PoS</td>\n",
       "      <td>4.199995e+01</td>\n",
       "      <td>42</td>\n",
       "    </tr>\n",
       "    <tr>\n",
       "      <th>365</th>\n",
       "      <td>365Coin</td>\n",
       "      <td>X11</td>\n",
       "      <td>PoW/PoS</td>\n",
       "      <td>NaN</td>\n",
       "      <td>2300000000</td>\n",
       "    </tr>\n",
       "    <tr>\n",
       "      <th>404</th>\n",
       "      <td>404Coin</td>\n",
       "      <td>Scrypt</td>\n",
       "      <td>PoW/PoS</td>\n",
       "      <td>1.055185e+09</td>\n",
       "      <td>532000000</td>\n",
       "    </tr>\n",
       "  </tbody>\n",
       "</table>\n",
       "</div>"
      ],
      "text/plain": [
       "           CoinName Algorithm ProofType  TotalCoinsMined TotalCoinSupply\n",
       "Unnamed: 0                                                              \n",
       "42          42 Coin    Scrypt   PoW/PoS     4.199995e+01              42\n",
       "365         365Coin       X11   PoW/PoS              NaN      2300000000\n",
       "404         404Coin    Scrypt   PoW/PoS     1.055185e+09       532000000"
      ]
     },
     "execution_count": 80,
     "metadata": {},
     "output_type": "execute_result"
    }
   ],
   "source": [
    "df_trading.head(3)"
   ]
  },
  {
   "cell_type": "code",
   "execution_count": 81,
   "metadata": {},
   "outputs": [
    {
     "name": "stdout",
     "output_type": "stream",
     "text": [
      "Column CoinName has 0 null values\n",
      "Column Algorithm has 0 null values\n",
      "Column ProofType has 0 null values\n",
      "Column TotalCoinsMined has 459 null values\n",
      "Column TotalCoinSupply has 0 null values\n",
      "Duplicate entries: 0\n"
     ]
    }
   ],
   "source": [
    "# Remove rows with at least 1 null value\n",
    "for column in df_trading.columns:\n",
    "    print(f\"Column {column} has {df_trading[column].isnull().sum()} null values\")\n",
    "print(f\"Duplicate entries: {df_trading.duplicated().sum()}\")"
   ]
  },
  {
   "cell_type": "code",
   "execution_count": 82,
   "metadata": {},
   "outputs": [],
   "source": [
    "df_trading.dropna(inplace=True)"
   ]
  },
  {
   "cell_type": "code",
   "execution_count": 83,
   "metadata": {},
   "outputs": [
    {
     "name": "stdout",
     "output_type": "stream",
     "text": [
      "Column CoinName has 0 null values\n",
      "Column Algorithm has 0 null values\n",
      "Column ProofType has 0 null values\n",
      "Column TotalCoinsMined has 0 null values\n",
      "Column TotalCoinSupply has 0 null values\n",
      "Duplicate entries: 0\n"
     ]
    }
   ],
   "source": [
    "for column in df_trading.columns:\n",
    "    print(f\"Column {column} has {df_trading[column].isnull().sum()} null values\")\n",
    "print(f\"Duplicate entries: {df_trading.duplicated().sum()}\")"
   ]
  },
  {
   "cell_type": "code",
   "execution_count": 84,
   "metadata": {},
   "outputs": [
    {
     "data": {
      "text/html": [
       "<div>\n",
       "<style scoped>\n",
       "    .dataframe tbody tr th:only-of-type {\n",
       "        vertical-align: middle;\n",
       "    }\n",
       "\n",
       "    .dataframe tbody tr th {\n",
       "        vertical-align: top;\n",
       "    }\n",
       "\n",
       "    .dataframe thead th {\n",
       "        text-align: right;\n",
       "    }\n",
       "</style>\n",
       "<table border=\"1\" class=\"dataframe\">\n",
       "  <thead>\n",
       "    <tr style=\"text-align: right;\">\n",
       "      <th></th>\n",
       "      <th>CoinName</th>\n",
       "      <th>Algorithm</th>\n",
       "      <th>ProofType</th>\n",
       "      <th>TotalCoinsMined</th>\n",
       "      <th>TotalCoinSupply</th>\n",
       "    </tr>\n",
       "    <tr>\n",
       "      <th>Unnamed: 0</th>\n",
       "      <th></th>\n",
       "      <th></th>\n",
       "      <th></th>\n",
       "      <th></th>\n",
       "      <th></th>\n",
       "    </tr>\n",
       "  </thead>\n",
       "  <tbody>\n",
       "    <tr>\n",
       "      <th>42</th>\n",
       "      <td>42 Coin</td>\n",
       "      <td>Scrypt</td>\n",
       "      <td>PoW/PoS</td>\n",
       "      <td>4.199995e+01</td>\n",
       "      <td>42</td>\n",
       "    </tr>\n",
       "    <tr>\n",
       "      <th>404</th>\n",
       "      <td>404Coin</td>\n",
       "      <td>Scrypt</td>\n",
       "      <td>PoW/PoS</td>\n",
       "      <td>1.055185e+09</td>\n",
       "      <td>532000000</td>\n",
       "    </tr>\n",
       "    <tr>\n",
       "      <th>808</th>\n",
       "      <td>808</td>\n",
       "      <td>SHA-256</td>\n",
       "      <td>PoW/PoS</td>\n",
       "      <td>0.000000e+00</td>\n",
       "      <td>0</td>\n",
       "    </tr>\n",
       "    <tr>\n",
       "      <th>1337</th>\n",
       "      <td>EliteCoin</td>\n",
       "      <td>X13</td>\n",
       "      <td>PoW/PoS</td>\n",
       "      <td>2.927942e+10</td>\n",
       "      <td>314159265359</td>\n",
       "    </tr>\n",
       "    <tr>\n",
       "      <th>BTC</th>\n",
       "      <td>Bitcoin</td>\n",
       "      <td>SHA-256</td>\n",
       "      <td>PoW</td>\n",
       "      <td>1.792718e+07</td>\n",
       "      <td>21000000</td>\n",
       "    </tr>\n",
       "  </tbody>\n",
       "</table>\n",
       "</div>"
      ],
      "text/plain": [
       "             CoinName Algorithm ProofType  TotalCoinsMined TotalCoinSupply\n",
       "Unnamed: 0                                                                \n",
       "42            42 Coin    Scrypt   PoW/PoS     4.199995e+01              42\n",
       "404           404Coin    Scrypt   PoW/PoS     1.055185e+09       532000000\n",
       "808               808   SHA-256   PoW/PoS     0.000000e+00               0\n",
       "1337        EliteCoin       X13   PoW/PoS     2.927942e+10    314159265359\n",
       "BTC           Bitcoin   SHA-256       PoW     1.792718e+07        21000000"
      ]
     },
     "execution_count": 84,
     "metadata": {},
     "output_type": "execute_result"
    }
   ],
   "source": [
    "df_trading.head()"
   ]
  },
  {
   "cell_type": "code",
   "execution_count": 85,
   "metadata": {},
   "outputs": [
    {
     "data": {
      "text/html": [
       "<div>\n",
       "<style scoped>\n",
       "    .dataframe tbody tr th:only-of-type {\n",
       "        vertical-align: middle;\n",
       "    }\n",
       "\n",
       "    .dataframe tbody tr th {\n",
       "        vertical-align: top;\n",
       "    }\n",
       "\n",
       "    .dataframe thead th {\n",
       "        text-align: right;\n",
       "    }\n",
       "</style>\n",
       "<table border=\"1\" class=\"dataframe\">\n",
       "  <thead>\n",
       "    <tr style=\"text-align: right;\">\n",
       "      <th></th>\n",
       "      <th>CoinName</th>\n",
       "      <th>Algorithm</th>\n",
       "      <th>ProofType</th>\n",
       "      <th>TotalCoinsMined</th>\n",
       "      <th>TotalCoinSupply</th>\n",
       "    </tr>\n",
       "    <tr>\n",
       "      <th>Unnamed: 0</th>\n",
       "      <th></th>\n",
       "      <th></th>\n",
       "      <th></th>\n",
       "      <th></th>\n",
       "      <th></th>\n",
       "    </tr>\n",
       "  </thead>\n",
       "  <tbody>\n",
       "    <tr>\n",
       "      <th>42</th>\n",
       "      <td>42 Coin</td>\n",
       "      <td>Scrypt</td>\n",
       "      <td>PoW/PoS</td>\n",
       "      <td>4.199995e+01</td>\n",
       "      <td>42</td>\n",
       "    </tr>\n",
       "    <tr>\n",
       "      <th>404</th>\n",
       "      <td>404Coin</td>\n",
       "      <td>Scrypt</td>\n",
       "      <td>PoW/PoS</td>\n",
       "      <td>1.055185e+09</td>\n",
       "      <td>532000000</td>\n",
       "    </tr>\n",
       "    <tr>\n",
       "      <th>1337</th>\n",
       "      <td>EliteCoin</td>\n",
       "      <td>X13</td>\n",
       "      <td>PoW/PoS</td>\n",
       "      <td>2.927942e+10</td>\n",
       "      <td>314159265359</td>\n",
       "    </tr>\n",
       "    <tr>\n",
       "      <th>BTC</th>\n",
       "      <td>Bitcoin</td>\n",
       "      <td>SHA-256</td>\n",
       "      <td>PoW</td>\n",
       "      <td>1.792718e+07</td>\n",
       "      <td>21000000</td>\n",
       "    </tr>\n",
       "    <tr>\n",
       "      <th>ETH</th>\n",
       "      <td>Ethereum</td>\n",
       "      <td>Ethash</td>\n",
       "      <td>PoW</td>\n",
       "      <td>1.076842e+08</td>\n",
       "      <td>0</td>\n",
       "    </tr>\n",
       "  </tbody>\n",
       "</table>\n",
       "</div>"
      ],
      "text/plain": [
       "             CoinName Algorithm ProofType  TotalCoinsMined TotalCoinSupply\n",
       "Unnamed: 0                                                                \n",
       "42            42 Coin    Scrypt   PoW/PoS     4.199995e+01              42\n",
       "404           404Coin    Scrypt   PoW/PoS     1.055185e+09       532000000\n",
       "1337        EliteCoin       X13   PoW/PoS     2.927942e+10    314159265359\n",
       "BTC           Bitcoin   SHA-256       PoW     1.792718e+07        21000000\n",
       "ETH          Ethereum    Ethash       PoW     1.076842e+08               0"
      ]
     },
     "execution_count": 85,
     "metadata": {},
     "output_type": "execute_result"
    }
   ],
   "source": [
    "# Remove rows with cryptocurrencies having no coins mined\n",
    "\n",
    "df_trading = df_trading[df_trading.TotalCoinsMined != 0]\n",
    "df_trading.head()"
   ]
  },
  {
   "cell_type": "code",
   "execution_count": 86,
   "metadata": {},
   "outputs": [
    {
     "data": {
      "text/plain": [
       "CoinName           0\n",
       "Algorithm          0\n",
       "ProofType          0\n",
       "TotalCoinsMined    0\n",
       "TotalCoinSupply    0\n",
       "dtype: int64"
      ]
     },
     "execution_count": 86,
     "metadata": {},
     "output_type": "execute_result"
    }
   ],
   "source": [
    "# Drop rows where there are 'N/A' text values\n",
    "df_trading.isnull().sum()"
   ]
  },
  {
   "cell_type": "code",
   "execution_count": 87,
   "metadata": {},
   "outputs": [
    {
     "data": {
      "text/html": [
       "<div>\n",
       "<style scoped>\n",
       "    .dataframe tbody tr th:only-of-type {\n",
       "        vertical-align: middle;\n",
       "    }\n",
       "\n",
       "    .dataframe tbody tr th {\n",
       "        vertical-align: top;\n",
       "    }\n",
       "\n",
       "    .dataframe thead th {\n",
       "        text-align: right;\n",
       "    }\n",
       "</style>\n",
       "<table border=\"1\" class=\"dataframe\">\n",
       "  <thead>\n",
       "    <tr style=\"text-align: right;\">\n",
       "      <th></th>\n",
       "      <th>CoinName</th>\n",
       "    </tr>\n",
       "    <tr>\n",
       "      <th>Unnamed: 0</th>\n",
       "      <th></th>\n",
       "    </tr>\n",
       "  </thead>\n",
       "  <tbody>\n",
       "    <tr>\n",
       "      <th>42</th>\n",
       "      <td>42 Coin</td>\n",
       "    </tr>\n",
       "    <tr>\n",
       "      <th>404</th>\n",
       "      <td>404Coin</td>\n",
       "    </tr>\n",
       "    <tr>\n",
       "      <th>1337</th>\n",
       "      <td>EliteCoin</td>\n",
       "    </tr>\n",
       "    <tr>\n",
       "      <th>BTC</th>\n",
       "      <td>Bitcoin</td>\n",
       "    </tr>\n",
       "    <tr>\n",
       "      <th>ETH</th>\n",
       "      <td>Ethereum</td>\n",
       "    </tr>\n",
       "  </tbody>\n",
       "</table>\n",
       "</div>"
      ],
      "text/plain": [
       "             CoinName\n",
       "Unnamed: 0           \n",
       "42            42 Coin\n",
       "404           404Coin\n",
       "1337        EliteCoin\n",
       "BTC           Bitcoin\n",
       "ETH          Ethereum"
      ]
     },
     "execution_count": 87,
     "metadata": {},
     "output_type": "execute_result"
    }
   ],
   "source": [
    "# Store the 'CoinName'column in its own DataFrame prior to dropping it from crypto_df\n",
    "\n",
    "coins_name = df_trading.CoinName.to_frame()\n",
    "coins_name.head()"
   ]
  },
  {
   "cell_type": "code",
   "execution_count": 88,
   "metadata": {},
   "outputs": [
    {
     "data": {
      "text/html": [
       "<div>\n",
       "<style scoped>\n",
       "    .dataframe tbody tr th:only-of-type {\n",
       "        vertical-align: middle;\n",
       "    }\n",
       "\n",
       "    .dataframe tbody tr th {\n",
       "        vertical-align: top;\n",
       "    }\n",
       "\n",
       "    .dataframe thead th {\n",
       "        text-align: right;\n",
       "    }\n",
       "</style>\n",
       "<table border=\"1\" class=\"dataframe\">\n",
       "  <thead>\n",
       "    <tr style=\"text-align: right;\">\n",
       "      <th></th>\n",
       "      <th>Algorithm</th>\n",
       "      <th>ProofType</th>\n",
       "      <th>TotalCoinsMined</th>\n",
       "      <th>TotalCoinSupply</th>\n",
       "    </tr>\n",
       "    <tr>\n",
       "      <th>Unnamed: 0</th>\n",
       "      <th></th>\n",
       "      <th></th>\n",
       "      <th></th>\n",
       "      <th></th>\n",
       "    </tr>\n",
       "  </thead>\n",
       "  <tbody>\n",
       "    <tr>\n",
       "      <th>42</th>\n",
       "      <td>Scrypt</td>\n",
       "      <td>PoW/PoS</td>\n",
       "      <td>4.199995e+01</td>\n",
       "      <td>42</td>\n",
       "    </tr>\n",
       "    <tr>\n",
       "      <th>404</th>\n",
       "      <td>Scrypt</td>\n",
       "      <td>PoW/PoS</td>\n",
       "      <td>1.055185e+09</td>\n",
       "      <td>532000000</td>\n",
       "    </tr>\n",
       "    <tr>\n",
       "      <th>1337</th>\n",
       "      <td>X13</td>\n",
       "      <td>PoW/PoS</td>\n",
       "      <td>2.927942e+10</td>\n",
       "      <td>314159265359</td>\n",
       "    </tr>\n",
       "    <tr>\n",
       "      <th>BTC</th>\n",
       "      <td>SHA-256</td>\n",
       "      <td>PoW</td>\n",
       "      <td>1.792718e+07</td>\n",
       "      <td>21000000</td>\n",
       "    </tr>\n",
       "    <tr>\n",
       "      <th>ETH</th>\n",
       "      <td>Ethash</td>\n",
       "      <td>PoW</td>\n",
       "      <td>1.076842e+08</td>\n",
       "      <td>0</td>\n",
       "    </tr>\n",
       "  </tbody>\n",
       "</table>\n",
       "</div>"
      ],
      "text/plain": [
       "           Algorithm ProofType  TotalCoinsMined TotalCoinSupply\n",
       "Unnamed: 0                                                     \n",
       "42            Scrypt   PoW/PoS     4.199995e+01              42\n",
       "404           Scrypt   PoW/PoS     1.055185e+09       532000000\n",
       "1337             X13   PoW/PoS     2.927942e+10    314159265359\n",
       "BTC          SHA-256       PoW     1.792718e+07        21000000\n",
       "ETH           Ethash       PoW     1.076842e+08               0"
      ]
     },
     "execution_count": 88,
     "metadata": {},
     "output_type": "execute_result"
    }
   ],
   "source": [
    "# Drop the 'CoinName' column since it's not going to be used on the clustering algorithm\n",
    "\n",
    "df_trading.drop(columns=['CoinName'], inplace=True)\n",
    "df_trading.head()"
   ]
  },
  {
   "cell_type": "code",
   "execution_count": 89,
   "metadata": {},
   "outputs": [
    {
     "data": {
      "text/plain": [
       "Algorithm           object\n",
       "ProofType           object\n",
       "TotalCoinsMined    float64\n",
       "TotalCoinSupply     object\n",
       "dtype: object"
      ]
     },
     "execution_count": 89,
     "metadata": {},
     "output_type": "execute_result"
    }
   ],
   "source": [
    "df_trading.dtypes"
   ]
  },
  {
   "cell_type": "code",
   "execution_count": 90,
   "metadata": {},
   "outputs": [
    {
     "data": {
      "text/html": [
       "<div>\n",
       "<style scoped>\n",
       "    .dataframe tbody tr th:only-of-type {\n",
       "        vertical-align: middle;\n",
       "    }\n",
       "\n",
       "    .dataframe tbody tr th {\n",
       "        vertical-align: top;\n",
       "    }\n",
       "\n",
       "    .dataframe thead th {\n",
       "        text-align: right;\n",
       "    }\n",
       "</style>\n",
       "<table border=\"1\" class=\"dataframe\">\n",
       "  <thead>\n",
       "    <tr style=\"text-align: right;\">\n",
       "      <th></th>\n",
       "      <th>TotalCoinsMined</th>\n",
       "      <th>TotalCoinSupply</th>\n",
       "      <th>Algorithm_1GB AES Pattern Search</th>\n",
       "      <th>Algorithm_536</th>\n",
       "      <th>Algorithm_Argon2d</th>\n",
       "      <th>Algorithm_BLAKE256</th>\n",
       "      <th>Algorithm_Blake</th>\n",
       "      <th>Algorithm_Blake2S</th>\n",
       "      <th>Algorithm_Blake2b</th>\n",
       "      <th>Algorithm_C11</th>\n",
       "      <th>...</th>\n",
       "      <th>ProofType_PoW/PoS</th>\n",
       "      <th>ProofType_PoW/PoS</th>\n",
       "      <th>ProofType_PoW/PoW</th>\n",
       "      <th>ProofType_PoW/nPoS</th>\n",
       "      <th>ProofType_Pos</th>\n",
       "      <th>ProofType_Proof of Authority</th>\n",
       "      <th>ProofType_Proof of Trust</th>\n",
       "      <th>ProofType_TPoS</th>\n",
       "      <th>ProofType_Zero-Knowledge Proof</th>\n",
       "      <th>ProofType_dPoW/PoW</th>\n",
       "    </tr>\n",
       "    <tr>\n",
       "      <th>Unnamed: 0</th>\n",
       "      <th></th>\n",
       "      <th></th>\n",
       "      <th></th>\n",
       "      <th></th>\n",
       "      <th></th>\n",
       "      <th></th>\n",
       "      <th></th>\n",
       "      <th></th>\n",
       "      <th></th>\n",
       "      <th></th>\n",
       "      <th></th>\n",
       "      <th></th>\n",
       "      <th></th>\n",
       "      <th></th>\n",
       "      <th></th>\n",
       "      <th></th>\n",
       "      <th></th>\n",
       "      <th></th>\n",
       "      <th></th>\n",
       "      <th></th>\n",
       "      <th></th>\n",
       "    </tr>\n",
       "  </thead>\n",
       "  <tbody>\n",
       "    <tr>\n",
       "      <th>42</th>\n",
       "      <td>4.199995e+01</td>\n",
       "      <td>42</td>\n",
       "      <td>0</td>\n",
       "      <td>0</td>\n",
       "      <td>0</td>\n",
       "      <td>0</td>\n",
       "      <td>0</td>\n",
       "      <td>0</td>\n",
       "      <td>0</td>\n",
       "      <td>0</td>\n",
       "      <td>...</td>\n",
       "      <td>1</td>\n",
       "      <td>0</td>\n",
       "      <td>0</td>\n",
       "      <td>0</td>\n",
       "      <td>0</td>\n",
       "      <td>0</td>\n",
       "      <td>0</td>\n",
       "      <td>0</td>\n",
       "      <td>0</td>\n",
       "      <td>0</td>\n",
       "    </tr>\n",
       "    <tr>\n",
       "      <th>404</th>\n",
       "      <td>1.055185e+09</td>\n",
       "      <td>532000000</td>\n",
       "      <td>0</td>\n",
       "      <td>0</td>\n",
       "      <td>0</td>\n",
       "      <td>0</td>\n",
       "      <td>0</td>\n",
       "      <td>0</td>\n",
       "      <td>0</td>\n",
       "      <td>0</td>\n",
       "      <td>...</td>\n",
       "      <td>1</td>\n",
       "      <td>0</td>\n",
       "      <td>0</td>\n",
       "      <td>0</td>\n",
       "      <td>0</td>\n",
       "      <td>0</td>\n",
       "      <td>0</td>\n",
       "      <td>0</td>\n",
       "      <td>0</td>\n",
       "      <td>0</td>\n",
       "    </tr>\n",
       "    <tr>\n",
       "      <th>1337</th>\n",
       "      <td>2.927942e+10</td>\n",
       "      <td>314159265359</td>\n",
       "      <td>0</td>\n",
       "      <td>0</td>\n",
       "      <td>0</td>\n",
       "      <td>0</td>\n",
       "      <td>0</td>\n",
       "      <td>0</td>\n",
       "      <td>0</td>\n",
       "      <td>0</td>\n",
       "      <td>...</td>\n",
       "      <td>1</td>\n",
       "      <td>0</td>\n",
       "      <td>0</td>\n",
       "      <td>0</td>\n",
       "      <td>0</td>\n",
       "      <td>0</td>\n",
       "      <td>0</td>\n",
       "      <td>0</td>\n",
       "      <td>0</td>\n",
       "      <td>0</td>\n",
       "    </tr>\n",
       "  </tbody>\n",
       "</table>\n",
       "<p>3 rows × 100 columns</p>\n",
       "</div>"
      ],
      "text/plain": [
       "            TotalCoinsMined TotalCoinSupply  Algorithm_1GB AES Pattern Search  \\\n",
       "Unnamed: 0                                                                      \n",
       "42             4.199995e+01              42                                 0   \n",
       "404            1.055185e+09       532000000                                 0   \n",
       "1337           2.927942e+10    314159265359                                 0   \n",
       "\n",
       "            Algorithm_536  Algorithm_Argon2d  Algorithm_BLAKE256  \\\n",
       "Unnamed: 0                                                         \n",
       "42                      0                  0                   0   \n",
       "404                     0                  0                   0   \n",
       "1337                    0                  0                   0   \n",
       "\n",
       "            Algorithm_Blake  Algorithm_Blake2S  Algorithm_Blake2b  \\\n",
       "Unnamed: 0                                                          \n",
       "42                        0                  0                  0   \n",
       "404                       0                  0                  0   \n",
       "1337                      0                  0                  0   \n",
       "\n",
       "            Algorithm_C11  ...  ProofType_PoW/PoS  ProofType_PoW/PoS   \\\n",
       "Unnamed: 0                 ...                                          \n",
       "42                      0  ...                  1                   0   \n",
       "404                     0  ...                  1                   0   \n",
       "1337                    0  ...                  1                   0   \n",
       "\n",
       "            ProofType_PoW/PoW  ProofType_PoW/nPoS  ProofType_Pos  \\\n",
       "Unnamed: 0                                                         \n",
       "42                          0                   0              0   \n",
       "404                         0                   0              0   \n",
       "1337                        0                   0              0   \n",
       "\n",
       "            ProofType_Proof of Authority  ProofType_Proof of Trust  \\\n",
       "Unnamed: 0                                                           \n",
       "42                                     0                         0   \n",
       "404                                    0                         0   \n",
       "1337                                   0                         0   \n",
       "\n",
       "            ProofType_TPoS  ProofType_Zero-Knowledge Proof  ProofType_dPoW/PoW  \n",
       "Unnamed: 0                                                                      \n",
       "42                       0                               0                   0  \n",
       "404                      0                               0                   0  \n",
       "1337                     0                               0                   0  \n",
       "\n",
       "[3 rows x 100 columns]"
      ]
     },
     "execution_count": 90,
     "metadata": {},
     "output_type": "execute_result"
    }
   ],
   "source": [
    "# Create dummy variables for text features\n",
    "\n",
    "X = pd.get_dummies(df_trading, columns=[\"Algorithm\", \"ProofType\"])\n",
    "X.shape\n",
    "X.head(3)"
   ]
  },
  {
   "cell_type": "code",
   "execution_count": 91,
   "metadata": {},
   "outputs": [
    {
     "data": {
      "text/plain": [
       "StandardScaler(copy=True, with_mean=True, with_std=True)"
      ]
     },
     "execution_count": 91,
     "metadata": {},
     "output_type": "execute_result"
    }
   ],
   "source": [
    "# Standardize data\n",
    "\n",
    "data_scaler = StandardScaler()\n",
    "data_scaler.fit(X)"
   ]
  },
  {
   "cell_type": "code",
   "execution_count": 92,
   "metadata": {},
   "outputs": [
    {
     "data": {
      "text/plain": [
       "array([[-0.09358885, -0.14499604, -0.0433555 , ..., -0.0433555 ,\n",
       "        -0.0433555 , -0.0433555 ],\n",
       "       [ 0.52587231,  4.4937636 , -0.0433555 , ..., -0.0433555 ,\n",
       "        -0.0433555 , -0.0433555 ],\n",
       "       [-0.11635442, -0.15255408, -0.0433555 , ..., -0.0433555 ,\n",
       "        -0.0433555 , -0.0433555 ],\n",
       "       ...,\n",
       "       [-0.09523411, -0.13215444, -0.0433555 , ..., -0.0433555 ,\n",
       "        -0.0433555 , -0.0433555 ],\n",
       "       [-0.11658774, -0.15255408, -0.0433555 , ..., -0.0433555 ,\n",
       "        -0.0433555 , -0.0433555 ],\n",
       "       [-0.11674507, -0.15284989, -0.0433555 , ..., -0.0433555 ,\n",
       "        -0.0433555 , -0.0433555 ]])"
      ]
     },
     "execution_count": 92,
     "metadata": {},
     "output_type": "execute_result"
    }
   ],
   "source": [
    "X_scaled = data_scaler.transform(X)\n",
    "X_scaled[1:]"
   ]
  },
  {
   "cell_type": "markdown",
   "metadata": {},
   "source": [
    "### Reducing Dimensions Using PCA"
   ]
  },
  {
   "cell_type": "code",
   "execution_count": 93,
   "metadata": {},
   "outputs": [],
   "source": [
    "# Use PCA to reduce dimensions to 3 principal components\n",
    "\n",
    "pca = PCA(n_components=3)\n",
    "coins_pca = pca.fit_transform(X_scaled)"
   ]
  },
  {
   "cell_type": "code",
   "execution_count": 96,
   "metadata": {},
   "outputs": [
    {
     "data": {
      "text/html": [
       "<div>\n",
       "<style scoped>\n",
       "    .dataframe tbody tr th:only-of-type {\n",
       "        vertical-align: middle;\n",
       "    }\n",
       "\n",
       "    .dataframe tbody tr th {\n",
       "        vertical-align: top;\n",
       "    }\n",
       "\n",
       "    .dataframe thead th {\n",
       "        text-align: right;\n",
       "    }\n",
       "</style>\n",
       "<table border=\"1\" class=\"dataframe\">\n",
       "  <thead>\n",
       "    <tr style=\"text-align: right;\">\n",
       "      <th></th>\n",
       "      <th>PC 1</th>\n",
       "      <th>PC 2</th>\n",
       "      <th>PC 3</th>\n",
       "    </tr>\n",
       "    <tr>\n",
       "      <th>Unnamed: 0</th>\n",
       "      <th></th>\n",
       "      <th></th>\n",
       "      <th></th>\n",
       "    </tr>\n",
       "  </thead>\n",
       "  <tbody>\n",
       "    <tr>\n",
       "      <th>42</th>\n",
       "      <td>-0.332981</td>\n",
       "      <td>0.943650</td>\n",
       "      <td>-0.613667</td>\n",
       "    </tr>\n",
       "    <tr>\n",
       "      <th>404</th>\n",
       "      <td>-0.316304</td>\n",
       "      <td>0.943729</td>\n",
       "      <td>-0.614192</td>\n",
       "    </tr>\n",
       "    <tr>\n",
       "      <th>1337</th>\n",
       "      <td>2.313592</td>\n",
       "      <td>1.577694</td>\n",
       "      <td>-0.767406</td>\n",
       "    </tr>\n",
       "    <tr>\n",
       "      <th>BTC</th>\n",
       "      <td>-0.148416</td>\n",
       "      <td>-1.287989</td>\n",
       "      <td>0.169944</td>\n",
       "    </tr>\n",
       "    <tr>\n",
       "      <th>ETH</th>\n",
       "      <td>-0.152403</td>\n",
       "      <td>-1.998210</td>\n",
       "      <td>0.435083</td>\n",
       "    </tr>\n",
       "  </tbody>\n",
       "</table>\n",
       "</div>"
      ],
      "text/plain": [
       "                PC 1      PC 2      PC 3\n",
       "Unnamed: 0                              \n",
       "42         -0.332981  0.943650 -0.613667\n",
       "404        -0.316304  0.943729 -0.614192\n",
       "1337        2.313592  1.577694 -0.767406\n",
       "BTC        -0.148416 -1.287989  0.169944\n",
       "ETH        -0.152403 -1.998210  0.435083"
      ]
     },
     "execution_count": 96,
     "metadata": {},
     "output_type": "execute_result"
    }
   ],
   "source": [
    "# Create a DataFrame with the principal components data\n",
    "pcs_df = pd.DataFrame(\n",
    "    data=coins_pca, columns=[\"PC 1\", \"PC 2\", \"PC 3\"], index=df_trading.index\n",
    ")\n",
    "pcs_df.head()"
   ]
  },
  {
   "cell_type": "code",
   "execution_count": 97,
   "metadata": {},
   "outputs": [
    {
     "data": {
      "text/plain": [
       "array([0.02737243, 0.02090205, 0.02008775])"
      ]
     },
     "execution_count": 97,
     "metadata": {},
     "output_type": "execute_result"
    }
   ],
   "source": [
    "pca.explained_variance_ratio_"
   ]
  },
  {
   "cell_type": "markdown",
   "metadata": {},
   "source": [
    "### Clustering Crytocurrencies Using K-Means\n",
    "\n",
    "#### Find the Best Value for `k` Using the Elbow Curve"
   ]
  },
  {
   "cell_type": "code",
   "execution_count": 98,
   "metadata": {},
   "outputs": [
    {
     "data": {},
     "metadata": {},
     "output_type": "display_data"
    },
    {
     "data": {
      "application/vnd.holoviews_exec.v0+json": "",
      "text/html": [
       "<div id='1096'>\n",
       "\n",
       "\n",
       "\n",
       "\n",
       "\n",
       "  <div class=\"bk-root\" id=\"bd34faa7-cc0d-486e-894d-a82ac10d62b7\" data-root-id=\"1096\"></div>\n",
       "</div>\n",
       "<script type=\"application/javascript\">\n",
       "    function msg_handler(msg) {\n",
       "      var metadata = msg.metadata;\n",
       "      var buffers = msg.buffers;\n",
       "      var msg = msg.content.data;\n",
       "      if ((metadata.msg_type == \"Ready\")) {\n",
       "        if (metadata.content) {\n",
       "          console.log(\"Python callback returned following output:\", metadata.content);\n",
       "        }\n",
       "      } else if (metadata.msg_type == \"Error\") {\n",
       "        console.log(\"Python failed with the following traceback:\", metadata.traceback)\n",
       "      } else {\n",
       "        \n",
       "var plot_id = \"1096\";\n",
       "\n",
       "if ((plot_id in window.PyViz.plot_index) && (window.PyViz.plot_index[plot_id] != null)) {\n",
       "  var plot = window.PyViz.plot_index[plot_id];\n",
       "} else if ((Bokeh !== undefined) && (plot_id in Bokeh.index)) {\n",
       "  var plot = Bokeh.index[plot_id];\n",
       "}\n",
       "\n",
       "if (plot == null) {\n",
       "  return\n",
       "}\n",
       "\n",
       "if (plot_id in window.PyViz.receivers) {\n",
       "  var receiver = window.PyViz.receivers[plot_id];\n",
       "} else {\n",
       "  var receiver = new Bokeh.protocol.Receiver();\n",
       "  window.PyViz.receivers[plot_id] = receiver;\n",
       "}\n",
       "\n",
       "if ((buffers != undefined) && (buffers.length > 0)) {\n",
       "  receiver.consume(buffers[0].buffer)\n",
       "} else {\n",
       "  receiver.consume(msg)\n",
       "}\n",
       "\n",
       "const comm_msg = receiver.message;\n",
       "if ((comm_msg != null) && (Object.keys(comm_msg.content).length > 0)) {\n",
       "  plot.model.document.apply_json_patch(comm_msg.content, comm_msg.buffers)\n",
       "}\n",
       "\n",
       "      }\n",
       "    }\n",
       "    if ((window.PyViz == undefined) || (!window.PyViz.comm_manager)) {\n",
       "      console.log(\"Could not find comm manager\")\n",
       "    } else {\n",
       "      window.PyViz.comm_manager.register_target('1096', '0c1d8719583c49aabae5fb8b4a1ccb62', msg_handler);\n",
       "    }\n",
       "    \n",
       "(function(root) {\n",
       "  function embed_document(root) {\n",
       "  var docs_json = {\"e8c29784-3c4b-4976-b0e7-2dbf7c67e71c\":{\"roots\":{\"references\":[{\"attributes\":{\"callback\":null,\"end\":10.0,\"reset_end\":10.0,\"reset_start\":1.0,\"start\":1.0,\"tags\":[[[\"k\",\"k\",null]]]},\"id\":\"1098\",\"type\":\"Range1d\"},{\"attributes\":{},\"id\":\"1121\",\"type\":\"PanTool\"},{\"attributes\":{\"text\":\"Elbow Curve\",\"text_color\":{\"value\":\"black\"},\"text_font_size\":{\"value\":\"12pt\"}},\"id\":\"1102\",\"type\":\"Title\"},{\"attributes\":{\"source\":{\"id\":\"1132\",\"type\":\"ColumnDataSource\"}},\"id\":\"1139\",\"type\":\"CDSView\"},{\"attributes\":{},\"id\":\"1133\",\"type\":\"Selection\"},{\"attributes\":{\"axis_label\":\"inertia\",\"axis_label_text_font_size\":{\"value\":\"10pt\"},\"bounds\":\"auto\",\"formatter\":{\"id\":\"1146\",\"type\":\"BasicTickFormatter\"},\"major_label_orientation\":\"horizontal\",\"ticker\":{\"id\":\"1116\",\"type\":\"BasicTicker\"}},\"id\":\"1115\",\"type\":\"LinearAxis\"},{\"attributes\":{},\"id\":\"1122\",\"type\":\"WheelZoomTool\"},{\"attributes\":{\"ticks\":[1,2,3,4,5,6,7,8,9,10]},\"id\":\"1140\",\"type\":\"FixedTicker\"},{\"attributes\":{\"callback\":null,\"renderers\":[{\"id\":\"1138\",\"type\":\"GlyphRenderer\"}],\"tags\":[\"hv_created\"],\"tooltips\":[[\"k\",\"@{k}\"],[\"inertia\",\"@{inertia}\"]]},\"id\":\"1100\",\"type\":\"HoverTool\"},{\"attributes\":{},\"id\":\"1120\",\"type\":\"SaveTool\"},{\"attributes\":{\"overlay\":{\"id\":\"1151\",\"type\":\"BoxAnnotation\"}},\"id\":\"1123\",\"type\":\"BoxZoomTool\"},{\"attributes\":{\"line_alpha\":0.1,\"line_color\":\"#1f77b3\",\"line_width\":2,\"x\":{\"field\":\"k\"},\"y\":{\"field\":\"inertia\"}},\"id\":\"1136\",\"type\":\"Line\"},{\"attributes\":{},\"id\":\"1108\",\"type\":\"LinearScale\"},{\"attributes\":{\"callback\":null,\"end\":3993.714842628195,\"reset_end\":3993.714842628195,\"reset_start\":-206.38163651516166,\"start\":-206.38163651516166,\"tags\":[[[\"inertia\",\"inertia\",null]]]},\"id\":\"1099\",\"type\":\"Range1d\"},{\"attributes\":{\"margin\":[5,5,5,5],\"name\":\"HSpacer01703\",\"sizing_mode\":\"stretch_width\"},\"id\":\"1097\",\"type\":\"Spacer\"},{\"attributes\":{\"callback\":null,\"data\":{\"inertia\":{\"__ndarray__\":\"3B4L4ml3rECMoa5491WjQMZNQRC+T5dAZTgijmZdgUDadRoGCw94QIzwhzkrF3NAfH/w/NSZbkD85HzmPZ9oQPCbJZDF/2NADdwrfwv0YUA=\",\"dtype\":\"float64\",\"shape\":[10]},\"k\":[1,2,3,4,5,6,7,8,9,10]},\"selected\":{\"id\":\"1133\",\"type\":\"Selection\"},\"selection_policy\":{\"id\":\"1152\",\"type\":\"UnionRenderers\"}},\"id\":\"1132\",\"type\":\"ColumnDataSource\"},{\"attributes\":{\"align\":null,\"below\":[{\"id\":\"1110\",\"type\":\"LinearAxis\"}],\"center\":[{\"id\":\"1114\",\"type\":\"Grid\"},{\"id\":\"1119\",\"type\":\"Grid\"}],\"left\":[{\"id\":\"1115\",\"type\":\"LinearAxis\"}],\"margin\":null,\"min_border_bottom\":10,\"min_border_left\":10,\"min_border_right\":10,\"min_border_top\":10,\"plot_height\":300,\"plot_width\":700,\"renderers\":[{\"id\":\"1138\",\"type\":\"GlyphRenderer\"}],\"sizing_mode\":\"fixed\",\"title\":{\"id\":\"1102\",\"type\":\"Title\"},\"toolbar\":{\"id\":\"1125\",\"type\":\"Toolbar\"},\"x_range\":{\"id\":\"1098\",\"type\":\"Range1d\"},\"x_scale\":{\"id\":\"1106\",\"type\":\"LinearScale\"},\"y_range\":{\"id\":\"1099\",\"type\":\"Range1d\"},\"y_scale\":{\"id\":\"1108\",\"type\":\"LinearScale\"}},\"id\":\"1101\",\"subtype\":\"Figure\",\"type\":\"Plot\"},{\"attributes\":{\"margin\":[5,5,5,5],\"name\":\"HSpacer01704\",\"sizing_mode\":\"stretch_width\"},\"id\":\"1154\",\"type\":\"Spacer\"},{\"attributes\":{\"data_source\":{\"id\":\"1132\",\"type\":\"ColumnDataSource\"},\"glyph\":{\"id\":\"1135\",\"type\":\"Line\"},\"hover_glyph\":null,\"muted_glyph\":{\"id\":\"1137\",\"type\":\"Line\"},\"nonselection_glyph\":{\"id\":\"1136\",\"type\":\"Line\"},\"selection_glyph\":null,\"view\":{\"id\":\"1139\",\"type\":\"CDSView\"}},\"id\":\"1138\",\"type\":\"GlyphRenderer\"},{\"attributes\":{},\"id\":\"1124\",\"type\":\"ResetTool\"},{\"attributes\":{\"bottom_units\":\"screen\",\"fill_alpha\":{\"value\":0.5},\"fill_color\":{\"value\":\"lightgrey\"},\"left_units\":\"screen\",\"level\":\"overlay\",\"line_alpha\":{\"value\":1.0},\"line_color\":{\"value\":\"black\"},\"line_dash\":[4,4],\"line_width\":{\"value\":2},\"render_mode\":\"css\",\"right_units\":\"screen\",\"top_units\":\"screen\"},\"id\":\"1151\",\"type\":\"BoxAnnotation\"},{\"attributes\":{\"dimension\":1,\"grid_line_color\":null,\"ticker\":{\"id\":\"1116\",\"type\":\"BasicTicker\"}},\"id\":\"1119\",\"type\":\"Grid\"},{\"attributes\":{\"line_alpha\":0.2,\"line_color\":\"#1f77b3\",\"line_width\":2,\"x\":{\"field\":\"k\"},\"y\":{\"field\":\"inertia\"}},\"id\":\"1137\",\"type\":\"Line\"},{\"attributes\":{},\"id\":\"1152\",\"type\":\"UnionRenderers\"},{\"attributes\":{\"children\":[{\"id\":\"1097\",\"type\":\"Spacer\"},{\"id\":\"1101\",\"subtype\":\"Figure\",\"type\":\"Plot\"},{\"id\":\"1154\",\"type\":\"Spacer\"}],\"margin\":[0,0,0,0],\"name\":\"Row01699\",\"tags\":[\"embedded\"]},\"id\":\"1096\",\"type\":\"Row\"},{\"attributes\":{},\"id\":\"1142\",\"type\":\"BasicTickFormatter\"},{\"attributes\":{\"axis_label\":\"k\",\"axis_label_text_font_size\":{\"value\":\"10pt\"},\"bounds\":\"auto\",\"formatter\":{\"id\":\"1142\",\"type\":\"BasicTickFormatter\"},\"major_label_orientation\":\"horizontal\",\"ticker\":{\"id\":\"1140\",\"type\":\"FixedTicker\"}},\"id\":\"1110\",\"type\":\"LinearAxis\"},{\"attributes\":{},\"id\":\"1106\",\"type\":\"LinearScale\"},{\"attributes\":{},\"id\":\"1146\",\"type\":\"BasicTickFormatter\"},{\"attributes\":{\"line_color\":\"#1f77b3\",\"line_width\":2,\"x\":{\"field\":\"k\"},\"y\":{\"field\":\"inertia\"}},\"id\":\"1135\",\"type\":\"Line\"},{\"attributes\":{},\"id\":\"1111\",\"type\":\"BasicTicker\"},{\"attributes\":{\"grid_line_color\":null,\"ticker\":{\"id\":\"1111\",\"type\":\"BasicTicker\"}},\"id\":\"1114\",\"type\":\"Grid\"},{\"attributes\":{\"active_drag\":\"auto\",\"active_inspect\":\"auto\",\"active_multi\":null,\"active_scroll\":\"auto\",\"active_tap\":\"auto\",\"tools\":[{\"id\":\"1100\",\"type\":\"HoverTool\"},{\"id\":\"1120\",\"type\":\"SaveTool\"},{\"id\":\"1121\",\"type\":\"PanTool\"},{\"id\":\"1122\",\"type\":\"WheelZoomTool\"},{\"id\":\"1123\",\"type\":\"BoxZoomTool\"},{\"id\":\"1124\",\"type\":\"ResetTool\"}]},\"id\":\"1125\",\"type\":\"Toolbar\"},{\"attributes\":{},\"id\":\"1116\",\"type\":\"BasicTicker\"}],\"root_ids\":[\"1096\"]},\"title\":\"Bokeh Application\",\"version\":\"1.4.0\"}};\n",
       "  var render_items = [{\"docid\":\"e8c29784-3c4b-4976-b0e7-2dbf7c67e71c\",\"roots\":{\"1096\":\"bd34faa7-cc0d-486e-894d-a82ac10d62b7\"}}];\n",
       "  root.Bokeh.embed.embed_items_notebook(docs_json, render_items);\n",
       "  }\n",
       "if (root.Bokeh !== undefined) {\n",
       "    embed_document(root);\n",
       "  } else {\n",
       "    var attempts = 0;\n",
       "    var timer = setInterval(function(root) {\n",
       "      if (root.Bokeh !== undefined) {\n",
       "        clearInterval(timer);\n",
       "        embed_document(root);\n",
       "      } else if (document.readyState == \"complete\") {\n",
       "        attempts++;\n",
       "        if (attempts > 100) {\n",
       "          clearInterval(timer);\n",
       "          console.log(\"Bokeh: ERROR: Unable to run BokehJS code because BokehJS library is missing\");\n",
       "        }\n",
       "      }\n",
       "    }, 10, root)\n",
       "  }\n",
       "})(window);</script>"
      ],
      "text/plain": [
       ":Curve   [k]   (inertia)"
      ]
     },
     "execution_count": 98,
     "metadata": {
      "application/vnd.holoviews_exec.v0+json": {
       "id": "1096"
      }
     },
     "output_type": "execute_result"
    }
   ],
   "source": [
    "inertia = []\n",
    "k = list(range(1, 11))\n",
    "\n",
    "# Calculate the inertia for the range of k values\n",
    "for i in k:\n",
    "    km = KMeans(n_clusters=i, random_state=0)\n",
    "    km.fit(pcs_df)\n",
    "    inertia.append(km.inertia_)\n",
    "\n",
    "# Create the Elbow Curve using hvPlot\n",
    "elbow_data = {\"k\": k, \"inertia\": inertia}\n",
    "df_elbow = pd.DataFrame(elbow_data)\n",
    "df_elbow.hvplot.line(x=\"k\", y=\"inertia\", xticks=k, title=\"Elbow Curve\")\n"
   ]
  },
  {
   "cell_type": "markdown",
   "metadata": {},
   "source": [
    "Running K-Means with `k=4`"
   ]
  },
  {
   "cell_type": "code",
   "execution_count": 99,
   "metadata": {},
   "outputs": [],
   "source": [
    "# Initialize the K-Means model\n",
    "model = KMeans(n_clusters=4, random_state=0)\n",
    "\n",
    "# Fit the model\n",
    "model.fit(df_coin_pca)\n",
    "\n",
    "# Predict clusters\n",
    "predictions = model.predict(df_coin_pca)"
   ]
  },
  {
   "cell_type": "code",
   "execution_count": 105,
   "metadata": {},
   "outputs": [
    {
     "data": {
      "text/html": [
       "<div>\n",
       "<style scoped>\n",
       "    .dataframe tbody tr th:only-of-type {\n",
       "        vertical-align: middle;\n",
       "    }\n",
       "\n",
       "    .dataframe tbody tr th {\n",
       "        vertical-align: top;\n",
       "    }\n",
       "\n",
       "    .dataframe thead th {\n",
       "        text-align: right;\n",
       "    }\n",
       "</style>\n",
       "<table border=\"1\" class=\"dataframe\">\n",
       "  <thead>\n",
       "    <tr style=\"text-align: right;\">\n",
       "      <th></th>\n",
       "      <th>Algorithm</th>\n",
       "      <th>ProofType</th>\n",
       "      <th>TotalCoinsMined</th>\n",
       "      <th>TotalCoinSupply</th>\n",
       "      <th>PC 1</th>\n",
       "      <th>PC 2</th>\n",
       "      <th>PC 3</th>\n",
       "      <th>CoinName</th>\n",
       "      <th>Class</th>\n",
       "    </tr>\n",
       "    <tr>\n",
       "      <th>Unnamed: 0</th>\n",
       "      <th></th>\n",
       "      <th></th>\n",
       "      <th></th>\n",
       "      <th></th>\n",
       "      <th></th>\n",
       "      <th></th>\n",
       "      <th></th>\n",
       "      <th></th>\n",
       "      <th></th>\n",
       "    </tr>\n",
       "  </thead>\n",
       "  <tbody>\n",
       "    <tr>\n",
       "      <th>42</th>\n",
       "      <td>Scrypt</td>\n",
       "      <td>PoW/PoS</td>\n",
       "      <td>4.199995e+01</td>\n",
       "      <td>42</td>\n",
       "      <td>-0.332981</td>\n",
       "      <td>0.943650</td>\n",
       "      <td>-0.613667</td>\n",
       "      <td>42 Coin</td>\n",
       "      <td>0</td>\n",
       "    </tr>\n",
       "    <tr>\n",
       "      <th>404</th>\n",
       "      <td>Scrypt</td>\n",
       "      <td>PoW/PoS</td>\n",
       "      <td>1.055185e+09</td>\n",
       "      <td>532000000</td>\n",
       "      <td>-0.316304</td>\n",
       "      <td>0.943729</td>\n",
       "      <td>-0.614192</td>\n",
       "      <td>404Coin</td>\n",
       "      <td>0</td>\n",
       "    </tr>\n",
       "    <tr>\n",
       "      <th>1337</th>\n",
       "      <td>X13</td>\n",
       "      <td>PoW/PoS</td>\n",
       "      <td>2.927942e+10</td>\n",
       "      <td>314159265359</td>\n",
       "      <td>2.313592</td>\n",
       "      <td>1.577694</td>\n",
       "      <td>-0.767406</td>\n",
       "      <td>EliteCoin</td>\n",
       "      <td>0</td>\n",
       "    </tr>\n",
       "    <tr>\n",
       "      <th>BTC</th>\n",
       "      <td>SHA-256</td>\n",
       "      <td>PoW</td>\n",
       "      <td>1.792718e+07</td>\n",
       "      <td>21000000</td>\n",
       "      <td>-0.148416</td>\n",
       "      <td>-1.287989</td>\n",
       "      <td>0.169944</td>\n",
       "      <td>Bitcoin</td>\n",
       "      <td>1</td>\n",
       "    </tr>\n",
       "    <tr>\n",
       "      <th>ETH</th>\n",
       "      <td>Ethash</td>\n",
       "      <td>PoW</td>\n",
       "      <td>1.076842e+08</td>\n",
       "      <td>0</td>\n",
       "      <td>-0.152403</td>\n",
       "      <td>-1.998210</td>\n",
       "      <td>0.435083</td>\n",
       "      <td>Ethereum</td>\n",
       "      <td>1</td>\n",
       "    </tr>\n",
       "  </tbody>\n",
       "</table>\n",
       "</div>"
      ],
      "text/plain": [
       "           Algorithm ProofType  TotalCoinsMined TotalCoinSupply      PC 1  \\\n",
       "Unnamed: 0                                                                  \n",
       "42            Scrypt   PoW/PoS     4.199995e+01              42 -0.332981   \n",
       "404           Scrypt   PoW/PoS     1.055185e+09       532000000 -0.316304   \n",
       "1337             X13   PoW/PoS     2.927942e+10    314159265359  2.313592   \n",
       "BTC          SHA-256       PoW     1.792718e+07        21000000 -0.148416   \n",
       "ETH           Ethash       PoW     1.076842e+08               0 -0.152403   \n",
       "\n",
       "                PC 2      PC 3   CoinName  Class  \n",
       "Unnamed: 0                                        \n",
       "42          0.943650 -0.613667    42 Coin      0  \n",
       "404         0.943729 -0.614192    404Coin      0  \n",
       "1337        1.577694 -0.767406  EliteCoin      0  \n",
       "BTC        -1.287989  0.169944    Bitcoin      1  \n",
       "ETH        -1.998210  0.435083   Ethereum      1  "
      ]
     },
     "execution_count": 105,
     "metadata": {},
     "output_type": "execute_result"
    }
   ],
   "source": [
    "# Create a new DataFrame named clustered_df, that includes the following columns \n",
    "# \"Algorithm\", \"ProofType\", \"TotalCoinsMined\", \"TotalCoinSupply\", \"PC 1\", \"PC 2\", \"PC 3\", \"CoinName\", \"Class\". \n",
    "# You should maintain the index of the crypto_df\n",
    "\n",
    "# Create a new DataFrame including predicted clusters and cryptocurrencies features\n",
    "\n",
    "clustered_data = {\"Algorithm\": df_trading.Algorithm,\n",
    "               \"ProofType\": df_trading.ProofType, \n",
    "               \"TotalCoinsMined\": df_trading.TotalCoinsMined, \n",
    "               \"TotalCoinSupply\": df_trading.TotalCoinSupply,\n",
    "               \"PC 1\": pcs_df[\"PC 1\"], \n",
    "               \"PC 2\": pcs_df[\"PC 2\"],\n",
    "               \"PC 3\": pcs_df[\"PC 3\"], \n",
    "               \"CoinName\": coins_name.CoinName,\n",
    "               \"Class\": model.labels_\n",
    "              }\n",
    "clustered_df = pd.DataFrame(data = clustered_data, index=df_trading.index, )\n",
    "\n",
    "clustered_df.head()"
   ]
  },
  {
   "cell_type": "markdown",
   "metadata": {},
   "source": [
    "### Visualizing Results\n",
    "\n",
    "#### 3D-Scatter with Clusters"
   ]
  },
  {
   "cell_type": "code",
   "execution_count": 106,
   "metadata": {},
   "outputs": [
    {
     "data": {
      "application/vnd.plotly.v1+json": {
       "config": {
        "plotlyServerURL": "https://plot.ly"
       },
       "data": [
        {
         "customdata": [
          [
           "Scrypt"
          ],
          [
           "Scrypt"
          ],
          [
           "X13"
          ],
          [
           "X11"
          ],
          [
           "SHA-512"
          ],
          [
           "SHA-256"
          ],
          [
           "SHA-256"
          ],
          [
           "X15"
          ],
          [
           "Scrypt"
          ],
          [
           "Scrypt"
          ],
          [
           "Scrypt"
          ],
          [
           "Scrypt"
          ],
          [
           "Scrypt"
          ],
          [
           "Scrypt"
          ],
          [
           "Groestl"
          ],
          [
           "PoS"
          ],
          [
           "Scrypt"
          ],
          [
           "Scrypt"
          ],
          [
           "X11"
          ],
          [
           "X11"
          ],
          [
           "SHA3"
          ],
          [
           "Scrypt"
          ],
          [
           "SHA-256"
          ],
          [
           "Scrypt"
          ],
          [
           "X13"
          ],
          [
           "X13"
          ],
          [
           "NeoScrypt"
          ],
          [
           "Scrypt"
          ],
          [
           "Scrypt"
          ],
          [
           "Scrypt"
          ],
          [
           "X11"
          ],
          [
           "X11"
          ],
          [
           "Multiple"
          ],
          [
           "PHI1612"
          ],
          [
           "X11"
          ],
          [
           "Scrypt"
          ],
          [
           "Scrypt"
          ],
          [
           "Scrypt"
          ],
          [
           "X11"
          ],
          [
           "Multiple"
          ],
          [
           "X13"
          ],
          [
           "Scrypt"
          ],
          [
           "Shabal256"
          ],
          [
           "Counterparty"
          ],
          [
           "SHA-256"
          ],
          [
           "Groestl"
          ],
          [
           "Scrypt"
          ],
          [
           "X13"
          ],
          [
           "Scrypt"
          ],
          [
           "Scrypt"
          ],
          [
           "X13"
          ],
          [
           "X11"
          ],
          [
           "Scrypt"
          ],
          [
           "X11"
          ],
          [
           "SHA3"
          ],
          [
           "QUAIT"
          ],
          [
           "X11"
          ],
          [
           "Scrypt"
          ],
          [
           "X13"
          ],
          [
           "SHA-256"
          ],
          [
           "X15"
          ],
          [
           "BLAKE256"
          ],
          [
           "SHA-256"
          ],
          [
           "X11"
          ],
          [
           "SHA-256"
          ],
          [
           "NIST5"
          ],
          [
           "Scrypt"
          ],
          [
           "Scrypt"
          ],
          [
           "X11"
          ],
          [
           "Scrypt"
          ],
          [
           "SHA-256"
          ],
          [
           "Scrypt"
          ],
          [
           "PoS"
          ],
          [
           "X11"
          ],
          [
           "SHA-256"
          ],
          [
           "SHA-256"
          ],
          [
           "NIST5"
          ],
          [
           "X11"
          ],
          [
           "POS 3.0"
          ],
          [
           "Scrypt"
          ],
          [
           "Scrypt"
          ],
          [
           "Scrypt"
          ],
          [
           "X13"
          ],
          [
           "X11"
          ],
          [
           "X11"
          ],
          [
           "Scrypt"
          ],
          [
           "SHA-256"
          ],
          [
           "X11"
          ],
          [
           "Scrypt"
          ],
          [
           "Scrypt"
          ],
          [
           "Scrypt"
          ],
          [
           "Scrypt"
          ],
          [
           "SHA-256D"
          ],
          [
           "PoS"
          ],
          [
           "Scrypt"
          ],
          [
           "X11"
          ],
          [
           "PoS"
          ],
          [
           "X13"
          ],
          [
           "X14"
          ],
          [
           "PoS"
          ],
          [
           "SHA-256D"
          ],
          [
           "DPoS"
          ],
          [
           "X11"
          ],
          [
           "X13"
          ],
          [
           "X11"
          ],
          [
           "PoS"
          ],
          [
           "Scrypt"
          ],
          [
           "Scrypt"
          ],
          [
           "PoS"
          ],
          [
           "X11"
          ],
          [
           "SHA-256"
          ],
          [
           "Scrypt"
          ],
          [
           "X11"
          ],
          [
           "Scrypt"
          ],
          [
           "Scrypt"
          ],
          [
           "X11"
          ],
          [
           "Scrypt"
          ],
          [
           "Scrypt"
          ],
          [
           "Scrypt"
          ],
          [
           "Scrypt"
          ],
          [
           "Quark"
          ],
          [
           "QuBit"
          ],
          [
           "Scrypt"
          ],
          [
           "SHA-256"
          ],
          [
           "X11"
          ],
          [
           "Scrypt"
          ],
          [
           "Scrypt"
          ],
          [
           "Scrypt"
          ],
          [
           "Scrypt"
          ],
          [
           "X13"
          ],
          [
           "Scrypt"
          ],
          [
           "Scrypt"
          ],
          [
           "X11"
          ],
          [
           "Blake2S"
          ],
          [
           "X11"
          ],
          [
           "PoS"
          ],
          [
           "X11"
          ],
          [
           "PoS"
          ],
          [
           "X11"
          ],
          [
           "Scrypt"
          ],
          [
           "Scrypt"
          ],
          [
           "Scrypt"
          ],
          [
           "SHA-256"
          ],
          [
           "X11"
          ],
          [
           "Scrypt"
          ],
          [
           "PoS"
          ],
          [
           "Scrypt"
          ],
          [
           "X15"
          ],
          [
           "SHA-256"
          ],
          [
           "POS 3.0"
          ],
          [
           "536"
          ],
          [
           "NIST5"
          ],
          [
           "NIST5"
          ],
          [
           "Skein"
          ],
          [
           "X13"
          ],
          [
           "Scrypt"
          ],
          [
           "X13"
          ],
          [
           "SkunkHash v2 Raptor"
          ],
          [
           "Skein"
          ],
          [
           "X11"
          ],
          [
           "Scrypt"
          ],
          [
           "PoS"
          ],
          [
           "Scrypt"
          ],
          [
           "Scrypt"
          ],
          [
           "SHA-512"
          ],
          [
           "Ouroboros"
          ],
          [
           "X11"
          ],
          [
           "NeoScrypt"
          ],
          [
           "Scrypt"
          ],
          [
           "Lyra2REv2"
          ],
          [
           "Scrypt"
          ],
          [
           "SHA-256"
          ],
          [
           "NIST5"
          ],
          [
           "PHI1612"
          ],
          [
           "Scrypt"
          ],
          [
           "Quark"
          ],
          [
           "POS 2.0"
          ],
          [
           "Scrypt"
          ],
          [
           "SHA-256"
          ],
          [
           "X11"
          ],
          [
           "DPoS"
          ],
          [
           "NIST5"
          ],
          [
           "X13"
          ],
          [
           "Scrypt"
          ],
          [
           "NIST5"
          ],
          [
           "Quark"
          ],
          [
           "Scrypt"
          ],
          [
           "Scrypt"
          ],
          [
           "X11"
          ],
          [
           "Quark"
          ],
          [
           "Scrypt"
          ],
          [
           "Scrypt"
          ],
          [
           "X11"
          ],
          [
           "POS 3.0"
          ],
          [
           "Ethash"
          ],
          [
           "Scrypt"
          ],
          [
           "Scrypt"
          ],
          [
           "X13"
          ],
          [
           "C11"
          ],
          [
           "X11"
          ],
          [
           "XEVAN"
          ],
          [
           "Scrypt"
          ],
          [
           "VBFT"
          ],
          [
           "NIST5"
          ],
          [
           "Scrypt"
          ],
          [
           "Scrypt"
          ],
          [
           "Scrypt"
          ],
          [
           "Green Protocol"
          ],
          [
           "PoS"
          ],
          [
           "Scrypt"
          ],
          [
           "Semux BFT consensus"
          ],
          [
           "Quark"
          ],
          [
           "PoS"
          ],
          [
           "X16R"
          ],
          [
           "Scrypt"
          ],
          [
           "XEVAN"
          ],
          [
           "Scrypt"
          ],
          [
           "Scrypt"
          ],
          [
           "Scrypt"
          ],
          [
           "SHA-256D"
          ],
          [
           "Scrypt"
          ],
          [
           "X15"
          ],
          [
           "Scrypt"
          ],
          [
           "Quark"
          ],
          [
           "SHA-256"
          ],
          [
           "DPoS"
          ],
          [
           "X16R"
          ],
          [
           "Quark"
          ],
          [
           "Quark"
          ],
          [
           "Scrypt"
          ],
          [
           "Lyra2REv2"
          ],
          [
           "Quark"
          ],
          [
           "Scrypt"
          ],
          [
           "X11"
          ],
          [
           "X11"
          ],
          [
           "Scrypt"
          ],
          [
           "PoS"
          ],
          [
           "Keccak"
          ],
          [
           "X11"
          ],
          [
           "Scrypt"
          ],
          [
           "SHA-512"
          ],
          [
           "XEVAN"
          ],
          [
           "XEVAN"
          ],
          [
           "X11"
          ],
          [
           "Quark"
          ],
          [
           "Equihash"
          ],
          [
           "Scrypt"
          ],
          [
           "Quark"
          ],
          [
           "Quark"
          ],
          [
           "Scrypt"
          ],
          [
           "X11"
          ],
          [
           "Scrypt"
          ],
          [
           "XEVAN"
          ],
          [
           "SHA-256D"
          ],
          [
           "X11"
          ],
          [
           "X11"
          ],
          [
           "DPoS"
          ],
          [
           "Scrypt"
          ],
          [
           "X11"
          ],
          [
           "Scrypt"
          ],
          [
           "Scrypt"
          ],
          [
           "SHA-256"
          ],
          [
           "Scrypt"
          ],
          [
           "X11"
          ],
          [
           "Scrypt"
          ],
          [
           "SHA-256"
          ],
          [
           "X11"
          ],
          [
           "Scrypt"
          ],
          [
           "Scrypt"
          ],
          [
           "X11"
          ],
          [
           "Scrypt"
          ],
          [
           "PoS"
          ],
          [
           "X11"
          ],
          [
           "SHA-256"
          ],
          [
           "DPoS"
          ],
          [
           "Scrypt"
          ],
          [
           "Scrypt"
          ],
          [
           "NeoScrypt"
          ],
          [
           "X13"
          ],
          [
           "DPoS"
          ],
          [
           "DPoS"
          ],
          [
           "SHA-256"
          ],
          [
           "PoS"
          ],
          [
           "PoS"
          ],
          [
           "SHA-256"
          ],
          [
           "Scrypt"
          ],
          [
           "Scrypt"
          ]
         ],
         "hovertemplate": "<b>%{hovertext}</b><br><br>Class=%{marker.color}<br>PC 3=%{x}<br>PC 2=%{y}<br>PC 1=%{z}<br>Algorithm=%{customdata[0]}<extra></extra>",
         "hovertext": [
          "42 Coin",
          "404Coin",
          "EliteCoin",
          "Dash",
          "Bitshares",
          "BitcoinDark",
          "PayCoin",
          "KoboCoin",
          "Aurora Coin",
          "BlueCoin",
          "EnergyCoin",
          "BitBar",
          "CryptoBullion",
          "CasinoCoin",
          "Diamond",
          "Exclusive Coin",
          "FlutterCoin",
          "HoboNickels",
          "HyperStake",
          "IOCoin",
          "MaxCoin",
          "MintCoin",
          "MazaCoin",
          "Nautilus Coin",
          "NavCoin",
          "OpalCoin",
          "Orbitcoin",
          "PotCoin",
          "PhoenixCoin",
          "Reddcoin",
          "SuperCoin",
          "SyncCoin",
          "TeslaCoin",
          "TittieCoin",
          "TorCoin",
          "UnitaryStatus Dollar",
          "UltraCoin",
          "VeriCoin",
          "X11 Coin",
          "Crypti",
          "StealthCoin",
          "ZCC Coin",
          "BurstCoin",
          "StorjCoin",
          "Neutron",
          "FairCoin",
          "RubyCoin",
          "Kore",
          "Dnotes",
          "8BIT Coin",
          "Sativa Coin",
          "Ucoin",
          "Vtorrent",
          "IslaCoin",
          "Nexus",
          "Droidz",
          "Squall Coin",
          "Diggits",
          "Paycon",
          "Emercoin",
          "EverGreenCoin",
          "Decred",
          "EDRCoin",
          "Hitcoin",
          "DubaiCoin",
          "PWR Coin",
          "BillaryCoin",
          "GPU Coin",
          "EuropeCoin",
          "ZeitCoin",
          "SwingCoin",
          "SafeExchangeCoin",
          "Nebuchadnezzar",
          "Ratecoin",
          "Revenu",
          "Clockcoin",
          "VIP Tokens",
          "BitSend",
          "Let it Ride",
          "PutinCoin",
          "iBankCoin",
          "Frankywillcoin",
          "MudraCoin",
          "Lutetium Coin",
          "GoldBlocks",
          "CarterCoin",
          "BitTokens",
          "MustangCoin",
          "ZoneCoin",
          "RootCoin",
          "BitCurrency",
          "Swiscoin",
          "BuzzCoin",
          "Opair",
          "PesoBit",
          "Halloween Coin",
          "CoffeeCoin",
          "RoyalCoin",
          "GanjaCoin V2",
          "TeamUP",
          "LanaCoin",
          "ARK",
          "InsaneCoin",
          "EmberCoin",
          "XenixCoin",
          "FreeCoin",
          "PLNCoin",
          "AquariusCoin",
          "Creatio",
          "Eternity",
          "Eurocoin",
          "BitcoinFast",
          "Stakenet",
          "BitConnect Coin",
          "MoneyCoin",
          "Enigma",
          "Russiacoin",
          "PandaCoin",
          "GameUnits",
          "GAKHcoin",
          "Allsafe",
          "LiteCreed",
          "Klingon Empire Darsek",
          "Internet of People",
          "KushCoin",
          "Printerium",
          "Impeach",
          "Zilbercoin",
          "FirstCoin",
          "FindCoin",
          "OpenChat",
          "RenosCoin",
          "VirtacoinPlus",
          "TajCoin",
          "Impact",
          "Atmos",
          "HappyCoin",
          "MacronCoin",
          "Condensate",
          "Independent Money System",
          "ArgusCoin",
          "LomoCoin",
          "ProCurrency",
          "GoldReserve",
          "GrowthCoin",
          "Phreak",
          "Degas Coin",
          "HTML5 Coin",
          "Ultimate Secure Cash",
          "QTUM",
          "Espers",
          "Denarius",
          "Virta Unique Coin",
          "Bitcoin Planet",
          "BritCoin",
          "Linda",
          "DeepOnion",
          "Signatum",
          "Cream",
          "Monoeci",
          "Draftcoin",
          "Stakecoin",
          "CoinonatX",
          "Ethereum Dark",
          "Obsidian",
          "Cardano",
          "Regalcoin",
          "TrezarCoin",
          "TerraNovaCoin",
          "Rupee",
          "WomenCoin",
          "Theresa May Coin",
          "NamoCoin",
          "LUXCoin",
          "Xios",
          "Bitcloud 2.0",
          "KekCoin",
          "BlackholeCoin",
          "Infinity Economics",
          "Magnet",
          "Lamden Tau",
          "Electra",
          "Bitcoin Diamond",
          "Cash & Back Coin",
          "Bulwark",
          "Kalkulus",
          "GermanCoin",
          "LiteCoin Ultra",
          "PhantomX",
          "Digiwage",
          "Trollcoin",
          "Litecoin Plus",
          "Monkey Project",
          "TokenPay",
          "1717 Masonic Commemorative Token",
          "My Big Coin",
          "Unified Society USDEX",
          "Tokyo Coin",
          "Stipend",
          "Pushi",
          "Ellerium",
          "Velox",
          "Ontology",
          "Bitspace",
          "Briacoin",
          "Ignition",
          "MedicCoin",
          "Bitcoin Green",
          "Deviant Coin",
          "Abjcoin",
          "Semux",
          "Carebit",
          "Zealium",
          "Proton",
          "iDealCash",
          "Bitcoin Incognito",
          "HollyWoodCoin",
          "Swisscoin",
          "Xt3ch",
          "TheVig",
          "EmaratCoin",
          "Dekado",
          "Lynx",
          "Poseidon Quark",
          "BitcoinWSpectrum",
          "Muse",
          "Trivechain",
          "Dystem",
          "Giant",
          "Peony Coin",
          "Absolute Coin",
          "Vitae",
          "TPCash",
          "ARENON",
          "EUNO",
          "MMOCoin",
          "Ketan",
          "XDNA",
          "PAXEX",
          "ThunderStake",
          "Kcash",
          "Bettex coin",
          "BitMoney",
          "Junson Ming Chan Coin",
          "HerbCoin",
          "PirateCash",
          "Oduwa",
          "Galilel",
          "Crypto Sports",
          "Credit",
          "Dash Platinum",
          "Nasdacoin",
          "Beetle Coin",
          "Titan Coin",
          "Award",
          "Insane Coin",
          "ALAX",
          "LiteDoge",
          "TruckCoin",
          "OrangeCoin",
          "BitstarCoin",
          "NeosCoin",
          "HyperCoin",
          "PinkCoin",
          "AudioCoin",
          "IncaKoin",
          "Piggy Coin",
          "Genstake",
          "XiaoMiCoin",
          "CapriCoin",
          " ClubCoin",
          "Radium",
          "Creditbit ",
          "OKCash",
          "Lisk",
          "HiCoin",
          "WhiteCoin",
          "FriendshipCoin",
          "Triangles Coin",
          "EOS",
          "Oxycoin",
          "TigerCash",
          "Particl",
          "Nxt",
          "ZEPHYR",
          "Gapcoin",
          "BitcoinPlus"
         ],
         "legendgroup": "0",
         "marker": {
          "color": [
           0,
           0,
           0,
           0,
           0,
           0,
           0,
           0,
           0,
           0,
           0,
           0,
           0,
           0,
           0,
           0,
           0,
           0,
           0,
           0,
           0,
           0,
           0,
           0,
           0,
           0,
           0,
           0,
           0,
           0,
           0,
           0,
           0,
           0,
           0,
           0,
           0,
           0,
           0,
           0,
           0,
           0,
           0,
           0,
           0,
           0,
           0,
           0,
           0,
           0,
           0,
           0,
           0,
           0,
           0,
           0,
           0,
           0,
           0,
           0,
           0,
           0,
           0,
           0,
           0,
           0,
           0,
           0,
           0,
           0,
           0,
           0,
           0,
           0,
           0,
           0,
           0,
           0,
           0,
           0,
           0,
           0,
           0,
           0,
           0,
           0,
           0,
           0,
           0,
           0,
           0,
           0,
           0,
           0,
           0,
           0,
           0,
           0,
           0,
           0,
           0,
           0,
           0,
           0,
           0,
           0,
           0,
           0,
           0,
           0,
           0,
           0,
           0,
           0,
           0,
           0,
           0,
           0,
           0,
           0,
           0,
           0,
           0,
           0,
           0,
           0,
           0,
           0,
           0,
           0,
           0,
           0,
           0,
           0,
           0,
           0,
           0,
           0,
           0,
           0,
           0,
           0,
           0,
           0,
           0,
           0,
           0,
           0,
           0,
           0,
           0,
           0,
           0,
           0,
           0,
           0,
           0,
           0,
           0,
           0,
           0,
           0,
           0,
           0,
           0,
           0,
           0,
           0,
           0,
           0,
           0,
           0,
           0,
           0,
           0,
           0,
           0,
           0,
           0,
           0,
           0,
           0,
           0,
           0,
           0,
           0,
           0,
           0,
           0,
           0,
           0,
           0,
           0,
           0,
           0,
           0,
           0,
           0,
           0,
           0,
           0,
           0,
           0,
           0,
           0,
           0,
           0,
           0,
           0,
           0,
           0,
           0,
           0,
           0,
           0,
           0,
           0,
           0,
           0,
           0,
           0,
           0,
           0,
           0,
           0,
           0,
           0,
           0,
           0,
           0,
           0,
           0,
           0,
           0,
           0,
           0,
           0,
           0,
           0,
           0,
           0,
           0,
           0,
           0,
           0,
           0,
           0,
           0,
           0,
           0,
           0,
           0,
           0,
           0,
           0,
           0,
           0,
           0,
           0,
           0,
           0,
           0,
           0,
           0,
           0,
           0,
           0,
           0,
           0,
           0,
           0,
           0,
           0,
           0,
           0,
           0,
           0,
           0,
           0,
           0,
           0,
           0,
           0,
           0,
           0,
           0,
           0
          ],
          "coloraxis": "coloraxis",
          "symbol": "circle"
         },
         "mode": "markers",
         "name": "0",
         "scene": "scene",
         "showlegend": true,
         "type": "scatter3d",
         "x": [
          -0.6136667551675731,
          -0.6141920585763836,
          -0.7674062081883414,
          -0.5679576636951582,
          -0.02566402696502422,
          -0.4454279597490861,
          -0.046177881892972304,
          -0.6960604104686395,
          -0.6136767755468483,
          -0.6139414029738287,
          -0.6137199462991327,
          -0.6136668386074388,
          -0.613667334397892,
          -0.21454757145034245,
          -0.4337336089080576,
          0.005088105004288949,
          -0.4011098278923917,
          -0.6137209530566752,
          -0.1694229310709537,
          -0.5679613893337669,
          -0.6006920057309053,
          -0.22361711084069094,
          -0.4464368684205354,
          -0.21442238455152454,
          -0.7139013339920811,
          -0.7138793203174556,
          -0.3658545532675151,
          -0.6138176523560116,
          -0.6137114740460364,
          -0.6263377561945973,
          -0.1687193453999206,
          -0.5679508981422268,
          0.15782283436867398,
          -0.1589483483721815,
          -0.5679528175781343,
          -0.6143499431765552,
          -0.6137014800857414,
          -0.33080304933864857,
          -0.5679546174993004,
          0.15782731428423138,
          -0.7138870733423176,
          -0.6138608395336652,
          0.10393904105559212,
          0.009613659602251431,
          -0.44545029761781424,
          -0.4337546025448375,
          -0.2144250356735419,
          -0.7138752049087742,
          -0.2145538321288897,
          -0.6136673895855389,
          -0.713877137954007,
          -0.16870119313182638,
          -0.6136743734047044,
          -0.56795155176822,
          -0.2564326827397931,
          -0.7667053644693952,
          -0.6301534689989993,
          -0.21446952044647635,
          -0.7138892349141804,
          -0.4455732705937284,
          -0.6960130988083352,
          -0.5097340341605353,
          -0.44542898880976545,
          -0.5761584680435822,
          -0.44542812320185926,
          -0.6872769426765049,
          -0.6136761096443332,
          -0.21445954420939214,
          -0.568005361473526,
          -0.243275050817929,
          -0.44543163670352903,
          -0.1932613374173268,
          0.00507931299758622,
          -0.5680188147980294,
          -0.44545403752347035,
          -0.44550005460931297,
          -0.6829724278589752,
          -0.5679795250819841,
          0.09316937645604828,
          -0.6142784340099019,
          -0.6136744801514519,
          -0.6137229898074624,
          -0.3146474848751879,
          -0.1690668898816317,
          -0.567964130586127,
          -0.613697123171492,
          -0.4454275299092094,
          -0.5679515721087562,
          -0.6136706036399943,
          -0.6136675936177742,
          -0.21448659100777098,
          -0.26438259258863744,
          -0.873825848918727,
          0.0050489316670581895,
          -0.6136812446955616,
          -0.5682604772302107,
          0.0050210756555665766,
          -0.31462070589183877,
          -0.8063781631831076,
          0.005043692411311979,
          -0.8642058214729399,
          -0.03151444310564939,
          -0.5679627293429531,
          -0.7538316648720641,
          -0.5679530644087227,
          0.005062442598534294,
          -0.6136791565255718,
          -0.6136732789132548,
          0.00507931299758622,
          -0.5679613280361416,
          -0.4454325092083289,
          -0.6136797990962073,
          -0.2670460895054401,
          -0.6136751878687775,
          -0.6137561358031268,
          -0.5679519002212984,
          -0.6136891134153171,
          -0.2332590695664743,
          -0.6136699478092801,
          -0.6136686197667421,
          -0.11241325560001621,
          -0.3977524550326749,
          -0.6137421730948379,
          -0.4454283643894494,
          -0.5679545606542459,
          -0.6136744672007151,
          -0.6136697422887397,
          -0.2144217055575486,
          -0.32631049055554506,
          -0.3146274679568764,
          -0.6142291017790267,
          -0.21443334727886498,
          -0.5679695986990425,
          -0.8344073169828164,
          -0.5680130281043432,
          0.005028173121843727,
          -0.5679732115060434,
          0.004865006907331103,
          -0.5680685441379016,
          -0.6136718358440698,
          -0.6136709728821167,
          -0.6137970901629095,
          -0.05597344723108203,
          -0.5679635242070419,
          -0.21480108932580985,
          0.005081733191617866,
          -0.613689649479069,
          -0.7252884860355963,
          -0.046201576007573374,
          0.09313418036126171,
          -0.8836228688401451,
          -0.6829277517552861,
          -0.6829674671580707,
          -0.8163137072995953,
          -0.713885865542785,
          -0.6240821703678474,
          -0.7138847014709472,
          0.019451516269921008,
          -0.8163312243831949,
          -0.5679575673628823,
          -0.2144236174131211,
          0.005080815699368512,
          -0.6136814791931297,
          -0.6136691169998226,
          -0.024033239218760567,
          -0.09774160331524241,
          -0.5679575497253624,
          -0.3659836596226547,
          -0.6136692954052823,
          0.031675331864368425,
          -0.6378652555461157,
          -0.4454773388501136,
          -0.6833230812334613,
          -0.5572127268759169,
          -0.6136704167957266,
          -0.5116995252691782,
          0.09862315314029026,
          -0.6136757517239143,
          -0.05123219040161071,
          -0.5679861451176426,
          -0.03164099048593005,
          -0.6991031149597634,
          -0.7139794227815274,
          -0.6137420474409999,
          -0.2836805104076502,
          -0.11241668887327955,
          -0.6222955870106571,
          -0.6136899120788717,
          -0.567976928996648,
          -0.11243417169073062,
          -0.6140393185792713,
          -0.6136683581279728,
          -0.16870206557592413,
          0.09317832478382326,
          0.21900240046042205,
          -0.2727412512823531,
          -0.6137984497982899,
          -0.3148229366611615,
          -0.4106303289016904,
          -0.5679550874709896,
          -0.9213192858009535,
          -0.21444047259593313,
          0.029380926494249632,
          -0.6829371130176238,
          -0.6136675110087831,
          -0.6136679166980047,
          -0.2145938787033757,
          -0.020787407934189938,
          0.00506965379916418,
          -0.6136749293382193,
          -0.21977727776368228,
          -0.5117466502139953,
          0.005075363385945128,
          0.05942944972819174,
          -0.6149401336501169,
          -0.9835211725749005,
          -0.21443339903089212,
          -0.619402690821683,
          -0.21442230891237968,
          -0.8627887866271203,
          -0.6136870209655387,
          -0.296775159669606,
          -0.4362166523864913,
          -0.1124925090767469,
          -0.046209104216358196,
          0.006397238279286151,
          -0.3398429609027246,
          -0.11241255144673515,
          -0.5116634559144959,
          -0.21661014328754707,
          -0.3675772351470805,
          -0.11244831995149579,
          -0.6137992097223305,
          -0.1687129134987092,
          -0.5679707035825601,
          -0.21449369523029652,
          0.005059203515301505,
          -0.40648632365601683,
          -0.16871238706278824,
          -0.6164670369816279,
          -0.00779455810669714,
          -0.5220672677332044,
          -1.3393422496270329,
          -0.17613603440865475,
          -0.5116825164311503,
          0.09564532233866835,
          -0.6136758749075913,
          -0.511670598692088,
          -0.1124093336648786,
          -0.6367233759030168,
          -0.16870030081267606,
          -0.6136865659112285,
          -0.9214623434792919,
          -0.8637994349502462,
          -0.5680122124964839,
          -0.5679650776998864,
          -0.03201375693643957,
          -0.6248421646109519,
          -0.5680557447582294,
          -0.6136943077792881,
          -0.6136827086384714,
          -0.04617570164310939,
          -0.6136709180156653,
          -0.5682045610925034,
          -0.6154569034421099,
          -0.45320330927609753,
          -0.5682946409296075,
          -0.6136946405913309,
          -0.6138935594984105,
          -0.5680649974817777,
          -0.6137323624170818,
          0.005087737211769168,
          -0.23709026832520874,
          -0.4454704796023488,
          -0.03152409128332077,
          -0.2200380075733213,
          -0.613814714608436,
          -0.3658609839541956,
          -0.7138728457788237,
          -0.03189251794392066,
          -0.031936535047880604,
          -0.046733417325362604,
          0.005085424035971876,
          0.05062328757387979,
          -0.08515462967973954,
          -0.6137057384824134,
          -0.21441347136836064
         ],
         "y": [
          0.9436503356263697,
          0.9437290356736647,
          1.5776936512953235,
          1.2034545901417726,
          0.9783046549539326,
          0.7901953048053614,
          0.6922003778632135,
          1.7865704886445677,
          0.9436479101943227,
          0.9438564570720249,
          0.943690255255074,
          0.943650101715202,
          0.9436501772455987,
          0.714403718133832,
          0.838980415124209,
          1.7696033865730898,
          0.30888891981996425,
          0.9436198371005151,
          1.1060039391468213,
          1.2034573862097084,
          2.513102464951974,
          0.8525546406003438,
          0.7895306706329869,
          0.8456444607802692,
          1.7238709479826222,
          1.7238544268607117,
          0.45982468592698633,
          0.9435144750066269,
          0.9436257716789697,
          0.9531598408227475,
          1.1054759026039316,
          1.2034625605597598,
          0.19377245961839296,
          1.646294688061525,
          1.2034580705339333,
          0.9432140809506786,
          0.9436170850470725,
          0.4021038989565543,
          1.2034620903777355,
          0.19382840890348288,
          1.7238602454562482,
          0.943202880395396,
          1.6835184314543314,
          1.84036983857968,
          0.7901847859736715,
          0.8389987685550122,
          0.8456560470202413,
          1.7238442209008715,
          0.845456150770421,
          0.9436508117779052,
          1.7238468578676074,
          1.1054504171563,
          0.943644190802881,
          1.2034630516949985,
          3.5710053936427837,
          1.7985763867784632,
          0.7843847145016279,
          0.8456301211245666,
          1.7238322119855756,
          0.7897242938490657,
          1.7867269738413087,
          0.8637144825738925,
          0.7901960771088148,
          1.1938751043594762,
          0.7902022482904216,
          1.441581515811622,
          0.9436324453243404,
          0.8455508359717122,
          1.2032756796315454,
          0.8085894800229251,
          0.7901873882781896,
          0.7208794056237453,
          1.7695981226312396,
          1.2034690485935795,
          0.7900958231341552,
          0.7899510750283238,
          1.4382976247018902,
          1.2034016025960095,
          1.683705440087799,
          0.9429231680466217,
          0.9436298384671228,
          0.9436332279555535,
          1.6257489332811725,
          1.105347056397948,
          1.2034428363008072,
          0.9436197463541183,
          0.7901955753276158,
          1.2034612876174495,
          0.9436407685042638,
          0.9436509649027921,
          0.8457022439046026,
          0.30275474679672826,
          1.783244538869918,
          1.769588895451506,
          0.9436612099492994,
          1.202805226781345,
          1.7696299671575735,
          1.6258459758322774,
          1.8296754790370733,
          1.7694581905264042,
          1.783435140288066,
          2.038815048584269,
          1.2034536469633825,
          1.753334258557599,
          1.2034619014586834,
          1.7695929903278387,
          0.9436367841647924,
          0.943630320878784,
          1.7695981226312396,
          1.2034348018616765,
          0.790199905374066,
          0.943640552263332,
          0.7742694203332802,
          0.9436400571383119,
          0.9433314995750117,
          1.2034603476351513,
          0.9435817069095318,
          0.8405058057470469,
          0.9436450212221537,
          0.9436497683790518,
          1.5389346536442028,
          0.5574024101896565,
          0.9434103791577786,
          0.7901962015996947,
          1.2034597618532563,
          0.9436442611961867,
          0.9436395684924831,
          0.8456209265013291,
          0.2688807805470559,
          1.6258439186806186,
          0.943479258853519,
          0.8456418660220125,
          1.2034172843680315,
          1.7511038925374969,
          1.20344394671544,
          1.7695829504699825,
          1.2034199957565619,
          1.7695335745347731,
          1.2032542965544366,
          0.9436415674535312,
          0.9436365379492022,
          0.9431550369006644,
          0.6550757261014367,
          1.2034483123604893,
          0.8447520442185328,
          1.769590375147805,
          0.9436052406808327,
          1.7553332725641146,
          0.6921069012673893,
          1.683692412428695,
          1.7373128986128819,
          1.4383115447184507,
          1.4382761082976998,
          1.8874355653272006,
          1.7238415455805165,
          0.9218113215752319,
          1.7238472565960683,
          1.6640971583233102,
          1.887448711786326,
          1.2034619274616174,
          0.8456446589413702,
          1.769572321327783,
          0.9436327669855513,
          0.9436496171110813,
          0.9791621050569556,
          1.6252852478792152,
          1.203451539036523,
          0.4596865697290441,
          0.9436429104181567,
          0.842050851626625,
          0.946983297045018,
          0.7901861005868641,
          1.4379024309083555,
          1.7448840646348573,
          0.9436406282788367,
          1.6368526507454124,
          1.595364204589705,
          0.9436483163708221,
          0.6906629890047347,
          1.2034036053187482,
          2.0386876037093087,
          1.4326635525054252,
          1.7238049991099147,
          0.9435822880112005,
          1.3403026042863766,
          1.5389342647221609,
          0.9204705022004865,
          0.9435787476154354,
          1.2034524414259886,
          1.5388880740317183,
          0.9433961392098308,
          0.9436491662054812,
          1.1054504788056807,
          1.6837037658968856,
          -0.0180586851145735,
          0.20341268322020764,
          0.9436115691040802,
          1.6255247401253328,
          0.7949955909324258,
          1.2034508773590367,
          1.3151471449352108,
          0.845594086154721,
          1.774450809156955,
          1.4382948457127025,
          0.9436491235622813,
          0.9436482418007849,
          0.8454862054682593,
          1.761676367774089,
          1.7695650400233642,
          0.9436386768841216,
          2.068062122297479,
          1.6368880177148797,
          1.7695654999296717,
          0.7076251572493668,
          0.9415680953840048,
          0.8960919163430687,
          0.8456469026938128,
          0.9419053524771637,
          0.8456279035729027,
          1.7867642694369659,
          0.9436157233991911,
          1.6886977397736491,
          0.19357884448383408,
          1.5386175052714175,
          0.6921717569956245,
          1.828962630883654,
          0.8056202099770383,
          1.5389305664956896,
          1.6369411486597496,
          0.8372841864014723,
          0.9400363774916428,
          1.5389105544974766,
          0.943156627616444,
          1.1054384542150657,
          1.203447769292561,
          0.8455533658522278,
          1.7695005229462049,
          0.8473598322783158,
          1.1054113689834075,
          0.9350758712822234,
          -0.07219772084011755,
          1.2171510584338132,
          0.8431616237011244,
          1.111042080235303,
          1.6369264804135772,
          -0.11550011098479615,
          0.9436447245568574,
          1.6369382738767313,
          1.5389326770333422,
          0.9165892300262658,
          1.105449925410788,
          0.9436153818838434,
          1.3149935385017935,
          1.7846164943158564,
          1.203259469164531,
          1.2034554093902305,
          2.0386708053793536,
          0.9312784073467733,
          1.2035412478671248,
          0.9435523908439423,
          0.943630128547391,
          0.692193700127837,
          0.9436534598421319,
          1.2033563764083044,
          0.9387661300042354,
          0.7959310116526227,
          1.203127423584293,
          0.9436623667683782,
          0.9435833051177709,
          1.2034248241961991,
          0.943604675179259,
          1.7695983245700482,
          0.9484845745227951,
          0.7901779871936666,
          2.0388015788764244,
          0.8439321626598614,
          0.9435834439655252,
          0.45979606156817215,
          1.7238494965871887,
          2.0391729306218678,
          2.0392059651766643,
          0.692031603248287,
          1.769600277590488,
          2.21175564639864,
          0.9017367210628923,
          0.9435313137969554,
          0.8456467749688885
         ],
         "z": [
          -0.3329810948590544,
          -0.31630428562714163,
          2.313591774586612,
          -0.3840383933484717,
          -0.2306580811855471,
          -0.3117414446474025,
          -0.2730325819972961,
          -0.23748046705080889,
          -0.3326403769931731,
          -0.3252113971744483,
          -0.331476335051951,
          -0.33297702761198567,
          -0.33296129495642857,
          0.6608739879882054,
          -0.36164697901662146,
          -0.3649897738919629,
          -0.29652277249017434,
          -0.33103819734394024,
          -0.3251353174727065,
          -0.38393299623414634,
          -0.47787421771147637,
          -0.033962505023374355,
          -0.27501616526243994,
          -0.294023109803804,
          -0.27252301054018374,
          -0.27314577029296055,
          -0.34136097086631173,
          -0.3272784632094119,
          -0.33138145925467216,
          0.0254774359445478,
          -0.3450395291049253,
          -0.38430488900221194,
          -0.24916236750856677,
          -0.30815357704422564,
          -0.38421645412164795,
          -0.3081918351560209,
          -0.3316573575526532,
          -0.2830106301807555,
          -0.384180897064895,
          -0.2496304835925969,
          -0.27292643972100494,
          -0.3240767037212034,
          -0.0014876597578887105,
          -0.3447879136305254,
          -0.3109524784176435,
          -0.3610680282808535,
          -0.2940033458174973,
          -0.2732212281905849,
          -0.28865283205849224,
          -0.3329631475228868,
          -0.2731733705789873,
          -0.34548477476909123,
          -0.3326973013882608,
          -0.3842864015475642,
          -0.576210186870201,
          -0.42220553589266313,
          -0.3185192992032441,
          -0.2924035052252367,
          -0.2726945991912657,
          -0.3042919443099495,
          -0.2399239548691438,
          -0.07177136537532641,
          -0.3117123328527945,
          -0.06147880724951017,
          -0.31177607940378677,
          -0.2297217538445206,
          -0.3325730799713139,
          -0.29227247940903617,
          -0.38145324038710926,
          0.8601211857013478,
          -0.3115759762632284,
          -0.07052789733976891,
          -0.3646727747153051,
          -0.3821275165969367,
          -0.31031847637688337,
          -0.30798475929890623,
          -0.3511878465991434,
          -0.38302052632792283,
          -0.3489677628563627,
          -0.3088492835361365,
          -0.33261121225023005,
          -0.3310488544649487,
          -0.23320564303598712,
          -0.33296473652814096,
          -0.38375986048819116,
          -0.33181475132290483,
          -0.3117570184860122,
          -0.3842755846988076,
          -0.33280053300846774,
          -0.33295737551677307,
          -0.2922619652720585,
          -0.2419191402617411,
          0.04301305214615945,
          -0.3636289510888673,
          -0.3325711909304786,
          -0.37042628912364023,
          -0.36295698330351334,
          -0.23463743833040593,
          -0.40366226845667075,
          -0.36270580000366603,
          -0.2717865274813969,
          3.7275066665003718,
          -0.38386777734914623,
          0.8599949032405313,
          -0.38423045492113156,
          -0.3640931023536131,
          -0.3324986964569495,
          -0.3326531604402232,
          -0.3646727747153051,
          -0.3838050056512438,
          -0.31161956952760045,
          -0.33249943083278183,
          -0.3596229906557587,
          -0.33264695000494315,
          -0.3282313184484311,
          -0.38425947488647705,
          -0.3318569991529888,
          0.34980505335403916,
          -0.33284639670524574,
          -0.3329170266292384,
          -0.35785422140491224,
          -0.3426010346668321,
          -0.32914064258114784,
          -0.31173341130925286,
          -0.38416934838027117,
          -0.33269464792937775,
          -0.3328217141386517,
          -0.29390979432948283,
          -0.28646950440463953,
          -0.2344050915911193,
          -0.3136586836141908,
          -0.29365068801440264,
          -0.38343447897886795,
          -0.40364489807956183,
          -0.38217173704292007,
          -0.3629178113770985,
          -0.38333227383443075,
          -0.35731287783512844,
          -0.37926982156363703,
          -0.3327649502125297,
          -0.33276414233336266,
          -0.32588015285211513,
          0.26007366715372954,
          -0.3838111528286926,
          -0.2765372949570873,
          -0.3647071031517998,
          -0.3319749725625417,
          0.895420174686964,
          -0.27172190685041586,
          -0.3477450585126775,
          0.5891342980477816,
          -0.35272482373307024,
          -0.3512257690117497,
          -0.4054871085814525,
          -0.2728581937646216,
          0.13235799978137733,
          -0.27292902442818767,
          -0.3636869723602791,
          -0.40499155593804415,
          -0.3840837663253712,
          -0.29398404759083363,
          -0.3645732714045737,
          -0.3323998340457486,
          -0.3328999415399516,
          -0.288772209580207,
          0.6509421637364681,
          -0.3840245484812086,
          -0.3363559409135564,
          -0.3328555219320195,
          -0.3228569101450482,
          0.4369318529974823,
          -0.3100782488504918,
          -0.33747864979494224,
          -0.3824269156100019,
          -0.3328058187725149,
          -0.3949401061800288,
          -0.3483241242999043,
          -0.33267610100336625,
          -0.09936623292809828,
          -0.3828161786190808,
          3.732366828753444,
          0.20725105999949905,
          -0.2695970043725096,
          -0.3301342013707162,
          -0.31384280658392494,
          -0.35774002617606276,
          0.0818161330206605,
          -0.33181392237560636,
          -0.38339779758376474,
          -0.35690406219265747,
          -0.31936896982286855,
          -0.33292209254118504,
          -0.3454566797998665,
          -0.34924992552312256,
          -0.2781717688151501,
          -0.30347770901583454,
          -0.32846349312232903,
          -0.22619388430793116,
          -0.37560434567770895,
          -0.3841010324773736,
          -0.28227215319167304,
          -0.2931433281728639,
          -0.32470009433094893,
          -0.3523234443544855,
          -0.3329494710769306,
          -0.33293116664537886,
          -0.28751992738670995,
          -0.3560216148477234,
          -0.3641673802199146,
          -0.33264743613665615,
          3.924972547723104,
          -0.393606956695304,
          -0.3643562130452822,
          -0.3196644754339258,
          -0.2794722747023795,
          -0.2166390509414726,
          -0.29367799014961876,
          -0.13589249269533166,
          -0.2939302774949873,
          -0.33715664208121926,
          -0.3321210223130937,
          -0.20062179430720958,
          2.229388287705469,
          -0.3534443985570035,
          -0.2718497092963078,
          1.0178114747693876,
          -0.3576458055285588,
          -0.35785365883095077,
          -0.3966256735025319,
          -0.17456229116203914,
          -0.36143049305732033,
          -0.3565720886039901,
          -0.3258201911999365,
          -0.34503372611998334,
          -0.3835739125397763,
          -0.29117339924133034,
          -0.36345526058474187,
          -0.3569157242486621,
          -0.34489499749910824,
          -0.19231349665943115,
          -0.1961640384709882,
          -0.24361988540635715,
          0.6059791984286622,
          -0.1352237899307643,
          -0.39591969656889364,
          -0.2865116104391788,
          -0.3326514105488346,
          -0.39637620591964345,
          -0.3579707361903078,
          0.5746360440126844,
          -0.3455110423321106,
          -0.3321338956527184,
          -0.2767230224664063,
          -0.29183807189425304,
          -0.38113653009942533,
          -0.38380134308917074,
          3.7446191749623323,
          0.10265088397466916,
          -0.38133881547648973,
          -0.33151887906988414,
          -0.3323445565291293,
          -0.2730652432014403,
          -0.33286332937299956,
          -0.375421945801775,
          -0.24649340245975268,
          -0.09120579552086004,
          -0.371166712681558,
          -0.3321410182534177,
          -0.3251993507849026,
          -0.3803669870185117,
          -0.33057887793177615,
          -0.36494864489561035,
          -0.3581475717172037,
          -0.3102552257208093,
          3.72789881501859,
          -0.10104594673033486,
          -0.32777122800245556,
          -0.34098651642238553,
          -0.2733285232450868,
          3.737775555797039,
          3.7390207854666113,
          -0.2539455292570044,
          -0.3648844548741001,
          -0.392739064795174,
          2.473212938291262,
          -0.3310248178072763,
          -0.29432708247284683
         ]
        },
        {
         "customdata": [
          [
           "SHA-256"
          ],
          [
           "Ethash"
          ],
          [
           "Scrypt"
          ],
          [
           "CryptoNight-V7"
          ],
          [
           "Ethash"
          ],
          [
           "Equihash"
          ],
          [
           "Multiple"
          ],
          [
           "Scrypt"
          ],
          [
           "X11"
          ],
          [
           "Scrypt"
          ],
          [
           "Multiple"
          ],
          [
           "Scrypt"
          ],
          [
           "SHA-256"
          ],
          [
           "Scrypt"
          ],
          [
           "Scrypt"
          ],
          [
           "Quark"
          ],
          [
           "Groestl"
          ],
          [
           "Scrypt"
          ],
          [
           "Scrypt"
          ],
          [
           "Scrypt"
          ],
          [
           "X11"
          ],
          [
           "Multiple"
          ],
          [
           "SHA-256"
          ],
          [
           "Scrypt"
          ],
          [
           "Scrypt"
          ],
          [
           "Scrypt"
          ],
          [
           "Scrypt"
          ],
          [
           "Scrypt"
          ],
          [
           "NeoScrypt"
          ],
          [
           "Scrypt"
          ],
          [
           "Scrypt"
          ],
          [
           "Scrypt"
          ],
          [
           "Scrypt"
          ],
          [
           "SHA-256"
          ],
          [
           "Scrypt"
          ],
          [
           "Scrypt"
          ],
          [
           "Scrypt"
          ],
          [
           "Scrypt"
          ],
          [
           "HybridScryptHash256"
          ],
          [
           "Scrypt"
          ],
          [
           "Scrypt"
          ],
          [
           "SHA-256"
          ],
          [
           "Scrypt"
          ],
          [
           "Scrypt"
          ],
          [
           "Scrypt"
          ],
          [
           "Scrypt"
          ],
          [
           "SHA-256"
          ],
          [
           "SHA-256"
          ],
          [
           "SHA-256"
          ],
          [
           "SHA-256"
          ],
          [
           "SHA-256"
          ],
          [
           "X11"
          ],
          [
           "Scrypt"
          ],
          [
           "Lyra2REv2"
          ],
          [
           "Scrypt"
          ],
          [
           "SHA-256"
          ],
          [
           "CryptoNight"
          ],
          [
           "CryptoNight"
          ],
          [
           "Scrypt"
          ],
          [
           "Scrypt"
          ],
          [
           "Scrypt"
          ],
          [
           "Scrypt"
          ],
          [
           "Scrypt"
          ],
          [
           "Scrypt"
          ],
          [
           "Stanford Folding"
          ],
          [
           "Multiple"
          ],
          [
           "QuBit"
          ],
          [
           "Scrypt"
          ],
          [
           "Scrypt"
          ],
          [
           "M7 POW"
          ],
          [
           "Scrypt"
          ],
          [
           "SHA-256"
          ],
          [
           "Scrypt"
          ],
          [
           "X11"
          ],
          [
           "Lyra2RE"
          ],
          [
           "SHA-256"
          ],
          [
           "X11"
          ],
          [
           "Scrypt"
          ],
          [
           "Scrypt"
          ],
          [
           "Ethash"
          ],
          [
           "Blake2b"
          ],
          [
           "X11"
          ],
          [
           "SHA-256"
          ],
          [
           "Scrypt"
          ],
          [
           "1GB AES Pattern Search"
          ],
          [
           "Scrypt"
          ],
          [
           "SHA-256"
          ],
          [
           "X11"
          ],
          [
           "Dagger"
          ],
          [
           "Scrypt"
          ],
          [
           "X11GOST"
          ],
          [
           "Scrypt"
          ],
          [
           "X11"
          ],
          [
           "Scrypt"
          ],
          [
           "X11"
          ],
          [
           "Equihash"
          ],
          [
           "CryptoNight"
          ],
          [
           "SHA-256"
          ],
          [
           "Multiple"
          ],
          [
           "Scrypt"
          ],
          [
           "SHA-256"
          ],
          [
           "Scrypt"
          ],
          [
           "Lyra2Z"
          ],
          [
           "Ethash"
          ],
          [
           "Equihash"
          ],
          [
           "Scrypt"
          ],
          [
           "X11"
          ],
          [
           "X11"
          ],
          [
           "CryptoNight"
          ],
          [
           "Scrypt"
          ],
          [
           "CryptoNight"
          ],
          [
           "Lyra2RE"
          ],
          [
           "X11"
          ],
          [
           "CryptoNight-V7"
          ],
          [
           "Scrypt"
          ],
          [
           "X11"
          ],
          [
           "Equihash"
          ],
          [
           "Scrypt"
          ],
          [
           "Lyra2RE"
          ],
          [
           "Dagger-Hashimoto"
          ],
          [
           "Scrypt"
          ],
          [
           "NIST5"
          ],
          [
           "Scrypt"
          ],
          [
           "SHA-256"
          ],
          [
           "Scrypt"
          ],
          [
           "CryptoNight-V7"
          ],
          [
           "Argon2d"
          ],
          [
           "Blake2b"
          ],
          [
           "Cloverhash"
          ],
          [
           "CryptoNight"
          ],
          [
           "X11"
          ],
          [
           "Scrypt"
          ],
          [
           "Scrypt"
          ],
          [
           "X11"
          ],
          [
           "X11"
          ],
          [
           "CryptoNight"
          ],
          [
           "Time Travel"
          ],
          [
           "Scrypt"
          ],
          [
           "Keccak"
          ],
          [
           "X11"
          ],
          [
           "SHA-256"
          ],
          [
           "Scrypt"
          ],
          [
           "Scrypt"
          ],
          [
           "Scrypt"
          ],
          [
           "Scrypt"
          ],
          [
           "Scrypt"
          ],
          [
           "Scrypt"
          ],
          [
           "CryptoNight"
          ],
          [
           "Equihash"
          ],
          [
           "X11"
          ],
          [
           "NeoScrypt"
          ],
          [
           "Equihash"
          ],
          [
           "Dagger"
          ],
          [
           "Scrypt"
          ],
          [
           "X11"
          ],
          [
           "NeoScrypt"
          ],
          [
           "Ethash"
          ],
          [
           "NeoScrypt"
          ],
          [
           "Multiple"
          ],
          [
           "CryptoNight"
          ],
          [
           "CryptoNight"
          ],
          [
           "Ethash"
          ],
          [
           "X11"
          ],
          [
           "CryptoNight-V7"
          ],
          [
           "Scrypt"
          ],
          [
           "BLAKE256"
          ],
          [
           "X11"
          ],
          [
           "NeoScrypt"
          ],
          [
           "NeoScrypt"
          ],
          [
           "Scrypt"
          ],
          [
           "X11"
          ],
          [
           "SHA-256"
          ],
          [
           "C11"
          ],
          [
           "CryptoNight"
          ],
          [
           "SkunkHash"
          ],
          [
           "CryptoNight"
          ],
          [
           "Scrypt"
          ],
          [
           "Dagger"
          ],
          [
           "Lyra2REv2"
          ],
          [
           "Scrypt"
          ],
          [
           "Scrypt"
          ],
          [
           "X11"
          ],
          [
           "Ethash"
          ],
          [
           "CryptoNight"
          ],
          [
           "Scrypt"
          ],
          [
           "IMesh"
          ],
          [
           "Equihash"
          ],
          [
           "Lyra2Z"
          ],
          [
           "X11"
          ],
          [
           "CryptoNight"
          ],
          [
           "NIST5"
          ],
          [
           "Lyra2RE"
          ],
          [
           "Tribus"
          ],
          [
           "Lyra2Z"
          ],
          [
           "CryptoNight"
          ],
          [
           "CryptoNight Heavy"
          ],
          [
           "CryptoNight"
          ],
          [
           "Jump Consistent Hash"
          ],
          [
           "CryptoNight"
          ],
          [
           "X16R"
          ],
          [
           "HMQ1725"
          ],
          [
           "X11"
          ],
          [
           "Scrypt"
          ],
          [
           "CryptoNight-V7"
          ],
          [
           "Cryptonight-GPU"
          ],
          [
           "XEVAN"
          ],
          [
           "CryptoNight Heavy"
          ],
          [
           "SHA-256"
          ],
          [
           "X11"
          ],
          [
           "X16R"
          ],
          [
           "Equihash"
          ],
          [
           "Lyra2Z"
          ],
          [
           "SHA-256"
          ],
          [
           "CryptoNight"
          ],
          [
           "Blake"
          ],
          [
           "Blake"
          ],
          [
           "Exosis"
          ],
          [
           "Scrypt"
          ],
          [
           "Equihash"
          ],
          [
           "Equihash"
          ],
          [
           "QuBit"
          ],
          [
           "SHA-256"
          ],
          [
           "X13"
          ],
          [
           "SHA-256"
          ],
          [
           "Scrypt"
          ],
          [
           "NeoScrypt"
          ],
          [
           "Blake"
          ],
          [
           "Scrypt"
          ],
          [
           "SHA-256"
          ],
          [
           "Scrypt"
          ],
          [
           "Groestl"
          ],
          [
           "Scrypt"
          ],
          [
           "Scrypt"
          ],
          [
           "Multiple"
          ],
          [
           "Equihash+Scrypt"
          ],
          [
           "Ethash"
          ],
          [
           "CryptoNight"
          ],
          [
           "Equihash"
          ]
         ],
         "hovertemplate": "<b>%{hovertext}</b><br><br>Class=%{marker.color}<br>PC 3=%{x}<br>PC 2=%{y}<br>PC 1=%{z}<br>Algorithm=%{customdata[0]}<extra></extra>",
         "hovertext": [
          "Bitcoin",
          "Ethereum",
          "Litecoin",
          "Monero",
          "Ethereum Classic",
          "ZCash",
          "DigiByte",
          "ProsperCoin",
          "Spreadcoin",
          "Argentum",
          "MyriadCoin",
          "MoonCoin",
          "ZetaCoin",
          "SexCoin",
          "Quatloo",
          "QuarkCoin",
          "Riecoin",
          "Digitalcoin ",
          "Catcoin",
          "CannaCoin",
          "CryptCoin",
          "Verge",
          "DevCoin",
          "EarthCoin",
          "E-Gulden",
          "Einsteinium",
          "Emerald",
          "Franko",
          "FeatherCoin",
          "GrandCoin",
          "GlobalCoin",
          "GoldCoin",
          "Infinite Coin",
          "IXcoin",
          "KrugerCoin",
          "LuckyCoin",
          "Litebar ",
          "MegaCoin",
          "MediterraneanCoin",
          "MinCoin",
          "NobleCoin",
          "Namecoin",
          "NyanCoin",
          "RonPaulCoin",
          "StableCoin",
          "SmartCoin",
          "SysCoin",
          "TigerCoin",
          "TerraCoin",
          "UnbreakableCoin",
          "Unobtanium",
          "UroCoin",
          "ViaCoin",
          "Vertcoin",
          "WorldCoin",
          "JouleCoin",
          "ByteCoin",
          "DigitalNote ",
          "MonaCoin",
          "Gulden",
          "PesetaCoin",
          "Wild Beast Coin",
          "Flo",
          "ArtByte",
          "Folding Coin",
          "Unitus",
          "CypherPunkCoin",
          "OmniCron",
          "GreenCoin",
          "Cryptonite",
          "MasterCoin",
          "SoonCoin",
          "1Credit",
          "MarsCoin ",
          "Crypto",
          "Anarchists Prime",
          "BowsCoin",
          "Song Coin",
          "BitZeny",
          "Expanse",
          "Siacoin",
          "MindCoin",
          "I0coin",
          "Revolution VR",
          "HOdlcoin",
          "Gamecredits",
          "CarpeDiemCoin",
          "Adzcoin",
          "SoilCoin",
          "YoCoin",
          "SibCoin",
          "Francs",
          "BolivarCoin",
          "Omni",
          "PizzaCoin",
          "Komodo",
          "Karbo",
          "ZayedCoin",
          "Circuits of Value",
          "DopeCoin",
          "DollarCoin",
          "Shilling",
          "ZCoin",
          "Elementrem",
          "ZClassic",
          "KiloCoin",
          "ArtexCoin",
          "Kurrent",
          "Cannabis Industry Coin",
          "OsmiumCoin",
          "Bikercoins",
          "HexxCoin",
          "PacCoin",
          "Citadel",
          "BeaverCoin",
          "VaultCoin",
          "Zero",
          "Canada eCoin",
          "Zoin",
          "DubaiCoin",
          "EB3coin",
          "Coinonat",
          "BenjiRolls",
          "ILCoin",
          "EquiTrader",
          "Quantum Resistant Ledger",
          "Dynamic",
          "Nano",
          "ChanCoin",
          "Dinastycoin",
          "DigitalPrice",
          "Unify",
          "SocialCoin",
          "ArcticCoin",
          "DAS",
          "LeviarCoin",
          "Bitcore",
          "gCn Coin",
          "SmartCash",
          "Onix",
          "Bitcoin Cash",
          "Sojourn Coin",
          "NewYorkCoin",
          "FrazCoin",
          "Kronecoin",
          "AdCoin",
          "Linx",
          "Sumokoin",
          "BitcoinZ",
          "Elements",
          "VIVO Coin",
          "Bitcoin Gold",
          "Pirl",
          "eBoost",
          "Pura",
          "Innova",
          "Ellaism",
          "GoByte",
          "SHIELD",
          "UltraNote",
          "BitCoal",
          "DaxxCoin",
          "AC3",
          "Lethean",
          "PopularCoin",
          "Photon",
          "Sucre",
          "SparksPay",
          "GunCoin",
          "IrishCoin",
          "Pioneer Coin",
          "UnitedBitcoin",
          "Interzone",
          "TurtleCoin",
          "MUNcoin",
          "Niobio Cash",
          "ShareChain",
          "Travelflex",
          "KREDS",
          "BitFlip",
          "LottoCoin",
          "Crypto Improvement Fund",
          "Callisto Network",
          "BitTube",
          "Poseidon",
          "Aidos Kuneen",
          "Bitrolium",
          "Alpenschillling",
          "FuturoCoin",
          "Monero Classic",
          "Jumpcoin",
          "Infinex",
          "KEYCO",
          "GINcoin",
          "PlatinCoin",
          "Loki",
          "Newton Coin",
          "MassGrid",
          "PluraCoin",
          "Motion",
          "PlusOneCoin",
          "Axe",
          "HexCoin",
          "Webchain",
          "Ryo",
          "Urals Coin",
          "Qwertycoin",
          "Project Pai",
          "Azart",
          "Xchange",
          "CrypticCoin",
          "Actinium",
          "Bitcoin SV",
          "FREDEnergy",
          "Universal Molecule",
          "Lithium",
          "Exosis",
          "Block-Logic",
          "Beam",
          "Bithereum",
          "SLICE",
          "BLAST",
          "Bitcoin Rhodium",
          "GlobalToken",
          "SolarCoin",
          "UFO Coin",
          "BlakeCoin",
          "Crypto Escudo",
          "Crown Coin",
          "SmileyCoin",
          "Groestlcoin",
          "Bata",
          "Pakcoin",
          "JoinCoin",
          "Vollar",
          "Reality Clash",
          "Beldex",
          "Horizen"
         ],
         "legendgroup": "1",
         "marker": {
          "color": [
           1,
           1,
           1,
           1,
           1,
           1,
           1,
           1,
           1,
           1,
           1,
           1,
           1,
           1,
           1,
           1,
           1,
           1,
           1,
           1,
           1,
           1,
           1,
           1,
           1,
           1,
           1,
           1,
           1,
           1,
           1,
           1,
           1,
           1,
           1,
           1,
           1,
           1,
           1,
           1,
           1,
           1,
           1,
           1,
           1,
           1,
           1,
           1,
           1,
           1,
           1,
           1,
           1,
           1,
           1,
           1,
           1,
           1,
           1,
           1,
           1,
           1,
           1,
           1,
           1,
           1,
           1,
           1,
           1,
           1,
           1,
           1,
           1,
           1,
           1,
           1,
           1,
           1,
           1,
           1,
           1,
           1,
           1,
           1,
           1,
           1,
           1,
           1,
           1,
           1,
           1,
           1,
           1,
           1,
           1,
           1,
           1,
           1,
           1,
           1,
           1,
           1,
           1,
           1,
           1,
           1,
           1,
           1,
           1,
           1,
           1,
           1,
           1,
           1,
           1,
           1,
           1,
           1,
           1,
           1,
           1,
           1,
           1,
           1,
           1,
           1,
           1,
           1,
           1,
           1,
           1,
           1,
           1,
           1,
           1,
           1,
           1,
           1,
           1,
           1,
           1,
           1,
           1,
           1,
           1,
           1,
           1,
           1,
           1,
           1,
           1,
           1,
           1,
           1,
           1,
           1,
           1,
           1,
           1,
           1,
           1,
           1,
           1,
           1,
           1,
           1,
           1,
           1,
           1,
           1,
           1,
           1,
           1,
           1,
           1,
           1,
           1,
           1,
           1,
           1,
           1,
           1,
           1,
           1,
           1,
           1,
           1,
           1,
           1,
           1,
           1,
           1,
           1,
           1,
           1,
           1,
           1,
           1,
           1,
           1,
           1,
           1,
           1,
           1,
           1,
           1,
           1,
           1,
           1,
           1,
           1,
           1,
           1,
           1,
           1,
           1,
           1,
           1,
           1,
           1,
           1,
           1,
           1,
           1,
           1,
           1,
           1,
           1,
           1,
           1,
           1,
           1,
           1,
           1,
           1,
           1,
           1,
           1
          ],
          "coloraxis": "coloraxis",
          "symbol": "diamond"
         },
         "mode": "markers",
         "name": "1",
         "scene": "scene",
         "showlegend": true,
         "type": "scatter3d",
         "x": [
          0.16994436034087024,
          0.43508267839903186,
          0.0016744490702967473,
          0.4412596446414912,
          0.43505290032899224,
          0.3117847979816896,
          0.3663338679936914,
          0.0017074006468124172,
          0.0474210624056184,
          0.001699023074172958,
          0.3730065010952666,
          -0.04825303322483097,
          0.16985918078701823,
          0.001624364786452675,
          0.0016964342339068636,
          0.10357482723317234,
          0.18161542455478966,
          0.001691904073238098,
          0.0017067732048777554,
          0.0017088834577775318,
          0.047423982031639826,
          0.3649571458530087,
          0.15910776264292875,
          -0.005463688921759134,
          0.0017008557815623839,
          0.001579015197986407,
          0.0017000355107046994,
          0.0017106704551483275,
          0.24939279831123443,
          0.0011456345114066514,
          0.0016751324731094433,
          0.0016852198131159968,
          -0.04923414310699029,
          0.16994299356158293,
          0.0016126302295885438,
          0.001701670618202307,
          0.0017119733786353363,
          0.001690671020991505,
          0.39625836172956685,
          0.0017088164400025606,
          -0.0012618366773058892,
          0.1699457394823075,
          0.0015241056884712633,
          0.0017094166228936577,
          0.0016696301680563953,
          0.0016949019565120928,
          0.16959580619785308,
          0.1699299065019975,
          0.16993946315187133,
          0.1699434472680243,
          0.16995472209066062,
          0.04742796217507511,
          0.001699627174970605,
          0.2477816916434285,
          0.0016263926668742647,
          0.16993204462385605,
          0.31180430967396294,
          0.41107939093464324,
          0.0016694726385371595,
          0.0013146380860413977,
          0.0016315374596145077,
          0.0017122057843322086,
          0.001625991738726807,
          0.001239950885773649,
          0.5370822091643412,
          0.37396830543284015,
          0.21764749844762238,
          0.001707804884285836,
          -0.0015812797531900404,
          0.5314503810938641,
          0.0017122780059876269,
          0.1699467222730754,
          -0.010258351028930232,
          0.047410263025926574,
          0.4225111293673003,
          0.16994147211891725,
          0.047418894720457586,
          0.001671194543055558,
          0.0016474139573954072,
          0.4351224863141086,
          0.31612483219020526,
          0.0474195436476645,
          0.16994303327126684,
          0.0015945335739915507,
          0.48306083010861545,
          0.0016715112803552701,
          0.15774423486853473,
          0.0473980560869671,
          0.4635464799342295,
          0.0016904455837628,
          0.4279881604803692,
          0.0017071839039771589,
          0.04741932936222517,
          0.0017122797098979461,
          0.047424635461371566,
          0.0021673935336452553,
          0.41536111640890305,
          0.16995087586158494,
          0.37340807879146604,
          0.0016360988386809848,
          0.16994952104202682,
          0.001703916773628727,
          0.5340679670474062,
          0.435114485909484,
          0.31178556281135905,
          0.0003265918900616576,
          0.04700726890588592,
          0.047372293323751834,
          0.4153626433918934,
          0.0017118867646056348,
          0.4153585013047606,
          0.4225235176539694,
          0.034184494956156095,
          0.44123826621145973,
          0.0017108426669417622,
          0.04728523162986846,
          0.31178551788820025,
          0.0016564593871176258,
          0.4225148812777365,
          0.36647216439426716,
          0.001164446655944139,
          -0.06755592009311513,
          0.001699240599493453,
          0.16905997718669702,
          0.0016973477807666142,
          0.4412235776866682,
          0.39547766849870436,
          0.3303289629877001,
          0.4263827066597451,
          0.41432345898441875,
          0.047400284078028807,
          0.0017022804215348073,
          0.0017006337938175174,
          0.04740942064159401,
          0.047424891076567874,
          0.4153526511254553,
          0.35962014188453,
          -0.0947880893049149,
          0.20732348014172686,
          0.04723241584517872,
          0.16994433077016483,
          0.0003461681409768911,
          -0.0600988218674361,
          0.0017058296332095125,
          0.001694152384844484,
          0.001685503654389075,
          0.0016850412593518865,
          0.41535036555399496,
          0.30680564679907785,
          0.046026020808557465,
          0.24952139697458695,
          0.31178055380584857,
          0.4635178195085129,
          0.001656396025481248,
          0.04730720923816218,
          0.24951809991726068,
          0.43508727555718457,
          0.24952005216578946,
          0.37370235342094615,
          0.3959715538382539,
          0.41536222715919496,
          0.4336028895836358,
          0.047322203718304534,
          0.4409463074253004,
          -0.000651405864951012,
          0.08093626802893,
          0.047424079745038046,
          0.2495205864633452,
          0.24933207039050964,
          0.001684639722262033,
          0.04742182680132551,
          0.16994350117779153,
          0.20474828891399113,
          0.26227838323527136,
          0.5402492613707437,
          0.4152641893916664,
          -0.003910839983356776,
          0.4634934472380315,
          0.24739334309292133,
          0.0017020420616016747,
          -0.006945887963749302,
          0.04727209585675167,
          0.43417642465460726,
          0.4152010803318129,
          0.001708134611791699,
          0.4337783460259957,
          0.3117507715011378,
          0.5340231698185074,
          0.04740172664404808,
          0.4153564815496714,
          -0.06755710532066034,
          0.4225200068777309,
          0.40546241134745975,
          0.5340696368488111,
          0.41528769082304084,
          0.4539671144480166,
          0.3735752834862684,
          0.4624268988502113,
          0.4149935950854016,
          0.2755567359836185,
          0.3246123043094496,
          0.04742359338460487,
          0.0017091377336771148,
          0.4410326371744602,
          0.3535754212724894,
          -0.3059656145992384,
          0.38696226161635233,
          0.1687739135263846,
          0.04742306303228879,
          0.2755458929404308,
          0.3089712853300675,
          0.5340571994647075,
          0.16994433209926504,
          0.41350744502754266,
          0.4013438404439952,
          0.4013480685842492,
          0.41727898359213217,
          0.0016817610655386987,
          0.3117411012563237,
          0.31177583192004854,
          0.217631650924747,
          0.16992391100381102,
          -0.09849416688776574,
          0.1698964093558397,
          -0.011076054988700991,
          0.2473531002907422,
          0.4004372729324263,
          0.001245278762498853,
          0.16993944087784285,
          -0.017580339435960123,
          0.1816024268139842,
          0.0017097919180553626,
          0.001658825172640933,
          0.3739946442930943,
          0.4668396382462739,
          0.43511545179321115,
          0.41475992385028504,
          0.3117848353774925
         ],
         "y": [
          -1.2879887653931845,
          -1.9982103332856218,
          -1.1345607970175138,
          -2.1455619385712823,
          -1.9983125390440337,
          -2.095647324728918,
          -1.7930955683258034,
          -1.1345481607619678,
          -0.8747336946125575,
          -1.1345673773635296,
          -1.786834164483056,
          -1.3247966223890282,
          -1.2880130914787469,
          -1.1346216660618962,
          -1.1345867865713748,
          -0.44128636489352585,
          -1.239233995487054,
          -1.134552643226585,
          -1.1345476898708118,
          -1.1345446117234692,
          -0.874734699544539,
          -1.789425953972045,
          -1.2922989137172531,
          -1.1371608919982819,
          -1.134543248882487,
          -1.134617164106394,
          -1.1345491575320934,
          -1.1345448234529614,
          -1.6184632396920726,
          -1.1349566873919286,
          -1.1345530063063234,
          -1.134561908747287,
          -1.1500405611557658,
          -1.287987739634077,
          -1.134622005649542,
          -1.1345432672978395,
          -1.1345399378713408,
          -1.1345480606858043,
          -2.205214117748746,
          -1.1345426990480607,
          -1.141204026709896,
          -1.2879898004300059,
          -1.1345980231973054,
          -1.134549673739114,
          -1.1346556374410737,
          -1.1345566926276722,
          -1.2882414078642082,
          -1.2879933459506037,
          -1.2879975454851231,
          -1.2880230738833525,
          -1.2879842346977264,
          -0.8747270105587647,
          -1.1345435130497648,
          -1.138156917337129,
          -1.13463233427064,
          -1.2879937572703206,
          -2.2447032288775395,
          -2.2157294026724927,
          -1.1345695888119862,
          -1.1352373716481141,
          -1.1345774564455722,
          -1.1345408702904431,
          -1.1345695067894268,
          -1.1347780016376519,
          -2.440307562672576,
          -1.7863697638216385,
          -1.5207562335189446,
          -1.1345380083269525,
          -1.137998715073888,
          -2.2544608352449855,
          -1.1345397332091518,
          -1.287990538008187,
          -1.180122003712771,
          -0.8747333002335146,
          -2.1735779463601097,
          -1.2880060282265589,
          -0.8747326608930489,
          -1.1346332292687207,
          -1.134638964317165,
          -1.9982502362974337,
          -2.1319539890154586,
          -0.8747301823371118,
          -1.2879877694359407,
          -1.1345755533546587,
          -2.1438116727925047,
          -1.1345585922249644,
          -1.291647050492534,
          -0.8747543878348062,
          -2.204568087685163,
          -1.1346228322633045,
          -2.267418885830854,
          -1.134547404983527,
          -0.8747353595462352,
          -1.1345397326907896,
          -0.8747393417396835,
          -1.8075981511503203,
          -2.2130175980752957,
          -1.287986974409961,
          -1.786661054509462,
          -1.1346008166764705,
          -1.2879864927924283,
          -1.1345508841664154,
          -2.1628076152664293,
          -1.9982497474993504,
          -2.0956478987286893,
          -1.1394305605310306,
          -0.87470784011805,
          -0.8748204615094859,
          -2.2130252683238907,
          -1.1345406820456432,
          -2.21302453217133,
          -2.173554154374681,
          -0.9240993062166142,
          -2.1456556203475023,
          -1.1345402814392556,
          -0.8752130065285417,
          -2.095645492556824,
          -1.134556785704714,
          -2.1735541970878214,
          -2.15018425433079,
          -1.1365006791876913,
          -0.6398954398418664,
          -1.1345506489560053,
          -1.288795371921491,
          -1.1345708649811939,
          -2.1455971475572246,
          -2.0659816415382086,
          -2.1428159246152956,
          -2.1958615814563074,
          -2.2134191403371712,
          -0.8747655497571245,
          -1.1345432960110542,
          -1.1345751104559483,
          -0.8747486821163858,
          -0.8747359155798364,
          -2.2130373419647866,
          -2.136806058700985,
          -1.180739323845436,
          -1.2324006643651462,
          -0.8752326800532156,
          -1.2879887432005592,
          -1.1397418095472591,
          -1.0881505309478583,
          -1.134546388611983,
          -1.1345755842289713,
          -1.1345785832414064,
          -1.1345782362168908,
          -2.2130563197574795,
          -2.1043534491728138,
          -0.8747424683309235,
          -1.618376479837737,
          -2.095644139502113,
          -2.2046214925522998,
          -1.1345567381522115,
          -0.8748439762681256,
          -1.6183846814752634,
          -1.9983798554359073,
          -1.6183783175161277,
          -1.786561623996987,
          -2.248874642409409,
          -2.2130199144721057,
          -2.0030309045551187,
          -0.8749738523955867,
          -2.145919587806144,
          -1.1357310078227492,
          -1.249299308744306,
          -0.8747358404836135,
          -1.6183723128682554,
          -1.6185149345264407,
          -1.1345565827499795,
          -0.8747360476296343,
          -1.2879876259394412,
          -1.2831959692294388,
          -2.691238385897249,
          -1.8887885588714006,
          -2.213138210240947,
          -1.1362503950312366,
          -2.2045698049892253,
          -1.1384680683952648,
          -1.1345554083503422,
          -1.1389589111661187,
          -0.8749065910496797,
          -2.0013854387985544,
          -2.2134846752108506,
          -1.134548711597987,
          -2.0345729152249667,
          -2.095650850675237,
          -2.1629392368853164,
          -0.8747666323936892,
          -2.213019101803482,
          -0.6398783867844469,
          -2.1735611754614763,
          -2.1307623359879493,
          -2.162802403495495,
          -2.2133124304052405,
          -2.2298778146020655,
          -2.2907847035669557,
          -2.1602345068985063,
          -2.2133289588614047,
          -1.272549133310293,
          -2.2377671522279834,
          -0.874736187210418,
          -1.1345501199818662,
          -2.1464295209984523,
          -2.105540668536966,
          -0.7631124896559639,
          -2.2889139347925385,
          -1.288343437243176,
          -0.8747381616417212,
          -1.2725872136947982,
          -2.0980310150017245,
          -2.162836663221615,
          -1.2879887441980402,
          -2.216412862214315,
          -2.1422100170835936,
          -2.1421658056593436,
          -2.135764533045326,
          -1.134587636739037,
          -2.0957579456613025,
          -2.0956464592853137,
          -1.5208036514874994,
          -1.2879989222128136,
          -0.35434111333159,
          -1.2880399662923958,
          -1.1831263195401676,
          -1.6191056302892222,
          -2.145619096102239,
          -1.1347820001750335,
          -1.2879975287686078,
          -1.1497160963990811,
          -1.2392366961667087,
          -1.1345404655664437,
          -1.1346071965867024,
          -1.786391191687805,
          -2.095234463099567,
          -1.998249453658697,
          -2.2133909678603874,
          -2.0956473527942285
         ],
         "z": [
          -0.14841602306591087,
          -0.1524025945245072,
          -0.16848524239391774,
          -0.14926769093073014,
          -0.15084328302208042,
          -0.16269835625770324,
          0.1620923800862743,
          -0.16963250171471553,
          -0.22089760955331256,
          -0.16924870917877724,
          -0.09153659400781497,
          2.5545623218143447,
          -0.14549836152217738,
          -0.16650168217052094,
          -0.16905257466431145,
          -0.22867935040809936,
          -0.19738756513214697,
          -0.16910136916210441,
          -0.16961475158481892,
          -0.16970128248296212,
          -0.2209870324458508,
          0.18586503233955806,
          0.22976609043396734,
          0.07925001555445899,
          -0.16944734958839128,
          -0.16504877509339996,
          -0.1693865925114677,
          -0.16975833658929843,
          -0.17336264745437352,
          -0.14896232163593817,
          -0.1685523689395323,
          -0.16883007014699938,
          1.5807065763785786,
          -0.14837735732078353,
          -0.16611707170500456,
          -0.1694738148612233,
          -0.1698289441338019,
          -0.16908753604695906,
          -0.16134502908838064,
          -0.1697101059262893,
          -0.03449831800247088,
          -0.14845503853215056,
          -0.163368383410802,
          -0.1696895330276286,
          -0.1677822252118911,
          -0.16917582082170785,
          -0.13559576798807013,
          -0.14791832878425484,
          -0.14820579321823638,
          -0.14818877790583654,
          -0.14877999012340257,
          -0.2211610779487965,
          -0.16940576508993666,
          -0.19761523062211328,
          -0.1665064066155728,
          -0.14798568403260842,
          3.8599558440659836,
          0.4558976224474335,
          -0.16827236113727942,
          -0.1528578694729968,
          -0.1669900368539061,
          -0.16983115597040754,
          -0.16685495077190132,
          -0.1530663815584892,
          -0.13532409805480167,
          -0.1255733427718846,
          -0.1803230671473705,
          -0.1697041183187895,
          -0.04253041236368067,
          -0.11670996097087533,
          -0.1698400558045702,
          -0.14848284136589124,
          0.48287332349821727,
          -0.2205477190927111,
          -0.15747682205579114,
          -0.1482224798753282,
          -0.22083287263230084,
          -0.16796221384948973,
          -0.16715373578002696,
          -0.1534710324190278,
          0.36838579591654785,
          -0.2208682996095342,
          -0.1483784806949298,
          -0.16579431908190254,
          -0.15978054283238144,
          -0.1684021332642794,
          0.2704778504123862,
          -0.22002828456160442,
          -0.14464186925135497,
          -0.16864981952498448,
          -0.14812955039951525,
          -0.16962978393701322,
          -0.22083151327894496,
          -0.16984011435147886,
          -0.2209816211118647,
          -0.3066101990901983,
          0.3006650564576947,
          -0.1486387981688427,
          -0.10562814321662115,
          -0.1670043250813907,
          -0.1485973904892635,
          -0.16950321980171648,
          -0.15361566489551115,
          -0.1532129580756487,
          -0.16271999304229626,
          -0.09650348560524834,
          -0.20755289750232678,
          -0.21880787606787383,
          0.30065941048056377,
          -0.16982183644150034,
          0.30079024401790316,
          -0.15801773592248627,
          0.494873055158941,
          -0.14803134771373275,
          -0.16979009491236247,
          -0.21370946969186097,
          -0.16273237740935795,
          -0.167921699145926,
          -0.15773586374283421,
          -0.14306015584353676,
          -0.14068896970822295,
          -0.18925158592751765,
          -0.16935208676294966,
          -0.1149342809607896,
          -0.1691740052113561,
          -0.14788891866104553,
          -0.1448986523018758,
          -0.032282823207175126,
          -0.1523790293399033,
          0.3368135265057869,
          -0.2200366927949861,
          -0.16949353486610766,
          -0.1692567240388343,
          -0.22043171551778573,
          -0.22100967660711254,
          0.3010547441112802,
          -0.15860975882354866,
          3.2428835228325137,
          -0.13356422459002984,
          -0.21187394746491547,
          -0.14841518652013433,
          -0.09535038783621,
          1.578773902416326,
          -0.1695914720539308,
          -0.16904264280546602,
          -0.16874335209633717,
          -0.168730271089921,
          0.3012385061269449,
          0.049778485140275754,
          -0.17535575607604967,
          -0.17805552856971224,
          -0.16257828989249304,
          -0.1433998882233118,
          -0.16791990666567516,
          -0.21655018380863142,
          -0.1779008073524025,
          -0.1515767806341717,
          -0.1780010980882369,
          -0.11579653342011124,
          1.1393289983055652,
          0.3006421682082647,
          -0.07640177453947937,
          -0.21629161137753453,
          -0.1369914449997338,
          -0.08590528057006862,
          1.097540543194318,
          -0.22098365187343336,
          -0.17805308231128247,
          -0.17108480979201865,
          -0.1688418087937861,
          -0.22090899263969788,
          -0.14839456473474247,
          -0.21244117841139576,
          8.04509923292739,
          -0.15231276387603798,
          0.304519991644899,
          0.023372094950231095,
          -0.14290262488331437,
          -0.1831605473252469,
          -0.16941604673149113,
          0.13793243126730456,
          -0.21504476649989546,
          -0.10457522179495583,
          0.30857209455641404,
          -0.16965326534717706,
          -0.15412368486151085,
          -0.16156848154906747,
          -0.15139727906195977,
          -0.22007750252224906,
          0.30082485111032253,
          -0.18931108929600837,
          -0.1578628404110502,
          -0.15702238387948297,
          -0.15370011353681295,
          0.3047563905983413,
          0.5837848651452537,
          2.110879171850866,
          -0.14372475858754113,
          0.3144417852354041,
          -0.19529788674677312,
          -0.16511265985147788,
          -0.22096579632507712,
          -0.1696778701869009,
          -0.13687156035889558,
          -0.13579688975791973,
          -0.11790367569395839,
          3.1085634735985193,
          -0.1082071551778366,
          -0.2209371376004338,
          -0.1947251220182798,
          -0.05723174644159954,
          -0.15309734912532383,
          -0.1484152241199519,
          0.3806542457432188,
          -0.13950443475292992,
          -0.13989678063390093,
          -0.153877246730134,
          -0.1685691993215964,
          -0.1606367314183778,
          -0.1624109603688386,
          -0.17953336511990345,
          -0.14769072420925206,
          -0.11017281694972665,
          -0.14655767551411458,
          0.5268301285159335,
          -0.10315205901434556,
          -0.09032014147670125,
          -0.15321710547208062,
          -0.1482051630931556,
          0.5466301115222425,
          -0.1969481732874456,
          -0.1697547709215909,
          -0.16770869426610172,
          -0.12630890197053563,
          -0.12650966899148733,
          -0.15324614615281304,
          0.3224185519071218,
          -0.1626994141729024
         ]
        },
        {
         "customdata": [
          [
           "VeChainThor Authority"
          ],
          [
           "Proof-of-BibleHash"
          ],
          [
           "SHA-256 + Hive"
          ],
          [
           "Proof-of-Authority"
          ],
          [
           "ECC 256K1"
          ],
          [
           "SHA3-256"
          ],
          [
           "Leased POS"
          ]
         ],
         "hovertemplate": "<b>%{hovertext}</b><br><br>Class=%{marker.color}<br>PC 3=%{x}<br>PC 2=%{y}<br>PC 1=%{z}<br>Algorithm=%{customdata[0]}<extra></extra>",
         "hovertext": [
          "Vechain",
          "BiblePay",
          "LitecoinCash",
          "Poa Network",
          "Acute Angle Cloud",
          "Fiii",
          "Waves"
         ],
         "legendgroup": "3",
         "marker": {
          "color": [
           3,
           3,
           3,
           3,
           3,
           3,
           3
          ],
          "coloraxis": "coloraxis",
          "symbol": "square"
         },
         "mode": "markers",
         "name": "3",
         "scene": "scene",
         "showlegend": true,
         "type": "scatter3d",
         "x": [
          7.993658151893599,
          18.002094033959153,
          10.167015902449016,
          14.23024842496986,
          11.82385896118253,
          9.341086942592684,
          7.734851593245032
         ],
         "y": [
          1.0754874371185061,
          6.144843020405503,
          0.18212108329581628,
          3.100182078790596,
          1.8073368545970654,
          4.29720511763949,
          0.036530296350958544
         ],
         "z": [
          4.433719720873381,
          -0.2815883809519995,
          -0.28384035955977666,
          -0.3671193308262462,
          -0.32221986262329627,
          -0.5785062814193849,
          -0.3354894108510709
         ]
        },
        {
         "customdata": [
          [
           "TRC10"
          ]
         ],
         "hovertemplate": "<b>%{hovertext}</b><br><br>Class=%{marker.color}<br>PC 3=%{x}<br>PC 2=%{y}<br>PC 1=%{z}<br>Algorithm=%{customdata[0]}<extra></extra>",
         "hovertext": [
          "BitTorrent"
         ],
         "legendgroup": "2",
         "marker": {
          "color": [
           2
          ],
          "coloraxis": "coloraxis",
          "symbol": "x"
         },
         "mode": "markers",
         "name": "2",
         "scene": "scene",
         "showlegend": true,
         "type": "scatter3d",
         "x": [
          -1.1834354099850146
         ],
         "y": [
          1.6873125668701365
         ],
         "z": [
          34.092274639321005
         ]
        }
       ],
       "layout": {
        "autosize": true,
        "coloraxis": {
         "colorbar": {
          "title": {
           "text": "Class"
          }
         },
         "colorscale": [
          [
           0,
           "#0d0887"
          ],
          [
           0.1111111111111111,
           "#46039f"
          ],
          [
           0.2222222222222222,
           "#7201a8"
          ],
          [
           0.3333333333333333,
           "#9c179e"
          ],
          [
           0.4444444444444444,
           "#bd3786"
          ],
          [
           0.5555555555555556,
           "#d8576b"
          ],
          [
           0.6666666666666666,
           "#ed7953"
          ],
          [
           0.7777777777777778,
           "#fb9f3a"
          ],
          [
           0.8888888888888888,
           "#fdca26"
          ],
          [
           1,
           "#f0f921"
          ]
         ]
        },
        "legend": {
         "title": {
          "text": "Class"
         },
         "tracegroupgap": 0,
         "x": 0,
         "y": 1
        },
        "margin": {
         "t": 60
        },
        "scene": {
         "aspectmode": "auto",
         "aspectratio": {
          "x": 1.0688531387075781,
          "y": 0.4883025855229414,
          "z": 1.915988681772556
         },
         "domain": {
          "x": [
           0,
           1
          ],
          "y": [
           0,
           1
          ]
         },
         "xaxis": {
          "title": {
           "text": "PC 3"
          },
          "type": "linear"
         },
         "yaxis": {
          "title": {
           "text": "PC 2"
          },
          "type": "linear"
         },
         "zaxis": {
          "title": {
           "text": "PC 1"
          },
          "type": "linear"
         }
        },
        "template": {
         "data": {
          "bar": [
           {
            "error_x": {
             "color": "#2a3f5f"
            },
            "error_y": {
             "color": "#2a3f5f"
            },
            "marker": {
             "line": {
              "color": "#E5ECF6",
              "width": 0.5
             }
            },
            "type": "bar"
           }
          ],
          "barpolar": [
           {
            "marker": {
             "line": {
              "color": "#E5ECF6",
              "width": 0.5
             }
            },
            "type": "barpolar"
           }
          ],
          "carpet": [
           {
            "aaxis": {
             "endlinecolor": "#2a3f5f",
             "gridcolor": "white",
             "linecolor": "white",
             "minorgridcolor": "white",
             "startlinecolor": "#2a3f5f"
            },
            "baxis": {
             "endlinecolor": "#2a3f5f",
             "gridcolor": "white",
             "linecolor": "white",
             "minorgridcolor": "white",
             "startlinecolor": "#2a3f5f"
            },
            "type": "carpet"
           }
          ],
          "choropleth": [
           {
            "colorbar": {
             "outlinewidth": 0,
             "ticks": ""
            },
            "type": "choropleth"
           }
          ],
          "contour": [
           {
            "colorbar": {
             "outlinewidth": 0,
             "ticks": ""
            },
            "colorscale": [
             [
              0,
              "#0d0887"
             ],
             [
              0.1111111111111111,
              "#46039f"
             ],
             [
              0.2222222222222222,
              "#7201a8"
             ],
             [
              0.3333333333333333,
              "#9c179e"
             ],
             [
              0.4444444444444444,
              "#bd3786"
             ],
             [
              0.5555555555555556,
              "#d8576b"
             ],
             [
              0.6666666666666666,
              "#ed7953"
             ],
             [
              0.7777777777777778,
              "#fb9f3a"
             ],
             [
              0.8888888888888888,
              "#fdca26"
             ],
             [
              1,
              "#f0f921"
             ]
            ],
            "type": "contour"
           }
          ],
          "contourcarpet": [
           {
            "colorbar": {
             "outlinewidth": 0,
             "ticks": ""
            },
            "type": "contourcarpet"
           }
          ],
          "heatmap": [
           {
            "colorbar": {
             "outlinewidth": 0,
             "ticks": ""
            },
            "colorscale": [
             [
              0,
              "#0d0887"
             ],
             [
              0.1111111111111111,
              "#46039f"
             ],
             [
              0.2222222222222222,
              "#7201a8"
             ],
             [
              0.3333333333333333,
              "#9c179e"
             ],
             [
              0.4444444444444444,
              "#bd3786"
             ],
             [
              0.5555555555555556,
              "#d8576b"
             ],
             [
              0.6666666666666666,
              "#ed7953"
             ],
             [
              0.7777777777777778,
              "#fb9f3a"
             ],
             [
              0.8888888888888888,
              "#fdca26"
             ],
             [
              1,
              "#f0f921"
             ]
            ],
            "type": "heatmap"
           }
          ],
          "heatmapgl": [
           {
            "colorbar": {
             "outlinewidth": 0,
             "ticks": ""
            },
            "colorscale": [
             [
              0,
              "#0d0887"
             ],
             [
              0.1111111111111111,
              "#46039f"
             ],
             [
              0.2222222222222222,
              "#7201a8"
             ],
             [
              0.3333333333333333,
              "#9c179e"
             ],
             [
              0.4444444444444444,
              "#bd3786"
             ],
             [
              0.5555555555555556,
              "#d8576b"
             ],
             [
              0.6666666666666666,
              "#ed7953"
             ],
             [
              0.7777777777777778,
              "#fb9f3a"
             ],
             [
              0.8888888888888888,
              "#fdca26"
             ],
             [
              1,
              "#f0f921"
             ]
            ],
            "type": "heatmapgl"
           }
          ],
          "histogram": [
           {
            "marker": {
             "colorbar": {
              "outlinewidth": 0,
              "ticks": ""
             }
            },
            "type": "histogram"
           }
          ],
          "histogram2d": [
           {
            "colorbar": {
             "outlinewidth": 0,
             "ticks": ""
            },
            "colorscale": [
             [
              0,
              "#0d0887"
             ],
             [
              0.1111111111111111,
              "#46039f"
             ],
             [
              0.2222222222222222,
              "#7201a8"
             ],
             [
              0.3333333333333333,
              "#9c179e"
             ],
             [
              0.4444444444444444,
              "#bd3786"
             ],
             [
              0.5555555555555556,
              "#d8576b"
             ],
             [
              0.6666666666666666,
              "#ed7953"
             ],
             [
              0.7777777777777778,
              "#fb9f3a"
             ],
             [
              0.8888888888888888,
              "#fdca26"
             ],
             [
              1,
              "#f0f921"
             ]
            ],
            "type": "histogram2d"
           }
          ],
          "histogram2dcontour": [
           {
            "colorbar": {
             "outlinewidth": 0,
             "ticks": ""
            },
            "colorscale": [
             [
              0,
              "#0d0887"
             ],
             [
              0.1111111111111111,
              "#46039f"
             ],
             [
              0.2222222222222222,
              "#7201a8"
             ],
             [
              0.3333333333333333,
              "#9c179e"
             ],
             [
              0.4444444444444444,
              "#bd3786"
             ],
             [
              0.5555555555555556,
              "#d8576b"
             ],
             [
              0.6666666666666666,
              "#ed7953"
             ],
             [
              0.7777777777777778,
              "#fb9f3a"
             ],
             [
              0.8888888888888888,
              "#fdca26"
             ],
             [
              1,
              "#f0f921"
             ]
            ],
            "type": "histogram2dcontour"
           }
          ],
          "mesh3d": [
           {
            "colorbar": {
             "outlinewidth": 0,
             "ticks": ""
            },
            "type": "mesh3d"
           }
          ],
          "parcoords": [
           {
            "line": {
             "colorbar": {
              "outlinewidth": 0,
              "ticks": ""
             }
            },
            "type": "parcoords"
           }
          ],
          "pie": [
           {
            "automargin": true,
            "type": "pie"
           }
          ],
          "scatter": [
           {
            "marker": {
             "colorbar": {
              "outlinewidth": 0,
              "ticks": ""
             }
            },
            "type": "scatter"
           }
          ],
          "scatter3d": [
           {
            "line": {
             "colorbar": {
              "outlinewidth": 0,
              "ticks": ""
             }
            },
            "marker": {
             "colorbar": {
              "outlinewidth": 0,
              "ticks": ""
             }
            },
            "type": "scatter3d"
           }
          ],
          "scattercarpet": [
           {
            "marker": {
             "colorbar": {
              "outlinewidth": 0,
              "ticks": ""
             }
            },
            "type": "scattercarpet"
           }
          ],
          "scattergeo": [
           {
            "marker": {
             "colorbar": {
              "outlinewidth": 0,
              "ticks": ""
             }
            },
            "type": "scattergeo"
           }
          ],
          "scattergl": [
           {
            "marker": {
             "colorbar": {
              "outlinewidth": 0,
              "ticks": ""
             }
            },
            "type": "scattergl"
           }
          ],
          "scattermapbox": [
           {
            "marker": {
             "colorbar": {
              "outlinewidth": 0,
              "ticks": ""
             }
            },
            "type": "scattermapbox"
           }
          ],
          "scatterpolar": [
           {
            "marker": {
             "colorbar": {
              "outlinewidth": 0,
              "ticks": ""
             }
            },
            "type": "scatterpolar"
           }
          ],
          "scatterpolargl": [
           {
            "marker": {
             "colorbar": {
              "outlinewidth": 0,
              "ticks": ""
             }
            },
            "type": "scatterpolargl"
           }
          ],
          "scatterternary": [
           {
            "marker": {
             "colorbar": {
              "outlinewidth": 0,
              "ticks": ""
             }
            },
            "type": "scatterternary"
           }
          ],
          "surface": [
           {
            "colorbar": {
             "outlinewidth": 0,
             "ticks": ""
            },
            "colorscale": [
             [
              0,
              "#0d0887"
             ],
             [
              0.1111111111111111,
              "#46039f"
             ],
             [
              0.2222222222222222,
              "#7201a8"
             ],
             [
              0.3333333333333333,
              "#9c179e"
             ],
             [
              0.4444444444444444,
              "#bd3786"
             ],
             [
              0.5555555555555556,
              "#d8576b"
             ],
             [
              0.6666666666666666,
              "#ed7953"
             ],
             [
              0.7777777777777778,
              "#fb9f3a"
             ],
             [
              0.8888888888888888,
              "#fdca26"
             ],
             [
              1,
              "#f0f921"
             ]
            ],
            "type": "surface"
           }
          ],
          "table": [
           {
            "cells": {
             "fill": {
              "color": "#EBF0F8"
             },
             "line": {
              "color": "white"
             }
            },
            "header": {
             "fill": {
              "color": "#C8D4E3"
             },
             "line": {
              "color": "white"
             }
            },
            "type": "table"
           }
          ]
         },
         "layout": {
          "annotationdefaults": {
           "arrowcolor": "#2a3f5f",
           "arrowhead": 0,
           "arrowwidth": 1
          },
          "coloraxis": {
           "colorbar": {
            "outlinewidth": 0,
            "ticks": ""
           }
          },
          "colorscale": {
           "diverging": [
            [
             0,
             "#8e0152"
            ],
            [
             0.1,
             "#c51b7d"
            ],
            [
             0.2,
             "#de77ae"
            ],
            [
             0.3,
             "#f1b6da"
            ],
            [
             0.4,
             "#fde0ef"
            ],
            [
             0.5,
             "#f7f7f7"
            ],
            [
             0.6,
             "#e6f5d0"
            ],
            [
             0.7,
             "#b8e186"
            ],
            [
             0.8,
             "#7fbc41"
            ],
            [
             0.9,
             "#4d9221"
            ],
            [
             1,
             "#276419"
            ]
           ],
           "sequential": [
            [
             0,
             "#0d0887"
            ],
            [
             0.1111111111111111,
             "#46039f"
            ],
            [
             0.2222222222222222,
             "#7201a8"
            ],
            [
             0.3333333333333333,
             "#9c179e"
            ],
            [
             0.4444444444444444,
             "#bd3786"
            ],
            [
             0.5555555555555556,
             "#d8576b"
            ],
            [
             0.6666666666666666,
             "#ed7953"
            ],
            [
             0.7777777777777778,
             "#fb9f3a"
            ],
            [
             0.8888888888888888,
             "#fdca26"
            ],
            [
             1,
             "#f0f921"
            ]
           ],
           "sequentialminus": [
            [
             0,
             "#0d0887"
            ],
            [
             0.1111111111111111,
             "#46039f"
            ],
            [
             0.2222222222222222,
             "#7201a8"
            ],
            [
             0.3333333333333333,
             "#9c179e"
            ],
            [
             0.4444444444444444,
             "#bd3786"
            ],
            [
             0.5555555555555556,
             "#d8576b"
            ],
            [
             0.6666666666666666,
             "#ed7953"
            ],
            [
             0.7777777777777778,
             "#fb9f3a"
            ],
            [
             0.8888888888888888,
             "#fdca26"
            ],
            [
             1,
             "#f0f921"
            ]
           ]
          },
          "colorway": [
           "#636efa",
           "#EF553B",
           "#00cc96",
           "#ab63fa",
           "#FFA15A",
           "#19d3f3",
           "#FF6692",
           "#B6E880",
           "#FF97FF",
           "#FECB52"
          ],
          "font": {
           "color": "#2a3f5f"
          },
          "geo": {
           "bgcolor": "white",
           "lakecolor": "white",
           "landcolor": "#E5ECF6",
           "showlakes": true,
           "showland": true,
           "subunitcolor": "white"
          },
          "hoverlabel": {
           "align": "left"
          },
          "hovermode": "closest",
          "mapbox": {
           "style": "light"
          },
          "paper_bgcolor": "white",
          "plot_bgcolor": "#E5ECF6",
          "polar": {
           "angularaxis": {
            "gridcolor": "white",
            "linecolor": "white",
            "ticks": ""
           },
           "bgcolor": "#E5ECF6",
           "radialaxis": {
            "gridcolor": "white",
            "linecolor": "white",
            "ticks": ""
           }
          },
          "scene": {
           "xaxis": {
            "backgroundcolor": "#E5ECF6",
            "gridcolor": "white",
            "gridwidth": 2,
            "linecolor": "white",
            "showbackground": true,
            "ticks": "",
            "zerolinecolor": "white"
           },
           "yaxis": {
            "backgroundcolor": "#E5ECF6",
            "gridcolor": "white",
            "gridwidth": 2,
            "linecolor": "white",
            "showbackground": true,
            "ticks": "",
            "zerolinecolor": "white"
           },
           "zaxis": {
            "backgroundcolor": "#E5ECF6",
            "gridcolor": "white",
            "gridwidth": 2,
            "linecolor": "white",
            "showbackground": true,
            "ticks": "",
            "zerolinecolor": "white"
           }
          },
          "shapedefaults": {
           "line": {
            "color": "#2a3f5f"
           }
          },
          "ternary": {
           "aaxis": {
            "gridcolor": "white",
            "linecolor": "white",
            "ticks": ""
           },
           "baxis": {
            "gridcolor": "white",
            "linecolor": "white",
            "ticks": ""
           },
           "bgcolor": "#E5ECF6",
           "caxis": {
            "gridcolor": "white",
            "linecolor": "white",
            "ticks": ""
           }
          },
          "title": {
           "x": 0.05
          },
          "xaxis": {
           "automargin": true,
           "gridcolor": "white",
           "linecolor": "white",
           "ticks": "",
           "title": {
            "standoff": 15
           },
           "zerolinecolor": "white",
           "zerolinewidth": 2
          },
          "yaxis": {
           "automargin": true,
           "gridcolor": "white",
           "linecolor": "white",
           "ticks": "",
           "title": {
            "standoff": 15
           },
           "zerolinecolor": "white",
           "zerolinewidth": 2
          }
         }
        }
       }
      },
      "image/png": "[encoded data removed]",
      "text/html": [
       "<div>\n",
       "        \n",
       "        \n",
       "            <div id=\"d2e1a444-e992-407a-bf28-4432db2028ac\" class=\"plotly-graph-div\" style=\"height:525px; width:500px;\"></div>\n",
       "            <script type=\"text/javascript\">\n",
       "                require([\"plotly\"], function(Plotly) {\n",
       "                    window.PLOTLYENV=window.PLOTLYENV || {};\n",
       "                    \n",
       "                if (document.getElementById(\"d2e1a444-e992-407a-bf28-4432db2028ac\")) {\n",
       "                    Plotly.newPlot(\n",
       "                        'd2e1a444-e992-407a-bf28-4432db2028ac',\n",
       "                        [{\"customdata\": [[\"Scrypt\"], [\"Scrypt\"], [\"X13\"], [\"X11\"], [\"SHA-512\"], [\"SHA-256\"], [\"SHA-256\"], [\"X15\"], [\"Scrypt\"], [\"Scrypt\"], [\"Scrypt\"], [\"Scrypt\"], [\"Scrypt\"], [\"Scrypt\"], [\"Groestl\"], [\"PoS\"], [\"Scrypt\"], [\"Scrypt\"], [\"X11\"], [\"X11\"], [\"SHA3\"], [\"Scrypt\"], [\"SHA-256\"], [\"Scrypt\"], [\"X13\"], [\"X13\"], [\"NeoScrypt\"], [\"Scrypt\"], [\"Scrypt\"], [\"Scrypt\"], [\"X11\"], [\"X11\"], [\"Multiple\"], [\"PHI1612\"], [\"X11\"], [\"Scrypt\"], [\"Scrypt\"], [\"Scrypt\"], [\"X11\"], [\"Multiple\"], [\"X13\"], [\"Scrypt\"], [\"Shabal256\"], [\"Counterparty\"], [\"SHA-256\"], [\"Groestl\"], [\"Scrypt\"], [\"X13\"], [\"Scrypt\"], [\"Scrypt\"], [\"X13\"], [\"X11\"], [\"Scrypt\"], [\"X11\"], [\"SHA3\"], [\"QUAIT\"], [\"X11\"], [\"Scrypt\"], [\"X13\"], [\"SHA-256\"], [\"X15\"], [\"BLAKE256\"], [\"SHA-256\"], [\"X11\"], [\"SHA-256\"], [\"NIST5\"], [\"Scrypt\"], [\"Scrypt\"], [\"X11\"], [\"Scrypt\"], [\"SHA-256\"], [\"Scrypt\"], [\"PoS\"], [\"X11\"], [\"SHA-256\"], [\"SHA-256\"], [\"NIST5\"], [\"X11\"], [\"POS 3.0\"], [\"Scrypt\"], [\"Scrypt\"], [\"Scrypt\"], [\"X13\"], [\"X11\"], [\"X11\"], [\"Scrypt\"], [\"SHA-256\"], [\"X11\"], [\"Scrypt\"], [\"Scrypt\"], [\"Scrypt\"], [\"Scrypt\"], [\"SHA-256D\"], [\"PoS\"], [\"Scrypt\"], [\"X11\"], [\"PoS\"], [\"X13\"], [\"X14\"], [\"PoS\"], [\"SHA-256D\"], [\"DPoS\"], [\"X11\"], [\"X13\"], [\"X11\"], [\"PoS\"], [\"Scrypt\"], [\"Scrypt\"], [\"PoS\"], [\"X11\"], [\"SHA-256\"], [\"Scrypt\"], [\"X11\"], [\"Scrypt\"], [\"Scrypt\"], [\"X11\"], [\"Scrypt\"], [\"Scrypt\"], [\"Scrypt\"], [\"Scrypt\"], [\"Quark\"], [\"QuBit\"], [\"Scrypt\"], [\"SHA-256\"], [\"X11\"], [\"Scrypt\"], [\"Scrypt\"], [\"Scrypt\"], [\"Scrypt\"], [\"X13\"], [\"Scrypt\"], [\"Scrypt\"], [\"X11\"], [\"Blake2S\"], [\"X11\"], [\"PoS\"], [\"X11\"], [\"PoS\"], [\"X11\"], [\"Scrypt\"], [\"Scrypt\"], [\"Scrypt\"], [\"SHA-256\"], [\"X11\"], [\"Scrypt\"], [\"PoS\"], [\"Scrypt\"], [\"X15\"], [\"SHA-256\"], [\"POS 3.0\"], [\"536\"], [\"NIST5\"], [\"NIST5\"], [\"Skein\"], [\"X13\"], [\"Scrypt\"], [\"X13\"], [\"SkunkHash v2 Raptor\"], [\"Skein\"], [\"X11\"], [\"Scrypt\"], [\"PoS\"], [\"Scrypt\"], [\"Scrypt\"], [\"SHA-512\"], [\"Ouroboros\"], [\"X11\"], [\"NeoScrypt\"], [\"Scrypt\"], [\"Lyra2REv2\"], [\"Scrypt\"], [\"SHA-256\"], [\"NIST5\"], [\"PHI1612\"], [\"Scrypt\"], [\"Quark\"], [\"POS 2.0\"], [\"Scrypt\"], [\"SHA-256\"], [\"X11\"], [\"DPoS\"], [\"NIST5\"], [\"X13\"], [\"Scrypt\"], [\"NIST5\"], [\"Quark\"], [\"Scrypt\"], [\"Scrypt\"], [\"X11\"], [\"Quark\"], [\"Scrypt\"], [\"Scrypt\"], [\"X11\"], [\"POS 3.0\"], [\"Ethash\"], [\"Scrypt\"], [\"Scrypt\"], [\"X13\"], [\"C11\"], [\"X11\"], [\"XEVAN\"], [\"Scrypt\"], [\"VBFT\"], [\"NIST5\"], [\"Scrypt\"], [\"Scrypt\"], [\"Scrypt\"], [\"Green Protocol\"], [\"PoS\"], [\"Scrypt\"], [\"Semux BFT consensus\"], [\"Quark\"], [\"PoS\"], [\"X16R\"], [\"Scrypt\"], [\"XEVAN\"], [\"Scrypt\"], [\"Scrypt\"], [\"Scrypt\"], [\"SHA-256D\"], [\"Scrypt\"], [\"X15\"], [\"Scrypt\"], [\"Quark\"], [\"SHA-256\"], [\"DPoS\"], [\"X16R\"], [\"Quark\"], [\"Quark\"], [\"Scrypt\"], [\"Lyra2REv2\"], [\"Quark\"], [\"Scrypt\"], [\"X11\"], [\"X11\"], [\"Scrypt\"], [\"PoS\"], [\"Keccak\"], [\"X11\"], [\"Scrypt\"], [\"SHA-512\"], [\"XEVAN\"], [\"XEVAN\"], [\"X11\"], [\"Quark\"], [\"Equihash\"], [\"Scrypt\"], [\"Quark\"], [\"Quark\"], [\"Scrypt\"], [\"X11\"], [\"Scrypt\"], [\"XEVAN\"], [\"SHA-256D\"], [\"X11\"], [\"X11\"], [\"DPoS\"], [\"Scrypt\"], [\"X11\"], [\"Scrypt\"], [\"Scrypt\"], [\"SHA-256\"], [\"Scrypt\"], [\"X11\"], [\"Scrypt\"], [\"SHA-256\"], [\"X11\"], [\"Scrypt\"], [\"Scrypt\"], [\"X11\"], [\"Scrypt\"], [\"PoS\"], [\"X11\"], [\"SHA-256\"], [\"DPoS\"], [\"Scrypt\"], [\"Scrypt\"], [\"NeoScrypt\"], [\"X13\"], [\"DPoS\"], [\"DPoS\"], [\"SHA-256\"], [\"PoS\"], [\"PoS\"], [\"SHA-256\"], [\"Scrypt\"], [\"Scrypt\"]], \"hovertemplate\": \"<b>%{hovertext}</b><br><br>Class=%{marker.color}<br>PC 3=%{x}<br>PC 2=%{y}<br>PC 1=%{z}<br>Algorithm=%{customdata[0]}<extra></extra>\", \"hovertext\": [\"42 Coin\", \"404Coin\", \"EliteCoin\", \"Dash\", \"Bitshares\", \"BitcoinDark\", \"PayCoin\", \"KoboCoin\", \"Aurora Coin\", \"BlueCoin\", \"EnergyCoin\", \"BitBar\", \"CryptoBullion\", \"CasinoCoin\", \"Diamond\", \"Exclusive Coin\", \"FlutterCoin\", \"HoboNickels\", \"HyperStake\", \"IOCoin\", \"MaxCoin\", \"MintCoin\", \"MazaCoin\", \"Nautilus Coin\", \"NavCoin\", \"OpalCoin\", \"Orbitcoin\", \"PotCoin\", \"PhoenixCoin\", \"Reddcoin\", \"SuperCoin\", \"SyncCoin\", \"TeslaCoin\", \"TittieCoin\", \"TorCoin\", \"UnitaryStatus Dollar\", \"UltraCoin\", \"VeriCoin\", \"X11 Coin\", \"Crypti\", \"StealthCoin\", \"ZCC Coin\", \"BurstCoin\", \"StorjCoin\", \"Neutron\", \"FairCoin\", \"RubyCoin\", \"Kore\", \"Dnotes\", \"8BIT Coin\", \"Sativa Coin\", \"Ucoin\", \"Vtorrent\", \"IslaCoin\", \"Nexus\", \"Droidz\", \"Squall Coin\", \"Diggits\", \"Paycon\", \"Emercoin\", \"EverGreenCoin\", \"Decred\", \"EDRCoin\", \"Hitcoin\", \"DubaiCoin\", \"PWR Coin\", \"BillaryCoin\", \"GPU Coin\", \"EuropeCoin\", \"ZeitCoin\", \"SwingCoin\", \"SafeExchangeCoin\", \"Nebuchadnezzar\", \"Ratecoin\", \"Revenu\", \"Clockcoin\", \"VIP Tokens\", \"BitSend\", \"Let it Ride\", \"PutinCoin\", \"iBankCoin\", \"Frankywillcoin\", \"MudraCoin\", \"Lutetium Coin\", \"GoldBlocks\", \"CarterCoin\", \"BitTokens\", \"MustangCoin\", \"ZoneCoin\", \"RootCoin\", \"BitCurrency\", \"Swiscoin\", \"BuzzCoin\", \"Opair\", \"PesoBit\", \"Halloween Coin\", \"CoffeeCoin\", \"RoyalCoin\", \"GanjaCoin V2\", \"TeamUP\", \"LanaCoin\", \"ARK\", \"InsaneCoin\", \"EmberCoin\", \"XenixCoin\", \"FreeCoin\", \"PLNCoin\", \"AquariusCoin\", \"Creatio\", \"Eternity\", \"Eurocoin\", \"BitcoinFast\", \"Stakenet\", \"BitConnect Coin\", \"MoneyCoin\", \"Enigma\", \"Russiacoin\", \"PandaCoin\", \"GameUnits\", \"GAKHcoin\", \"Allsafe\", \"LiteCreed\", \"Klingon Empire Darsek\", \"Internet of People\", \"KushCoin\", \"Printerium\", \"Impeach\", \"Zilbercoin\", \"FirstCoin\", \"FindCoin\", \"OpenChat\", \"RenosCoin\", \"VirtacoinPlus\", \"TajCoin\", \"Impact\", \"Atmos\", \"HappyCoin\", \"MacronCoin\", \"Condensate\", \"Independent Money System\", \"ArgusCoin\", \"LomoCoin\", \"ProCurrency\", \"GoldReserve\", \"GrowthCoin\", \"Phreak\", \"Degas Coin\", \"HTML5 Coin\", \"Ultimate Secure Cash\", \"QTUM\", \"Espers\", \"Denarius\", \"Virta Unique Coin\", \"Bitcoin Planet\", \"BritCoin\", \"Linda\", \"DeepOnion\", \"Signatum\", \"Cream\", \"Monoeci\", \"Draftcoin\", \"Stakecoin\", \"CoinonatX\", \"Ethereum Dark\", \"Obsidian\", \"Cardano\", \"Regalcoin\", \"TrezarCoin\", \"TerraNovaCoin\", \"Rupee\", \"WomenCoin\", \"Theresa May Coin\", \"NamoCoin\", \"LUXCoin\", \"Xios\", \"Bitcloud 2.0\", \"KekCoin\", \"BlackholeCoin\", \"Infinity Economics\", \"Magnet\", \"Lamden Tau\", \"Electra\", \"Bitcoin Diamond\", \"Cash & Back Coin\", \"Bulwark\", \"Kalkulus\", \"GermanCoin\", \"LiteCoin Ultra\", \"PhantomX\", \"Digiwage\", \"Trollcoin\", \"Litecoin Plus\", \"Monkey Project\", \"TokenPay\", \"1717 Masonic Commemorative Token\", \"My Big Coin\", \"Unified Society USDEX\", \"Tokyo Coin\", \"Stipend\", \"Pushi\", \"Ellerium\", \"Velox\", \"Ontology\", \"Bitspace\", \"Briacoin\", \"Ignition\", \"MedicCoin\", \"Bitcoin Green\", \"Deviant Coin\", \"Abjcoin\", \"Semux\", \"Carebit\", \"Zealium\", \"Proton\", \"iDealCash\", \"Bitcoin Incognito\", \"HollyWoodCoin\", \"Swisscoin\", \"Xt3ch\", \"TheVig\", \"EmaratCoin\", \"Dekado\", \"Lynx\", \"Poseidon Quark\", \"BitcoinWSpectrum\", \"Muse\", \"Trivechain\", \"Dystem\", \"Giant\", \"Peony Coin\", \"Absolute Coin\", \"Vitae\", \"TPCash\", \"ARENON\", \"EUNO\", \"MMOCoin\", \"Ketan\", \"XDNA\", \"PAXEX\", \"ThunderStake\", \"Kcash\", \"Bettex coin\", \"BitMoney\", \"Junson Ming Chan Coin\", \"HerbCoin\", \"PirateCash\", \"Oduwa\", \"Galilel\", \"Crypto Sports\", \"Credit\", \"Dash Platinum\", \"Nasdacoin\", \"Beetle Coin\", \"Titan Coin\", \"Award\", \"Insane Coin\", \"ALAX\", \"LiteDoge\", \"TruckCoin\", \"OrangeCoin\", \"BitstarCoin\", \"NeosCoin\", \"HyperCoin\", \"PinkCoin\", \"AudioCoin\", \"IncaKoin\", \"Piggy Coin\", \"Genstake\", \"XiaoMiCoin\", \"CapriCoin\", \" ClubCoin\", \"Radium\", \"Creditbit \", \"OKCash\", \"Lisk\", \"HiCoin\", \"WhiteCoin\", \"FriendshipCoin\", \"Triangles Coin\", \"EOS\", \"Oxycoin\", \"TigerCash\", \"Particl\", \"Nxt\", \"ZEPHYR\", \"Gapcoin\", \"BitcoinPlus\"], \"legendgroup\": \"0\", \"marker\": {\"color\": [0, 0, 0, 0, 0, 0, 0, 0, 0, 0, 0, 0, 0, 0, 0, 0, 0, 0, 0, 0, 0, 0, 0, 0, 0, 0, 0, 0, 0, 0, 0, 0, 0, 0, 0, 0, 0, 0, 0, 0, 0, 0, 0, 0, 0, 0, 0, 0, 0, 0, 0, 0, 0, 0, 0, 0, 0, 0, 0, 0, 0, 0, 0, 0, 0, 0, 0, 0, 0, 0, 0, 0, 0, 0, 0, 0, 0, 0, 0, 0, 0, 0, 0, 0, 0, 0, 0, 0, 0, 0, 0, 0, 0, 0, 0, 0, 0, 0, 0, 0, 0, 0, 0, 0, 0, 0, 0, 0, 0, 0, 0, 0, 0, 0, 0, 0, 0, 0, 0, 0, 0, 0, 0, 0, 0, 0, 0, 0, 0, 0, 0, 0, 0, 0, 0, 0, 0, 0, 0, 0, 0, 0, 0, 0, 0, 0, 0, 0, 0, 0, 0, 0, 0, 0, 0, 0, 0, 0, 0, 0, 0, 0, 0, 0, 0, 0, 0, 0, 0, 0, 0, 0, 0, 0, 0, 0, 0, 0, 0, 0, 0, 0, 0, 0, 0, 0, 0, 0, 0, 0, 0, 0, 0, 0, 0, 0, 0, 0, 0, 0, 0, 0, 0, 0, 0, 0, 0, 0, 0, 0, 0, 0, 0, 0, 0, 0, 0, 0, 0, 0, 0, 0, 0, 0, 0, 0, 0, 0, 0, 0, 0, 0, 0, 0, 0, 0, 0, 0, 0, 0, 0, 0, 0, 0, 0, 0, 0, 0, 0, 0, 0, 0, 0, 0, 0, 0, 0, 0, 0, 0, 0, 0, 0, 0, 0, 0, 0, 0, 0, 0, 0, 0, 0, 0, 0, 0, 0, 0, 0, 0, 0, 0, 0, 0, 0, 0, 0], \"coloraxis\": \"coloraxis\", \"symbol\": \"circle\"}, \"mode\": \"markers\", \"name\": \"0\", \"scene\": \"scene\", \"showlegend\": true, \"type\": \"scatter3d\", \"x\": [-0.6136667551675731, -0.6141920585763836, -0.7674062081883414, -0.5679576636951582, -0.02566402696502422, -0.4454279597490861, -0.046177881892972304, -0.6960604104686395, -0.6136767755468483, -0.6139414029738287, -0.6137199462991327, -0.6136668386074388, -0.613667334397892, -0.21454757145034245, -0.4337336089080576, 0.005088105004288949, -0.4011098278923917, -0.6137209530566752, -0.1694229310709537, -0.5679613893337669, -0.6006920057309053, -0.22361711084069094, -0.4464368684205354, -0.21442238455152454, -0.7139013339920811, -0.7138793203174556, -0.3658545532675151, -0.6138176523560116, -0.6137114740460364, -0.6263377561945973, -0.1687193453999206, -0.5679508981422268, 0.15782283436867398, -0.1589483483721815, -0.5679528175781343, -0.6143499431765552, -0.6137014800857414, -0.33080304933864857, -0.5679546174993004, 0.15782731428423138, -0.7138870733423176, -0.6138608395336652, 0.10393904105559212, 0.009613659602251431, -0.44545029761781424, -0.4337546025448375, -0.2144250356735419, -0.7138752049087742, -0.2145538321288897, -0.6136673895855389, -0.713877137954007, -0.16870119313182638, -0.6136743734047044, -0.56795155176822, -0.2564326827397931, -0.7667053644693952, -0.6301534689989993, -0.21446952044647635, -0.7138892349141804, -0.4455732705937284, -0.6960130988083352, -0.5097340341605353, -0.44542898880976545, -0.5761584680435822, -0.44542812320185926, -0.6872769426765049, -0.6136761096443332, -0.21445954420939214, -0.568005361473526, -0.243275050817929, -0.44543163670352903, -0.1932613374173268, 0.00507931299758622, -0.5680188147980294, -0.44545403752347035, -0.44550005460931297, -0.6829724278589752, -0.5679795250819841, 0.09316937645604828, -0.6142784340099019, -0.6136744801514519, -0.6137229898074624, -0.3146474848751879, -0.1690668898816317, -0.567964130586127, -0.613697123171492, -0.4454275299092094, -0.5679515721087562, -0.6136706036399943, -0.6136675936177742, -0.21448659100777098, -0.26438259258863744, -0.873825848918727, 0.0050489316670581895, -0.6136812446955616, -0.5682604772302107, 0.0050210756555665766, -0.31462070589183877, -0.8063781631831076, 0.005043692411311979, -0.8642058214729399, -0.03151444310564939, -0.5679627293429531, -0.7538316648720641, -0.5679530644087227, 0.005062442598534294, -0.6136791565255718, -0.6136732789132548, 0.00507931299758622, -0.5679613280361416, -0.4454325092083289, -0.6136797990962073, -0.2670460895054401, -0.6136751878687775, -0.6137561358031268, -0.5679519002212984, -0.6136891134153171, -0.2332590695664743, -0.6136699478092801, -0.6136686197667421, -0.11241325560001621, -0.3977524550326749, -0.6137421730948379, -0.4454283643894494, -0.5679545606542459, -0.6136744672007151, -0.6136697422887397, -0.2144217055575486, -0.32631049055554506, -0.3146274679568764, -0.6142291017790267, -0.21443334727886498, -0.5679695986990425, -0.8344073169828164, -0.5680130281043432, 0.005028173121843727, -0.5679732115060434, 0.004865006907331103, -0.5680685441379016, -0.6136718358440698, -0.6136709728821167, -0.6137970901629095, -0.05597344723108203, -0.5679635242070419, -0.21480108932580985, 0.005081733191617866, -0.613689649479069, -0.7252884860355963, -0.046201576007573374, 0.09313418036126171, -0.8836228688401451, -0.6829277517552861, -0.6829674671580707, -0.8163137072995953, -0.713885865542785, -0.6240821703678474, -0.7138847014709472, 0.019451516269921008, -0.8163312243831949, -0.5679575673628823, -0.2144236174131211, 0.005080815699368512, -0.6136814791931297, -0.6136691169998226, -0.024033239218760567, -0.09774160331524241, -0.5679575497253624, -0.3659836596226547, -0.6136692954052823, 0.031675331864368425, -0.6378652555461157, -0.4454773388501136, -0.6833230812334613, -0.5572127268759169, -0.6136704167957266, -0.5116995252691782, 0.09862315314029026, -0.6136757517239143, -0.05123219040161071, -0.5679861451176426, -0.03164099048593005, -0.6991031149597634, -0.7139794227815274, -0.6137420474409999, -0.2836805104076502, -0.11241668887327955, -0.6222955870106571, -0.6136899120788717, -0.567976928996648, -0.11243417169073062, -0.6140393185792713, -0.6136683581279728, -0.16870206557592413, 0.09317832478382326, 0.21900240046042205, -0.2727412512823531, -0.6137984497982899, -0.3148229366611615, -0.4106303289016904, -0.5679550874709896, -0.9213192858009535, -0.21444047259593313, 0.029380926494249632, -0.6829371130176238, -0.6136675110087831, -0.6136679166980047, -0.2145938787033757, -0.020787407934189938, 0.00506965379916418, -0.6136749293382193, -0.21977727776368228, -0.5117466502139953, 0.005075363385945128, 0.05942944972819174, -0.6149401336501169, -0.9835211725749005, -0.21443339903089212, -0.619402690821683, -0.21442230891237968, -0.8627887866271203, -0.6136870209655387, -0.296775159669606, -0.4362166523864913, -0.1124925090767469, -0.046209104216358196, 0.006397238279286151, -0.3398429609027246, -0.11241255144673515, -0.5116634559144959, -0.21661014328754707, -0.3675772351470805, -0.11244831995149579, -0.6137992097223305, -0.1687129134987092, -0.5679707035825601, -0.21449369523029652, 0.005059203515301505, -0.40648632365601683, -0.16871238706278824, -0.6164670369816279, -0.00779455810669714, -0.5220672677332044, -1.3393422496270329, -0.17613603440865475, -0.5116825164311503, 0.09564532233866835, -0.6136758749075913, -0.511670598692088, -0.1124093336648786, -0.6367233759030168, -0.16870030081267606, -0.6136865659112285, -0.9214623434792919, -0.8637994349502462, -0.5680122124964839, -0.5679650776998864, -0.03201375693643957, -0.6248421646109519, -0.5680557447582294, -0.6136943077792881, -0.6136827086384714, -0.04617570164310939, -0.6136709180156653, -0.5682045610925034, -0.6154569034421099, -0.45320330927609753, -0.5682946409296075, -0.6136946405913309, -0.6138935594984105, -0.5680649974817777, -0.6137323624170818, 0.005087737211769168, -0.23709026832520874, -0.4454704796023488, -0.03152409128332077, -0.2200380075733213, -0.613814714608436, -0.3658609839541956, -0.7138728457788237, -0.03189251794392066, -0.031936535047880604, -0.046733417325362604, 0.005085424035971876, 0.05062328757387979, -0.08515462967973954, -0.6137057384824134, -0.21441347136836064], \"y\": [0.9436503356263697, 0.9437290356736647, 1.5776936512953235, 1.2034545901417726, 0.9783046549539326, 0.7901953048053614, 0.6922003778632135, 1.7865704886445677, 0.9436479101943227, 0.9438564570720249, 0.943690255255074, 0.943650101715202, 0.9436501772455987, 0.714403718133832, 0.838980415124209, 1.7696033865730898, 0.30888891981996425, 0.9436198371005151, 1.1060039391468213, 1.2034573862097084, 2.513102464951974, 0.8525546406003438, 0.7895306706329869, 0.8456444607802692, 1.7238709479826222, 1.7238544268607117, 0.45982468592698633, 0.9435144750066269, 0.9436257716789697, 0.9531598408227475, 1.1054759026039316, 1.2034625605597598, 0.19377245961839296, 1.646294688061525, 1.2034580705339333, 0.9432140809506786, 0.9436170850470725, 0.4021038989565543, 1.2034620903777355, 0.19382840890348288, 1.7238602454562482, 0.943202880395396, 1.6835184314543314, 1.84036983857968, 0.7901847859736715, 0.8389987685550122, 0.8456560470202413, 1.7238442209008715, 0.845456150770421, 0.9436508117779052, 1.7238468578676074, 1.1054504171563, 0.943644190802881, 1.2034630516949985, 3.5710053936427837, 1.7985763867784632, 0.7843847145016279, 0.8456301211245666, 1.7238322119855756, 0.7897242938490657, 1.7867269738413087, 0.8637144825738925, 0.7901960771088148, 1.1938751043594762, 0.7902022482904216, 1.441581515811622, 0.9436324453243404, 0.8455508359717122, 1.2032756796315454, 0.8085894800229251, 0.7901873882781896, 0.7208794056237453, 1.7695981226312396, 1.2034690485935795, 0.7900958231341552, 0.7899510750283238, 1.4382976247018902, 1.2034016025960095, 1.683705440087799, 0.9429231680466217, 0.9436298384671228, 0.9436332279555535, 1.6257489332811725, 1.105347056397948, 1.2034428363008072, 0.9436197463541183, 0.7901955753276158, 1.2034612876174495, 0.9436407685042638, 0.9436509649027921, 0.8457022439046026, 0.30275474679672826, 1.783244538869918, 1.769588895451506, 0.9436612099492994, 1.202805226781345, 1.7696299671575735, 1.6258459758322774, 1.8296754790370733, 1.7694581905264042, 1.783435140288066, 2.038815048584269, 1.2034536469633825, 1.753334258557599, 1.2034619014586834, 1.7695929903278387, 0.9436367841647924, 0.943630320878784, 1.7695981226312396, 1.2034348018616765, 0.790199905374066, 0.943640552263332, 0.7742694203332802, 0.9436400571383119, 0.9433314995750117, 1.2034603476351513, 0.9435817069095318, 0.8405058057470469, 0.9436450212221537, 0.9436497683790518, 1.5389346536442028, 0.5574024101896565, 0.9434103791577786, 0.7901962015996947, 1.2034597618532563, 0.9436442611961867, 0.9436395684924831, 0.8456209265013291, 0.2688807805470559, 1.6258439186806186, 0.943479258853519, 0.8456418660220125, 1.2034172843680315, 1.7511038925374969, 1.20344394671544, 1.7695829504699825, 1.2034199957565619, 1.7695335745347731, 1.2032542965544366, 0.9436415674535312, 0.9436365379492022, 0.9431550369006644, 0.6550757261014367, 1.2034483123604893, 0.8447520442185328, 1.769590375147805, 0.9436052406808327, 1.7553332725641146, 0.6921069012673893, 1.683692412428695, 1.7373128986128819, 1.4383115447184507, 1.4382761082976998, 1.8874355653272006, 1.7238415455805165, 0.9218113215752319, 1.7238472565960683, 1.6640971583233102, 1.887448711786326, 1.2034619274616174, 0.8456446589413702, 1.769572321327783, 0.9436327669855513, 0.9436496171110813, 0.9791621050569556, 1.6252852478792152, 1.203451539036523, 0.4596865697290441, 0.9436429104181567, 0.842050851626625, 0.946983297045018, 0.7901861005868641, 1.4379024309083555, 1.7448840646348573, 0.9436406282788367, 1.6368526507454124, 1.595364204589705, 0.9436483163708221, 0.6906629890047347, 1.2034036053187482, 2.0386876037093087, 1.4326635525054252, 1.7238049991099147, 0.9435822880112005, 1.3403026042863766, 1.5389342647221609, 0.9204705022004865, 0.9435787476154354, 1.2034524414259886, 1.5388880740317183, 0.9433961392098308, 0.9436491662054812, 1.1054504788056807, 1.6837037658968856, -0.0180586851145735, 0.20341268322020764, 0.9436115691040802, 1.6255247401253328, 0.7949955909324258, 1.2034508773590367, 1.3151471449352108, 0.845594086154721, 1.774450809156955, 1.4382948457127025, 0.9436491235622813, 0.9436482418007849, 0.8454862054682593, 1.761676367774089, 1.7695650400233642, 0.9436386768841216, 2.068062122297479, 1.6368880177148797, 1.7695654999296717, 0.7076251572493668, 0.9415680953840048, 0.8960919163430687, 0.8456469026938128, 0.9419053524771637, 0.8456279035729027, 1.7867642694369659, 0.9436157233991911, 1.6886977397736491, 0.19357884448383408, 1.5386175052714175, 0.6921717569956245, 1.828962630883654, 0.8056202099770383, 1.5389305664956896, 1.6369411486597496, 0.8372841864014723, 0.9400363774916428, 1.5389105544974766, 0.943156627616444, 1.1054384542150657, 1.203447769292561, 0.8455533658522278, 1.7695005229462049, 0.8473598322783158, 1.1054113689834075, 0.9350758712822234, -0.07219772084011755, 1.2171510584338132, 0.8431616237011244, 1.111042080235303, 1.6369264804135772, -0.11550011098479615, 0.9436447245568574, 1.6369382738767313, 1.5389326770333422, 0.9165892300262658, 1.105449925410788, 0.9436153818838434, 1.3149935385017935, 1.7846164943158564, 1.203259469164531, 1.2034554093902305, 2.0386708053793536, 0.9312784073467733, 1.2035412478671248, 0.9435523908439423, 0.943630128547391, 0.692193700127837, 0.9436534598421319, 1.2033563764083044, 0.9387661300042354, 0.7959310116526227, 1.203127423584293, 0.9436623667683782, 0.9435833051177709, 1.2034248241961991, 0.943604675179259, 1.7695983245700482, 0.9484845745227951, 0.7901779871936666, 2.0388015788764244, 0.8439321626598614, 0.9435834439655252, 0.45979606156817215, 1.7238494965871887, 2.0391729306218678, 2.0392059651766643, 0.692031603248287, 1.769600277590488, 2.21175564639864, 0.9017367210628923, 0.9435313137969554, 0.8456467749688885], \"z\": [-0.3329810948590544, -0.31630428562714163, 2.313591774586612, -0.3840383933484717, -0.2306580811855471, -0.3117414446474025, -0.2730325819972961, -0.23748046705080889, -0.3326403769931731, -0.3252113971744483, -0.331476335051951, -0.33297702761198567, -0.33296129495642857, 0.6608739879882054, -0.36164697901662146, -0.3649897738919629, -0.29652277249017434, -0.33103819734394024, -0.3251353174727065, -0.38393299623414634, -0.47787421771147637, -0.033962505023374355, -0.27501616526243994, -0.294023109803804, -0.27252301054018374, -0.27314577029296055, -0.34136097086631173, -0.3272784632094119, -0.33138145925467216, 0.0254774359445478, -0.3450395291049253, -0.38430488900221194, -0.24916236750856677, -0.30815357704422564, -0.38421645412164795, -0.3081918351560209, -0.3316573575526532, -0.2830106301807555, -0.384180897064895, -0.2496304835925969, -0.27292643972100494, -0.3240767037212034, -0.0014876597578887105, -0.3447879136305254, -0.3109524784176435, -0.3610680282808535, -0.2940033458174973, -0.2732212281905849, -0.28865283205849224, -0.3329631475228868, -0.2731733705789873, -0.34548477476909123, -0.3326973013882608, -0.3842864015475642, -0.576210186870201, -0.42220553589266313, -0.3185192992032441, -0.2924035052252367, -0.2726945991912657, -0.3042919443099495, -0.2399239548691438, -0.07177136537532641, -0.3117123328527945, -0.06147880724951017, -0.31177607940378677, -0.2297217538445206, -0.3325730799713139, -0.29227247940903617, -0.38145324038710926, 0.8601211857013478, -0.3115759762632284, -0.07052789733976891, -0.3646727747153051, -0.3821275165969367, -0.31031847637688337, -0.30798475929890623, -0.3511878465991434, -0.38302052632792283, -0.3489677628563627, -0.3088492835361365, -0.33261121225023005, -0.3310488544649487, -0.23320564303598712, -0.33296473652814096, -0.38375986048819116, -0.33181475132290483, -0.3117570184860122, -0.3842755846988076, -0.33280053300846774, -0.33295737551677307, -0.2922619652720585, -0.2419191402617411, 0.04301305214615945, -0.3636289510888673, -0.3325711909304786, -0.37042628912364023, -0.36295698330351334, -0.23463743833040593, -0.40366226845667075, -0.36270580000366603, -0.2717865274813969, 3.7275066665003718, -0.38386777734914623, 0.8599949032405313, -0.38423045492113156, -0.3640931023536131, -0.3324986964569495, -0.3326531604402232, -0.3646727747153051, -0.3838050056512438, -0.31161956952760045, -0.33249943083278183, -0.3596229906557587, -0.33264695000494315, -0.3282313184484311, -0.38425947488647705, -0.3318569991529888, 0.34980505335403916, -0.33284639670524574, -0.3329170266292384, -0.35785422140491224, -0.3426010346668321, -0.32914064258114784, -0.31173341130925286, -0.38416934838027117, -0.33269464792937775, -0.3328217141386517, -0.29390979432948283, -0.28646950440463953, -0.2344050915911193, -0.3136586836141908, -0.29365068801440264, -0.38343447897886795, -0.40364489807956183, -0.38217173704292007, -0.3629178113770985, -0.38333227383443075, -0.35731287783512844, -0.37926982156363703, -0.3327649502125297, -0.33276414233336266, -0.32588015285211513, 0.26007366715372954, -0.3838111528286926, -0.2765372949570873, -0.3647071031517998, -0.3319749725625417, 0.895420174686964, -0.27172190685041586, -0.3477450585126775, 0.5891342980477816, -0.35272482373307024, -0.3512257690117497, -0.4054871085814525, -0.2728581937646216, 0.13235799978137733, -0.27292902442818767, -0.3636869723602791, -0.40499155593804415, -0.3840837663253712, -0.29398404759083363, -0.3645732714045737, -0.3323998340457486, -0.3328999415399516, -0.288772209580207, 0.6509421637364681, -0.3840245484812086, -0.3363559409135564, -0.3328555219320195, -0.3228569101450482, 0.4369318529974823, -0.3100782488504918, -0.33747864979494224, -0.3824269156100019, -0.3328058187725149, -0.3949401061800288, -0.3483241242999043, -0.33267610100336625, -0.09936623292809828, -0.3828161786190808, 3.732366828753444, 0.20725105999949905, -0.2695970043725096, -0.3301342013707162, -0.31384280658392494, -0.35774002617606276, 0.0818161330206605, -0.33181392237560636, -0.38339779758376474, -0.35690406219265747, -0.31936896982286855, -0.33292209254118504, -0.3454566797998665, -0.34924992552312256, -0.2781717688151501, -0.30347770901583454, -0.32846349312232903, -0.22619388430793116, -0.37560434567770895, -0.3841010324773736, -0.28227215319167304, -0.2931433281728639, -0.32470009433094893, -0.3523234443544855, -0.3329494710769306, -0.33293116664537886, -0.28751992738670995, -0.3560216148477234, -0.3641673802199146, -0.33264743613665615, 3.924972547723104, -0.393606956695304, -0.3643562130452822, -0.3196644754339258, -0.2794722747023795, -0.2166390509414726, -0.29367799014961876, -0.13589249269533166, -0.2939302774949873, -0.33715664208121926, -0.3321210223130937, -0.20062179430720958, 2.229388287705469, -0.3534443985570035, -0.2718497092963078, 1.0178114747693876, -0.3576458055285588, -0.35785365883095077, -0.3966256735025319, -0.17456229116203914, -0.36143049305732033, -0.3565720886039901, -0.3258201911999365, -0.34503372611998334, -0.3835739125397763, -0.29117339924133034, -0.36345526058474187, -0.3569157242486621, -0.34489499749910824, -0.19231349665943115, -0.1961640384709882, -0.24361988540635715, 0.6059791984286622, -0.1352237899307643, -0.39591969656889364, -0.2865116104391788, -0.3326514105488346, -0.39637620591964345, -0.3579707361903078, 0.5746360440126844, -0.3455110423321106, -0.3321338956527184, -0.2767230224664063, -0.29183807189425304, -0.38113653009942533, -0.38380134308917074, 3.7446191749623323, 0.10265088397466916, -0.38133881547648973, -0.33151887906988414, -0.3323445565291293, -0.2730652432014403, -0.33286332937299956, -0.375421945801775, -0.24649340245975268, -0.09120579552086004, -0.371166712681558, -0.3321410182534177, -0.3251993507849026, -0.3803669870185117, -0.33057887793177615, -0.36494864489561035, -0.3581475717172037, -0.3102552257208093, 3.72789881501859, -0.10104594673033486, -0.32777122800245556, -0.34098651642238553, -0.2733285232450868, 3.737775555797039, 3.7390207854666113, -0.2539455292570044, -0.3648844548741001, -0.392739064795174, 2.473212938291262, -0.3310248178072763, -0.29432708247284683]}, {\"customdata\": [[\"SHA-256\"], [\"Ethash\"], [\"Scrypt\"], [\"CryptoNight-V7\"], [\"Ethash\"], [\"Equihash\"], [\"Multiple\"], [\"Scrypt\"], [\"X11\"], [\"Scrypt\"], [\"Multiple\"], [\"Scrypt\"], [\"SHA-256\"], [\"Scrypt\"], [\"Scrypt\"], [\"Quark\"], [\"Groestl\"], [\"Scrypt\"], [\"Scrypt\"], [\"Scrypt\"], [\"X11\"], [\"Multiple\"], [\"SHA-256\"], [\"Scrypt\"], [\"Scrypt\"], [\"Scrypt\"], [\"Scrypt\"], [\"Scrypt\"], [\"NeoScrypt\"], [\"Scrypt\"], [\"Scrypt\"], [\"Scrypt\"], [\"Scrypt\"], [\"SHA-256\"], [\"Scrypt\"], [\"Scrypt\"], [\"Scrypt\"], [\"Scrypt\"], [\"HybridScryptHash256\"], [\"Scrypt\"], [\"Scrypt\"], [\"SHA-256\"], [\"Scrypt\"], [\"Scrypt\"], [\"Scrypt\"], [\"Scrypt\"], [\"SHA-256\"], [\"SHA-256\"], [\"SHA-256\"], [\"SHA-256\"], [\"SHA-256\"], [\"X11\"], [\"Scrypt\"], [\"Lyra2REv2\"], [\"Scrypt\"], [\"SHA-256\"], [\"CryptoNight\"], [\"CryptoNight\"], [\"Scrypt\"], [\"Scrypt\"], [\"Scrypt\"], [\"Scrypt\"], [\"Scrypt\"], [\"Scrypt\"], [\"Stanford Folding\"], [\"Multiple\"], [\"QuBit\"], [\"Scrypt\"], [\"Scrypt\"], [\"M7 POW\"], [\"Scrypt\"], [\"SHA-256\"], [\"Scrypt\"], [\"X11\"], [\"Lyra2RE\"], [\"SHA-256\"], [\"X11\"], [\"Scrypt\"], [\"Scrypt\"], [\"Ethash\"], [\"Blake2b\"], [\"X11\"], [\"SHA-256\"], [\"Scrypt\"], [\"1GB AES Pattern Search\"], [\"Scrypt\"], [\"SHA-256\"], [\"X11\"], [\"Dagger\"], [\"Scrypt\"], [\"X11GOST\"], [\"Scrypt\"], [\"X11\"], [\"Scrypt\"], [\"X11\"], [\"Equihash\"], [\"CryptoNight\"], [\"SHA-256\"], [\"Multiple\"], [\"Scrypt\"], [\"SHA-256\"], [\"Scrypt\"], [\"Lyra2Z\"], [\"Ethash\"], [\"Equihash\"], [\"Scrypt\"], [\"X11\"], [\"X11\"], [\"CryptoNight\"], [\"Scrypt\"], [\"CryptoNight\"], [\"Lyra2RE\"], [\"X11\"], [\"CryptoNight-V7\"], [\"Scrypt\"], [\"X11\"], [\"Equihash\"], [\"Scrypt\"], [\"Lyra2RE\"], [\"Dagger-Hashimoto\"], [\"Scrypt\"], [\"NIST5\"], [\"Scrypt\"], [\"SHA-256\"], [\"Scrypt\"], [\"CryptoNight-V7\"], [\"Argon2d\"], [\"Blake2b\"], [\"Cloverhash\"], [\"CryptoNight\"], [\"X11\"], [\"Scrypt\"], [\"Scrypt\"], [\"X11\"], [\"X11\"], [\"CryptoNight\"], [\"Time Travel\"], [\"Scrypt\"], [\"Keccak\"], [\"X11\"], [\"SHA-256\"], [\"Scrypt\"], [\"Scrypt\"], [\"Scrypt\"], [\"Scrypt\"], [\"Scrypt\"], [\"Scrypt\"], [\"CryptoNight\"], [\"Equihash\"], [\"X11\"], [\"NeoScrypt\"], [\"Equihash\"], [\"Dagger\"], [\"Scrypt\"], [\"X11\"], [\"NeoScrypt\"], [\"Ethash\"], [\"NeoScrypt\"], [\"Multiple\"], [\"CryptoNight\"], [\"CryptoNight\"], [\"Ethash\"], [\"X11\"], [\"CryptoNight-V7\"], [\"Scrypt\"], [\"BLAKE256\"], [\"X11\"], [\"NeoScrypt\"], [\"NeoScrypt\"], [\"Scrypt\"], [\"X11\"], [\"SHA-256\"], [\"C11\"], [\"CryptoNight\"], [\"SkunkHash\"], [\"CryptoNight\"], [\"Scrypt\"], [\"Dagger\"], [\"Lyra2REv2\"], [\"Scrypt\"], [\"Scrypt\"], [\"X11\"], [\"Ethash\"], [\"CryptoNight\"], [\"Scrypt\"], [\"IMesh\"], [\"Equihash\"], [\"Lyra2Z\"], [\"X11\"], [\"CryptoNight\"], [\"NIST5\"], [\"Lyra2RE\"], [\"Tribus\"], [\"Lyra2Z\"], [\"CryptoNight\"], [\"CryptoNight Heavy\"], [\"CryptoNight\"], [\"Jump Consistent Hash\"], [\"CryptoNight\"], [\"X16R\"], [\"HMQ1725\"], [\"X11\"], [\"Scrypt\"], [\"CryptoNight-V7\"], [\"Cryptonight-GPU\"], [\"XEVAN\"], [\"CryptoNight Heavy\"], [\"SHA-256\"], [\"X11\"], [\"X16R\"], [\"Equihash\"], [\"Lyra2Z\"], [\"SHA-256\"], [\"CryptoNight\"], [\"Blake\"], [\"Blake\"], [\"Exosis\"], [\"Scrypt\"], [\"Equihash\"], [\"Equihash\"], [\"QuBit\"], [\"SHA-256\"], [\"X13\"], [\"SHA-256\"], [\"Scrypt\"], [\"NeoScrypt\"], [\"Blake\"], [\"Scrypt\"], [\"SHA-256\"], [\"Scrypt\"], [\"Groestl\"], [\"Scrypt\"], [\"Scrypt\"], [\"Multiple\"], [\"Equihash+Scrypt\"], [\"Ethash\"], [\"CryptoNight\"], [\"Equihash\"]], \"hovertemplate\": \"<b>%{hovertext}</b><br><br>Class=%{marker.color}<br>PC 3=%{x}<br>PC 2=%{y}<br>PC 1=%{z}<br>Algorithm=%{customdata[0]}<extra></extra>\", \"hovertext\": [\"Bitcoin\", \"Ethereum\", \"Litecoin\", \"Monero\", \"Ethereum Classic\", \"ZCash\", \"DigiByte\", \"ProsperCoin\", \"Spreadcoin\", \"Argentum\", \"MyriadCoin\", \"MoonCoin\", \"ZetaCoin\", \"SexCoin\", \"Quatloo\", \"QuarkCoin\", \"Riecoin\", \"Digitalcoin \", \"Catcoin\", \"CannaCoin\", \"CryptCoin\", \"Verge\", \"DevCoin\", \"EarthCoin\", \"E-Gulden\", \"Einsteinium\", \"Emerald\", \"Franko\", \"FeatherCoin\", \"GrandCoin\", \"GlobalCoin\", \"GoldCoin\", \"Infinite Coin\", \"IXcoin\", \"KrugerCoin\", \"LuckyCoin\", \"Litebar \", \"MegaCoin\", \"MediterraneanCoin\", \"MinCoin\", \"NobleCoin\", \"Namecoin\", \"NyanCoin\", \"RonPaulCoin\", \"StableCoin\", \"SmartCoin\", \"SysCoin\", \"TigerCoin\", \"TerraCoin\", \"UnbreakableCoin\", \"Unobtanium\", \"UroCoin\", \"ViaCoin\", \"Vertcoin\", \"WorldCoin\", \"JouleCoin\", \"ByteCoin\", \"DigitalNote \", \"MonaCoin\", \"Gulden\", \"PesetaCoin\", \"Wild Beast Coin\", \"Flo\", \"ArtByte\", \"Folding Coin\", \"Unitus\", \"CypherPunkCoin\", \"OmniCron\", \"GreenCoin\", \"Cryptonite\", \"MasterCoin\", \"SoonCoin\", \"1Credit\", \"MarsCoin \", \"Crypto\", \"Anarchists Prime\", \"BowsCoin\", \"Song Coin\", \"BitZeny\", \"Expanse\", \"Siacoin\", \"MindCoin\", \"I0coin\", \"Revolution VR\", \"HOdlcoin\", \"Gamecredits\", \"CarpeDiemCoin\", \"Adzcoin\", \"SoilCoin\", \"YoCoin\", \"SibCoin\", \"Francs\", \"BolivarCoin\", \"Omni\", \"PizzaCoin\", \"Komodo\", \"Karbo\", \"ZayedCoin\", \"Circuits of Value\", \"DopeCoin\", \"DollarCoin\", \"Shilling\", \"ZCoin\", \"Elementrem\", \"ZClassic\", \"KiloCoin\", \"ArtexCoin\", \"Kurrent\", \"Cannabis Industry Coin\", \"OsmiumCoin\", \"Bikercoins\", \"HexxCoin\", \"PacCoin\", \"Citadel\", \"BeaverCoin\", \"VaultCoin\", \"Zero\", \"Canada eCoin\", \"Zoin\", \"DubaiCoin\", \"EB3coin\", \"Coinonat\", \"BenjiRolls\", \"ILCoin\", \"EquiTrader\", \"Quantum Resistant Ledger\", \"Dynamic\", \"Nano\", \"ChanCoin\", \"Dinastycoin\", \"DigitalPrice\", \"Unify\", \"SocialCoin\", \"ArcticCoin\", \"DAS\", \"LeviarCoin\", \"Bitcore\", \"gCn Coin\", \"SmartCash\", \"Onix\", \"Bitcoin Cash\", \"Sojourn Coin\", \"NewYorkCoin\", \"FrazCoin\", \"Kronecoin\", \"AdCoin\", \"Linx\", \"Sumokoin\", \"BitcoinZ\", \"Elements\", \"VIVO Coin\", \"Bitcoin Gold\", \"Pirl\", \"eBoost\", \"Pura\", \"Innova\", \"Ellaism\", \"GoByte\", \"SHIELD\", \"UltraNote\", \"BitCoal\", \"DaxxCoin\", \"AC3\", \"Lethean\", \"PopularCoin\", \"Photon\", \"Sucre\", \"SparksPay\", \"GunCoin\", \"IrishCoin\", \"Pioneer Coin\", \"UnitedBitcoin\", \"Interzone\", \"TurtleCoin\", \"MUNcoin\", \"Niobio Cash\", \"ShareChain\", \"Travelflex\", \"KREDS\", \"BitFlip\", \"LottoCoin\", \"Crypto Improvement Fund\", \"Callisto Network\", \"BitTube\", \"Poseidon\", \"Aidos Kuneen\", \"Bitrolium\", \"Alpenschillling\", \"FuturoCoin\", \"Monero Classic\", \"Jumpcoin\", \"Infinex\", \"KEYCO\", \"GINcoin\", \"PlatinCoin\", \"Loki\", \"Newton Coin\", \"MassGrid\", \"PluraCoin\", \"Motion\", \"PlusOneCoin\", \"Axe\", \"HexCoin\", \"Webchain\", \"Ryo\", \"Urals Coin\", \"Qwertycoin\", \"Project Pai\", \"Azart\", \"Xchange\", \"CrypticCoin\", \"Actinium\", \"Bitcoin SV\", \"FREDEnergy\", \"Universal Molecule\", \"Lithium\", \"Exosis\", \"Block-Logic\", \"Beam\", \"Bithereum\", \"SLICE\", \"BLAST\", \"Bitcoin Rhodium\", \"GlobalToken\", \"SolarCoin\", \"UFO Coin\", \"BlakeCoin\", \"Crypto Escudo\", \"Crown Coin\", \"SmileyCoin\", \"Groestlcoin\", \"Bata\", \"Pakcoin\", \"JoinCoin\", \"Vollar\", \"Reality Clash\", \"Beldex\", \"Horizen\"], \"legendgroup\": \"1\", \"marker\": {\"color\": [1, 1, 1, 1, 1, 1, 1, 1, 1, 1, 1, 1, 1, 1, 1, 1, 1, 1, 1, 1, 1, 1, 1, 1, 1, 1, 1, 1, 1, 1, 1, 1, 1, 1, 1, 1, 1, 1, 1, 1, 1, 1, 1, 1, 1, 1, 1, 1, 1, 1, 1, 1, 1, 1, 1, 1, 1, 1, 1, 1, 1, 1, 1, 1, 1, 1, 1, 1, 1, 1, 1, 1, 1, 1, 1, 1, 1, 1, 1, 1, 1, 1, 1, 1, 1, 1, 1, 1, 1, 1, 1, 1, 1, 1, 1, 1, 1, 1, 1, 1, 1, 1, 1, 1, 1, 1, 1, 1, 1, 1, 1, 1, 1, 1, 1, 1, 1, 1, 1, 1, 1, 1, 1, 1, 1, 1, 1, 1, 1, 1, 1, 1, 1, 1, 1, 1, 1, 1, 1, 1, 1, 1, 1, 1, 1, 1, 1, 1, 1, 1, 1, 1, 1, 1, 1, 1, 1, 1, 1, 1, 1, 1, 1, 1, 1, 1, 1, 1, 1, 1, 1, 1, 1, 1, 1, 1, 1, 1, 1, 1, 1, 1, 1, 1, 1, 1, 1, 1, 1, 1, 1, 1, 1, 1, 1, 1, 1, 1, 1, 1, 1, 1, 1, 1, 1, 1, 1, 1, 1, 1, 1, 1, 1, 1, 1, 1, 1, 1, 1, 1, 1, 1, 1, 1, 1, 1, 1, 1, 1, 1, 1, 1, 1, 1, 1, 1, 1, 1], \"coloraxis\": \"coloraxis\", \"symbol\": \"diamond\"}, \"mode\": \"markers\", \"name\": \"1\", \"scene\": \"scene\", \"showlegend\": true, \"type\": \"scatter3d\", \"x\": [0.16994436034087024, 0.43508267839903186, 0.0016744490702967473, 0.4412596446414912, 0.43505290032899224, 0.3117847979816896, 0.3663338679936914, 0.0017074006468124172, 0.0474210624056184, 0.001699023074172958, 0.3730065010952666, -0.04825303322483097, 0.16985918078701823, 0.001624364786452675, 0.0016964342339068636, 0.10357482723317234, 0.18161542455478966, 0.001691904073238098, 0.0017067732048777554, 0.0017088834577775318, 0.047423982031639826, 0.3649571458530087, 0.15910776264292875, -0.005463688921759134, 0.0017008557815623839, 0.001579015197986407, 0.0017000355107046994, 0.0017106704551483275, 0.24939279831123443, 0.0011456345114066514, 0.0016751324731094433, 0.0016852198131159968, -0.04923414310699029, 0.16994299356158293, 0.0016126302295885438, 0.001701670618202307, 0.0017119733786353363, 0.001690671020991505, 0.39625836172956685, 0.0017088164400025606, -0.0012618366773058892, 0.1699457394823075, 0.0015241056884712633, 0.0017094166228936577, 0.0016696301680563953, 0.0016949019565120928, 0.16959580619785308, 0.1699299065019975, 0.16993946315187133, 0.1699434472680243, 0.16995472209066062, 0.04742796217507511, 0.001699627174970605, 0.2477816916434285, 0.0016263926668742647, 0.16993204462385605, 0.31180430967396294, 0.41107939093464324, 0.0016694726385371595, 0.0013146380860413977, 0.0016315374596145077, 0.0017122057843322086, 0.001625991738726807, 0.001239950885773649, 0.5370822091643412, 0.37396830543284015, 0.21764749844762238, 0.001707804884285836, -0.0015812797531900404, 0.5314503810938641, 0.0017122780059876269, 0.1699467222730754, -0.010258351028930232, 0.047410263025926574, 0.4225111293673003, 0.16994147211891725, 0.047418894720457586, 0.001671194543055558, 0.0016474139573954072, 0.4351224863141086, 0.31612483219020526, 0.0474195436476645, 0.16994303327126684, 0.0015945335739915507, 0.48306083010861545, 0.0016715112803552701, 0.15774423486853473, 0.0473980560869671, 0.4635464799342295, 0.0016904455837628, 0.4279881604803692, 0.0017071839039771589, 0.04741932936222517, 0.0017122797098979461, 0.047424635461371566, 0.0021673935336452553, 0.41536111640890305, 0.16995087586158494, 0.37340807879146604, 0.0016360988386809848, 0.16994952104202682, 0.001703916773628727, 0.5340679670474062, 0.435114485909484, 0.31178556281135905, 0.0003265918900616576, 0.04700726890588592, 0.047372293323751834, 0.4153626433918934, 0.0017118867646056348, 0.4153585013047606, 0.4225235176539694, 0.034184494956156095, 0.44123826621145973, 0.0017108426669417622, 0.04728523162986846, 0.31178551788820025, 0.0016564593871176258, 0.4225148812777365, 0.36647216439426716, 0.001164446655944139, -0.06755592009311513, 0.001699240599493453, 0.16905997718669702, 0.0016973477807666142, 0.4412235776866682, 0.39547766849870436, 0.3303289629877001, 0.4263827066597451, 0.41432345898441875, 0.047400284078028807, 0.0017022804215348073, 0.0017006337938175174, 0.04740942064159401, 0.047424891076567874, 0.4153526511254553, 0.35962014188453, -0.0947880893049149, 0.20732348014172686, 0.04723241584517872, 0.16994433077016483, 0.0003461681409768911, -0.0600988218674361, 0.0017058296332095125, 0.001694152384844484, 0.001685503654389075, 0.0016850412593518865, 0.41535036555399496, 0.30680564679907785, 0.046026020808557465, 0.24952139697458695, 0.31178055380584857, 0.4635178195085129, 0.001656396025481248, 0.04730720923816218, 0.24951809991726068, 0.43508727555718457, 0.24952005216578946, 0.37370235342094615, 0.3959715538382539, 0.41536222715919496, 0.4336028895836358, 0.047322203718304534, 0.4409463074253004, -0.000651405864951012, 0.08093626802893, 0.047424079745038046, 0.2495205864633452, 0.24933207039050964, 0.001684639722262033, 0.04742182680132551, 0.16994350117779153, 0.20474828891399113, 0.26227838323527136, 0.5402492613707437, 0.4152641893916664, -0.003910839983356776, 0.4634934472380315, 0.24739334309292133, 0.0017020420616016747, -0.006945887963749302, 0.04727209585675167, 0.43417642465460726, 0.4152010803318129, 0.001708134611791699, 0.4337783460259957, 0.3117507715011378, 0.5340231698185074, 0.04740172664404808, 0.4153564815496714, -0.06755710532066034, 0.4225200068777309, 0.40546241134745975, 0.5340696368488111, 0.41528769082304084, 0.4539671144480166, 0.3735752834862684, 0.4624268988502113, 0.4149935950854016, 0.2755567359836185, 0.3246123043094496, 0.04742359338460487, 0.0017091377336771148, 0.4410326371744602, 0.3535754212724894, -0.3059656145992384, 0.38696226161635233, 0.1687739135263846, 0.04742306303228879, 0.2755458929404308, 0.3089712853300675, 0.5340571994647075, 0.16994433209926504, 0.41350744502754266, 0.4013438404439952, 0.4013480685842492, 0.41727898359213217, 0.0016817610655386987, 0.3117411012563237, 0.31177583192004854, 0.217631650924747, 0.16992391100381102, -0.09849416688776574, 0.1698964093558397, -0.011076054988700991, 0.2473531002907422, 0.4004372729324263, 0.001245278762498853, 0.16993944087784285, -0.017580339435960123, 0.1816024268139842, 0.0017097919180553626, 0.001658825172640933, 0.3739946442930943, 0.4668396382462739, 0.43511545179321115, 0.41475992385028504, 0.3117848353774925], \"y\": [-1.2879887653931845, -1.9982103332856218, -1.1345607970175138, -2.1455619385712823, -1.9983125390440337, -2.095647324728918, -1.7930955683258034, -1.1345481607619678, -0.8747336946125575, -1.1345673773635296, -1.786834164483056, -1.3247966223890282, -1.2880130914787469, -1.1346216660618962, -1.1345867865713748, -0.44128636489352585, -1.239233995487054, -1.134552643226585, -1.1345476898708118, -1.1345446117234692, -0.874734699544539, -1.789425953972045, -1.2922989137172531, -1.1371608919982819, -1.134543248882487, -1.134617164106394, -1.1345491575320934, -1.1345448234529614, -1.6184632396920726, -1.1349566873919286, -1.1345530063063234, -1.134561908747287, -1.1500405611557658, -1.287987739634077, -1.134622005649542, -1.1345432672978395, -1.1345399378713408, -1.1345480606858043, -2.205214117748746, -1.1345426990480607, -1.141204026709896, -1.2879898004300059, -1.1345980231973054, -1.134549673739114, -1.1346556374410737, -1.1345566926276722, -1.2882414078642082, -1.2879933459506037, -1.2879975454851231, -1.2880230738833525, -1.2879842346977264, -0.8747270105587647, -1.1345435130497648, -1.138156917337129, -1.13463233427064, -1.2879937572703206, -2.2447032288775395, -2.2157294026724927, -1.1345695888119862, -1.1352373716481141, -1.1345774564455722, -1.1345408702904431, -1.1345695067894268, -1.1347780016376519, -2.440307562672576, -1.7863697638216385, -1.5207562335189446, -1.1345380083269525, -1.137998715073888, -2.2544608352449855, -1.1345397332091518, -1.287990538008187, -1.180122003712771, -0.8747333002335146, -2.1735779463601097, -1.2880060282265589, -0.8747326608930489, -1.1346332292687207, -1.134638964317165, -1.9982502362974337, -2.1319539890154586, -0.8747301823371118, -1.2879877694359407, -1.1345755533546587, -2.1438116727925047, -1.1345585922249644, -1.291647050492534, -0.8747543878348062, -2.204568087685163, -1.1346228322633045, -2.267418885830854, -1.134547404983527, -0.8747353595462352, -1.1345397326907896, -0.8747393417396835, -1.8075981511503203, -2.2130175980752957, -1.287986974409961, -1.786661054509462, -1.1346008166764705, -1.2879864927924283, -1.1345508841664154, -2.1628076152664293, -1.9982497474993504, -2.0956478987286893, -1.1394305605310306, -0.87470784011805, -0.8748204615094859, -2.2130252683238907, -1.1345406820456432, -2.21302453217133, -2.173554154374681, -0.9240993062166142, -2.1456556203475023, -1.1345402814392556, -0.8752130065285417, -2.095645492556824, -1.134556785704714, -2.1735541970878214, -2.15018425433079, -1.1365006791876913, -0.6398954398418664, -1.1345506489560053, -1.288795371921491, -1.1345708649811939, -2.1455971475572246, -2.0659816415382086, -2.1428159246152956, -2.1958615814563074, -2.2134191403371712, -0.8747655497571245, -1.1345432960110542, -1.1345751104559483, -0.8747486821163858, -0.8747359155798364, -2.2130373419647866, -2.136806058700985, -1.180739323845436, -1.2324006643651462, -0.8752326800532156, -1.2879887432005592, -1.1397418095472591, -1.0881505309478583, -1.134546388611983, -1.1345755842289713, -1.1345785832414064, -1.1345782362168908, -2.2130563197574795, -2.1043534491728138, -0.8747424683309235, -1.618376479837737, -2.095644139502113, -2.2046214925522998, -1.1345567381522115, -0.8748439762681256, -1.6183846814752634, -1.9983798554359073, -1.6183783175161277, -1.786561623996987, -2.248874642409409, -2.2130199144721057, -2.0030309045551187, -0.8749738523955867, -2.145919587806144, -1.1357310078227492, -1.249299308744306, -0.8747358404836135, -1.6183723128682554, -1.6185149345264407, -1.1345565827499795, -0.8747360476296343, -1.2879876259394412, -1.2831959692294388, -2.691238385897249, -1.8887885588714006, -2.213138210240947, -1.1362503950312366, -2.2045698049892253, -1.1384680683952648, -1.1345554083503422, -1.1389589111661187, -0.8749065910496797, -2.0013854387985544, -2.2134846752108506, -1.134548711597987, -2.0345729152249667, -2.095650850675237, -2.1629392368853164, -0.8747666323936892, -2.213019101803482, -0.6398783867844469, -2.1735611754614763, -2.1307623359879493, -2.162802403495495, -2.2133124304052405, -2.2298778146020655, -2.2907847035669557, -2.1602345068985063, -2.2133289588614047, -1.272549133310293, -2.2377671522279834, -0.874736187210418, -1.1345501199818662, -2.1464295209984523, -2.105540668536966, -0.7631124896559639, -2.2889139347925385, -1.288343437243176, -0.8747381616417212, -1.2725872136947982, -2.0980310150017245, -2.162836663221615, -1.2879887441980402, -2.216412862214315, -2.1422100170835936, -2.1421658056593436, -2.135764533045326, -1.134587636739037, -2.0957579456613025, -2.0956464592853137, -1.5208036514874994, -1.2879989222128136, -0.35434111333159, -1.2880399662923958, -1.1831263195401676, -1.6191056302892222, -2.145619096102239, -1.1347820001750335, -1.2879975287686078, -1.1497160963990811, -1.2392366961667087, -1.1345404655664437, -1.1346071965867024, -1.786391191687805, -2.095234463099567, -1.998249453658697, -2.2133909678603874, -2.0956473527942285], \"z\": [-0.14841602306591087, -0.1524025945245072, -0.16848524239391774, -0.14926769093073014, -0.15084328302208042, -0.16269835625770324, 0.1620923800862743, -0.16963250171471553, -0.22089760955331256, -0.16924870917877724, -0.09153659400781497, 2.5545623218143447, -0.14549836152217738, -0.16650168217052094, -0.16905257466431145, -0.22867935040809936, -0.19738756513214697, -0.16910136916210441, -0.16961475158481892, -0.16970128248296212, -0.2209870324458508, 0.18586503233955806, 0.22976609043396734, 0.07925001555445899, -0.16944734958839128, -0.16504877509339996, -0.1693865925114677, -0.16975833658929843, -0.17336264745437352, -0.14896232163593817, -0.1685523689395323, -0.16883007014699938, 1.5807065763785786, -0.14837735732078353, -0.16611707170500456, -0.1694738148612233, -0.1698289441338019, -0.16908753604695906, -0.16134502908838064, -0.1697101059262893, -0.03449831800247088, -0.14845503853215056, -0.163368383410802, -0.1696895330276286, -0.1677822252118911, -0.16917582082170785, -0.13559576798807013, -0.14791832878425484, -0.14820579321823638, -0.14818877790583654, -0.14877999012340257, -0.2211610779487965, -0.16940576508993666, -0.19761523062211328, -0.1665064066155728, -0.14798568403260842, 3.8599558440659836, 0.4558976224474335, -0.16827236113727942, -0.1528578694729968, -0.1669900368539061, -0.16983115597040754, -0.16685495077190132, -0.1530663815584892, -0.13532409805480167, -0.1255733427718846, -0.1803230671473705, -0.1697041183187895, -0.04253041236368067, -0.11670996097087533, -0.1698400558045702, -0.14848284136589124, 0.48287332349821727, -0.2205477190927111, -0.15747682205579114, -0.1482224798753282, -0.22083287263230084, -0.16796221384948973, -0.16715373578002696, -0.1534710324190278, 0.36838579591654785, -0.2208682996095342, -0.1483784806949298, -0.16579431908190254, -0.15978054283238144, -0.1684021332642794, 0.2704778504123862, -0.22002828456160442, -0.14464186925135497, -0.16864981952498448, -0.14812955039951525, -0.16962978393701322, -0.22083151327894496, -0.16984011435147886, -0.2209816211118647, -0.3066101990901983, 0.3006650564576947, -0.1486387981688427, -0.10562814321662115, -0.1670043250813907, -0.1485973904892635, -0.16950321980171648, -0.15361566489551115, -0.1532129580756487, -0.16271999304229626, -0.09650348560524834, -0.20755289750232678, -0.21880787606787383, 0.30065941048056377, -0.16982183644150034, 0.30079024401790316, -0.15801773592248627, 0.494873055158941, -0.14803134771373275, -0.16979009491236247, -0.21370946969186097, -0.16273237740935795, -0.167921699145926, -0.15773586374283421, -0.14306015584353676, -0.14068896970822295, -0.18925158592751765, -0.16935208676294966, -0.1149342809607896, -0.1691740052113561, -0.14788891866104553, -0.1448986523018758, -0.032282823207175126, -0.1523790293399033, 0.3368135265057869, -0.2200366927949861, -0.16949353486610766, -0.1692567240388343, -0.22043171551778573, -0.22100967660711254, 0.3010547441112802, -0.15860975882354866, 3.2428835228325137, -0.13356422459002984, -0.21187394746491547, -0.14841518652013433, -0.09535038783621, 1.578773902416326, -0.1695914720539308, -0.16904264280546602, -0.16874335209633717, -0.168730271089921, 0.3012385061269449, 0.049778485140275754, -0.17535575607604967, -0.17805552856971224, -0.16257828989249304, -0.1433998882233118, -0.16791990666567516, -0.21655018380863142, -0.1779008073524025, -0.1515767806341717, -0.1780010980882369, -0.11579653342011124, 1.1393289983055652, 0.3006421682082647, -0.07640177453947937, -0.21629161137753453, -0.1369914449997338, -0.08590528057006862, 1.097540543194318, -0.22098365187343336, -0.17805308231128247, -0.17108480979201865, -0.1688418087937861, -0.22090899263969788, -0.14839456473474247, -0.21244117841139576, 8.04509923292739, -0.15231276387603798, 0.304519991644899, 0.023372094950231095, -0.14290262488331437, -0.1831605473252469, -0.16941604673149113, 0.13793243126730456, -0.21504476649989546, -0.10457522179495583, 0.30857209455641404, -0.16965326534717706, -0.15412368486151085, -0.16156848154906747, -0.15139727906195977, -0.22007750252224906, 0.30082485111032253, -0.18931108929600837, -0.1578628404110502, -0.15702238387948297, -0.15370011353681295, 0.3047563905983413, 0.5837848651452537, 2.110879171850866, -0.14372475858754113, 0.3144417852354041, -0.19529788674677312, -0.16511265985147788, -0.22096579632507712, -0.1696778701869009, -0.13687156035889558, -0.13579688975791973, -0.11790367569395839, 3.1085634735985193, -0.1082071551778366, -0.2209371376004338, -0.1947251220182798, -0.05723174644159954, -0.15309734912532383, -0.1484152241199519, 0.3806542457432188, -0.13950443475292992, -0.13989678063390093, -0.153877246730134, -0.1685691993215964, -0.1606367314183778, -0.1624109603688386, -0.17953336511990345, -0.14769072420925206, -0.11017281694972665, -0.14655767551411458, 0.5268301285159335, -0.10315205901434556, -0.09032014147670125, -0.15321710547208062, -0.1482051630931556, 0.5466301115222425, -0.1969481732874456, -0.1697547709215909, -0.16770869426610172, -0.12630890197053563, -0.12650966899148733, -0.15324614615281304, 0.3224185519071218, -0.1626994141729024]}, {\"customdata\": [[\"VeChainThor Authority\"], [\"Proof-of-BibleHash\"], [\"SHA-256 + Hive\"], [\"Proof-of-Authority\"], [\"ECC 256K1\"], [\"SHA3-256\"], [\"Leased POS\"]], \"hovertemplate\": \"<b>%{hovertext}</b><br><br>Class=%{marker.color}<br>PC 3=%{x}<br>PC 2=%{y}<br>PC 1=%{z}<br>Algorithm=%{customdata[0]}<extra></extra>\", \"hovertext\": [\"Vechain\", \"BiblePay\", \"LitecoinCash\", \"Poa Network\", \"Acute Angle Cloud\", \"Fiii\", \"Waves\"], \"legendgroup\": \"3\", \"marker\": {\"color\": [3, 3, 3, 3, 3, 3, 3], \"coloraxis\": \"coloraxis\", \"symbol\": \"square\"}, \"mode\": \"markers\", \"name\": \"3\", \"scene\": \"scene\", \"showlegend\": true, \"type\": \"scatter3d\", \"x\": [7.993658151893599, 18.002094033959153, 10.167015902449016, 14.23024842496986, 11.82385896118253, 9.341086942592684, 7.734851593245032], \"y\": [1.0754874371185061, 6.144843020405503, 0.18212108329581628, 3.100182078790596, 1.8073368545970654, 4.29720511763949, 0.036530296350958544], \"z\": [4.433719720873381, -0.2815883809519995, -0.28384035955977666, -0.3671193308262462, -0.32221986262329627, -0.5785062814193849, -0.3354894108510709]}, {\"customdata\": [[\"TRC10\"]], \"hovertemplate\": \"<b>%{hovertext}</b><br><br>Class=%{marker.color}<br>PC 3=%{x}<br>PC 2=%{y}<br>PC 1=%{z}<br>Algorithm=%{customdata[0]}<extra></extra>\", \"hovertext\": [\"BitTorrent\"], \"legendgroup\": \"2\", \"marker\": {\"color\": [2], \"coloraxis\": \"coloraxis\", \"symbol\": \"x\"}, \"mode\": \"markers\", \"name\": \"2\", \"scene\": \"scene\", \"showlegend\": true, \"type\": \"scatter3d\", \"x\": [-1.1834354099850146], \"y\": [1.6873125668701365], \"z\": [34.092274639321005]}],\n",
       "                        {\"coloraxis\": {\"colorbar\": {\"title\": {\"text\": \"Class\"}}, \"colorscale\": [[0.0, \"#0d0887\"], [0.1111111111111111, \"#46039f\"], [0.2222222222222222, \"#7201a8\"], [0.3333333333333333, \"#9c179e\"], [0.4444444444444444, \"#bd3786\"], [0.5555555555555556, \"#d8576b\"], [0.6666666666666666, \"#ed7953\"], [0.7777777777777778, \"#fb9f3a\"], [0.8888888888888888, \"#fdca26\"], [1.0, \"#f0f921\"]]}, \"legend\": {\"title\": {\"text\": \"Class\"}, \"tracegroupgap\": 0, \"x\": 0, \"y\": 1}, \"margin\": {\"t\": 60}, \"scene\": {\"domain\": {\"x\": [0.0, 1.0], \"y\": [0.0, 1.0]}, \"xaxis\": {\"title\": {\"text\": \"PC 3\"}}, \"yaxis\": {\"title\": {\"text\": \"PC 2\"}}, \"zaxis\": {\"title\": {\"text\": \"PC 1\"}}}, \"template\": {\"data\": {\"bar\": [{\"error_x\": {\"color\": \"#2a3f5f\"}, \"error_y\": {\"color\": \"#2a3f5f\"}, \"marker\": {\"line\": {\"color\": \"#E5ECF6\", \"width\": 0.5}}, \"type\": \"bar\"}], \"barpolar\": [{\"marker\": {\"line\": {\"color\": \"#E5ECF6\", \"width\": 0.5}}, \"type\": \"barpolar\"}], \"carpet\": [{\"aaxis\": {\"endlinecolor\": \"#2a3f5f\", \"gridcolor\": \"white\", \"linecolor\": \"white\", \"minorgridcolor\": \"white\", \"startlinecolor\": \"#2a3f5f\"}, \"baxis\": {\"endlinecolor\": \"#2a3f5f\", \"gridcolor\": \"white\", \"linecolor\": \"white\", \"minorgridcolor\": \"white\", \"startlinecolor\": \"#2a3f5f\"}, \"type\": \"carpet\"}], \"choropleth\": [{\"colorbar\": {\"outlinewidth\": 0, \"ticks\": \"\"}, \"type\": \"choropleth\"}], \"contour\": [{\"colorbar\": {\"outlinewidth\": 0, \"ticks\": \"\"}, \"colorscale\": [[0.0, \"#0d0887\"], [0.1111111111111111, \"#46039f\"], [0.2222222222222222, \"#7201a8\"], [0.3333333333333333, \"#9c179e\"], [0.4444444444444444, \"#bd3786\"], [0.5555555555555556, \"#d8576b\"], [0.6666666666666666, \"#ed7953\"], [0.7777777777777778, \"#fb9f3a\"], [0.8888888888888888, \"#fdca26\"], [1.0, \"#f0f921\"]], \"type\": \"contour\"}], \"contourcarpet\": [{\"colorbar\": {\"outlinewidth\": 0, \"ticks\": \"\"}, \"type\": \"contourcarpet\"}], \"heatmap\": [{\"colorbar\": {\"outlinewidth\": 0, \"ticks\": \"\"}, \"colorscale\": [[0.0, \"#0d0887\"], [0.1111111111111111, \"#46039f\"], [0.2222222222222222, \"#7201a8\"], [0.3333333333333333, \"#9c179e\"], [0.4444444444444444, \"#bd3786\"], [0.5555555555555556, \"#d8576b\"], [0.6666666666666666, \"#ed7953\"], [0.7777777777777778, \"#fb9f3a\"], [0.8888888888888888, \"#fdca26\"], [1.0, \"#f0f921\"]], \"type\": \"heatmap\"}], \"heatmapgl\": [{\"colorbar\": {\"outlinewidth\": 0, \"ticks\": \"\"}, \"colorscale\": [[0.0, \"#0d0887\"], [0.1111111111111111, \"#46039f\"], [0.2222222222222222, \"#7201a8\"], [0.3333333333333333, \"#9c179e\"], [0.4444444444444444, \"#bd3786\"], [0.5555555555555556, \"#d8576b\"], [0.6666666666666666, \"#ed7953\"], [0.7777777777777778, \"#fb9f3a\"], [0.8888888888888888, \"#fdca26\"], [1.0, \"#f0f921\"]], \"type\": \"heatmapgl\"}], \"histogram\": [{\"marker\": {\"colorbar\": {\"outlinewidth\": 0, \"ticks\": \"\"}}, \"type\": \"histogram\"}], \"histogram2d\": [{\"colorbar\": {\"outlinewidth\": 0, \"ticks\": \"\"}, \"colorscale\": [[0.0, \"#0d0887\"], [0.1111111111111111, \"#46039f\"], [0.2222222222222222, \"#7201a8\"], [0.3333333333333333, \"#9c179e\"], [0.4444444444444444, \"#bd3786\"], [0.5555555555555556, \"#d8576b\"], [0.6666666666666666, \"#ed7953\"], [0.7777777777777778, \"#fb9f3a\"], [0.8888888888888888, \"#fdca26\"], [1.0, \"#f0f921\"]], \"type\": \"histogram2d\"}], \"histogram2dcontour\": [{\"colorbar\": {\"outlinewidth\": 0, \"ticks\": \"\"}, \"colorscale\": [[0.0, \"#0d0887\"], [0.1111111111111111, \"#46039f\"], [0.2222222222222222, \"#7201a8\"], [0.3333333333333333, \"#9c179e\"], [0.4444444444444444, \"#bd3786\"], [0.5555555555555556, \"#d8576b\"], [0.6666666666666666, \"#ed7953\"], [0.7777777777777778, \"#fb9f3a\"], [0.8888888888888888, \"#fdca26\"], [1.0, \"#f0f921\"]], \"type\": \"histogram2dcontour\"}], \"mesh3d\": [{\"colorbar\": {\"outlinewidth\": 0, \"ticks\": \"\"}, \"type\": \"mesh3d\"}], \"parcoords\": [{\"line\": {\"colorbar\": {\"outlinewidth\": 0, \"ticks\": \"\"}}, \"type\": \"parcoords\"}], \"pie\": [{\"automargin\": true, \"type\": \"pie\"}], \"scatter\": [{\"marker\": {\"colorbar\": {\"outlinewidth\": 0, \"ticks\": \"\"}}, \"type\": \"scatter\"}], \"scatter3d\": [{\"line\": {\"colorbar\": {\"outlinewidth\": 0, \"ticks\": \"\"}}, \"marker\": {\"colorbar\": {\"outlinewidth\": 0, \"ticks\": \"\"}}, \"type\": \"scatter3d\"}], \"scattercarpet\": [{\"marker\": {\"colorbar\": {\"outlinewidth\": 0, \"ticks\": \"\"}}, \"type\": \"scattercarpet\"}], \"scattergeo\": [{\"marker\": {\"colorbar\": {\"outlinewidth\": 0, \"ticks\": \"\"}}, \"type\": \"scattergeo\"}], \"scattergl\": [{\"marker\": {\"colorbar\": {\"outlinewidth\": 0, \"ticks\": \"\"}}, \"type\": \"scattergl\"}], \"scattermapbox\": [{\"marker\": {\"colorbar\": {\"outlinewidth\": 0, \"ticks\": \"\"}}, \"type\": \"scattermapbox\"}], \"scatterpolar\": [{\"marker\": {\"colorbar\": {\"outlinewidth\": 0, \"ticks\": \"\"}}, \"type\": \"scatterpolar\"}], \"scatterpolargl\": [{\"marker\": {\"colorbar\": {\"outlinewidth\": 0, \"ticks\": \"\"}}, \"type\": \"scatterpolargl\"}], \"scatterternary\": [{\"marker\": {\"colorbar\": {\"outlinewidth\": 0, \"ticks\": \"\"}}, \"type\": \"scatterternary\"}], \"surface\": [{\"colorbar\": {\"outlinewidth\": 0, \"ticks\": \"\"}, \"colorscale\": [[0.0, \"#0d0887\"], [0.1111111111111111, \"#46039f\"], [0.2222222222222222, \"#7201a8\"], [0.3333333333333333, \"#9c179e\"], [0.4444444444444444, \"#bd3786\"], [0.5555555555555556, \"#d8576b\"], [0.6666666666666666, \"#ed7953\"], [0.7777777777777778, \"#fb9f3a\"], [0.8888888888888888, \"#fdca26\"], [1.0, \"#f0f921\"]], \"type\": \"surface\"}], \"table\": [{\"cells\": {\"fill\": {\"color\": \"#EBF0F8\"}, \"line\": {\"color\": \"white\"}}, \"header\": {\"fill\": {\"color\": \"#C8D4E3\"}, \"line\": {\"color\": \"white\"}}, \"type\": \"table\"}]}, \"layout\": {\"annotationdefaults\": {\"arrowcolor\": \"#2a3f5f\", \"arrowhead\": 0, \"arrowwidth\": 1}, \"coloraxis\": {\"colorbar\": {\"outlinewidth\": 0, \"ticks\": \"\"}}, \"colorscale\": {\"diverging\": [[0, \"#8e0152\"], [0.1, \"#c51b7d\"], [0.2, \"#de77ae\"], [0.3, \"#f1b6da\"], [0.4, \"#fde0ef\"], [0.5, \"#f7f7f7\"], [0.6, \"#e6f5d0\"], [0.7, \"#b8e186\"], [0.8, \"#7fbc41\"], [0.9, \"#4d9221\"], [1, \"#276419\"]], \"sequential\": [[0.0, \"#0d0887\"], [0.1111111111111111, \"#46039f\"], [0.2222222222222222, \"#7201a8\"], [0.3333333333333333, \"#9c179e\"], [0.4444444444444444, \"#bd3786\"], [0.5555555555555556, \"#d8576b\"], [0.6666666666666666, \"#ed7953\"], [0.7777777777777778, \"#fb9f3a\"], [0.8888888888888888, \"#fdca26\"], [1.0, \"#f0f921\"]], \"sequentialminus\": [[0.0, \"#0d0887\"], [0.1111111111111111, \"#46039f\"], [0.2222222222222222, \"#7201a8\"], [0.3333333333333333, \"#9c179e\"], [0.4444444444444444, \"#bd3786\"], [0.5555555555555556, \"#d8576b\"], [0.6666666666666666, \"#ed7953\"], [0.7777777777777778, \"#fb9f3a\"], [0.8888888888888888, \"#fdca26\"], [1.0, \"#f0f921\"]]}, \"colorway\": [\"#636efa\", \"#EF553B\", \"#00cc96\", \"#ab63fa\", \"#FFA15A\", \"#19d3f3\", \"#FF6692\", \"#B6E880\", \"#FF97FF\", \"#FECB52\"], \"font\": {\"color\": \"#2a3f5f\"}, \"geo\": {\"bgcolor\": \"white\", \"lakecolor\": \"white\", \"landcolor\": \"#E5ECF6\", \"showlakes\": true, \"showland\": true, \"subunitcolor\": \"white\"}, \"hoverlabel\": {\"align\": \"left\"}, \"hovermode\": \"closest\", \"mapbox\": {\"style\": \"light\"}, \"paper_bgcolor\": \"white\", \"plot_bgcolor\": \"#E5ECF6\", \"polar\": {\"angularaxis\": {\"gridcolor\": \"white\", \"linecolor\": \"white\", \"ticks\": \"\"}, \"bgcolor\": \"#E5ECF6\", \"radialaxis\": {\"gridcolor\": \"white\", \"linecolor\": \"white\", \"ticks\": \"\"}}, \"scene\": {\"xaxis\": {\"backgroundcolor\": \"#E5ECF6\", \"gridcolor\": \"white\", \"gridwidth\": 2, \"linecolor\": \"white\", \"showbackground\": true, \"ticks\": \"\", \"zerolinecolor\": \"white\"}, \"yaxis\": {\"backgroundcolor\": \"#E5ECF6\", \"gridcolor\": \"white\", \"gridwidth\": 2, \"linecolor\": \"white\", \"showbackground\": true, \"ticks\": \"\", \"zerolinecolor\": \"white\"}, \"zaxis\": {\"backgroundcolor\": \"#E5ECF6\", \"gridcolor\": \"white\", \"gridwidth\": 2, \"linecolor\": \"white\", \"showbackground\": true, \"ticks\": \"\", \"zerolinecolor\": \"white\"}}, \"shapedefaults\": {\"line\": {\"color\": \"#2a3f5f\"}}, \"ternary\": {\"aaxis\": {\"gridcolor\": \"white\", \"linecolor\": \"white\", \"ticks\": \"\"}, \"baxis\": {\"gridcolor\": \"white\", \"linecolor\": \"white\", \"ticks\": \"\"}, \"bgcolor\": \"#E5ECF6\", \"caxis\": {\"gridcolor\": \"white\", \"linecolor\": \"white\", \"ticks\": \"\"}}, \"title\": {\"x\": 0.05}, \"xaxis\": {\"automargin\": true, \"gridcolor\": \"white\", \"linecolor\": \"white\", \"ticks\": \"\", \"title\": {\"standoff\": 15}, \"zerolinecolor\": \"white\", \"zerolinewidth\": 2}, \"yaxis\": {\"automargin\": true, \"gridcolor\": \"white\", \"linecolor\": \"white\", \"ticks\": \"\", \"title\": {\"standoff\": 15}, \"zerolinecolor\": \"white\", \"zerolinewidth\": 2}}}, \"width\": 500},\n",
       "                        {\"responsive\": true}\n",
       "                    ).then(function(){\n",
       "                            \n",
       "var gd = document.getElementById('d2e1a444-e992-407a-bf28-4432db2028ac');\n",
       "var x = new MutationObserver(function (mutations, observer) {{\n",
       "        var display = window.getComputedStyle(gd).display;\n",
       "        if (!display || display === 'none') {{\n",
       "            console.log([gd, 'removed!']);\n",
       "            Plotly.purge(gd);\n",
       "            observer.disconnect();\n",
       "        }}\n",
       "}});\n",
       "\n",
       "// Listen for the removal of the full notebook cells\n",
       "var notebookContainer = gd.closest('#notebook-container');\n",
       "if (notebookContainer) {{\n",
       "    x.observe(notebookContainer, {childList: true});\n",
       "}}\n",
       "\n",
       "// Listen for the clearing of the current output cell\n",
       "var outputEl = gd.closest('.output');\n",
       "if (outputEl) {{\n",
       "    x.observe(outputEl, {childList: true});\n",
       "}}\n",
       "\n",
       "                        })\n",
       "                };\n",
       "                });\n",
       "            </script>\n",
       "        </div>"
      ]
     },
     "metadata": {},
     "output_type": "display_data"
    }
   ],
   "source": [
    "# Create a 3D-Scatter with the PCA data and the clusters\n",
    "\n",
    "# Since we have three principal components, a 3D-Scatter plot is going to be created.\n",
    "fig = px.scatter_3d(\n",
    "    clustered_df,\n",
    "    x=\"PC 3\",\n",
    "    y=\"PC 2\",\n",
    "    z=\"PC 1\",\n",
    "    color=\"Class\",\n",
    "    symbol=\"Class\",\n",
    "    width=500,\n",
    "    hover_name=\"CoinName\", \n",
    "    hover_data=[\"Algorithm\"]\n",
    ")\n",
    "fig.update_layout(legend=dict(x=0, y=1))\n",
    "fig.show()"
   ]
  },
  {
   "cell_type": "markdown",
   "metadata": {},
   "source": [
    "#### Table of Tradable Cryptocurrencies"
   ]
  },
  {
   "cell_type": "code",
   "execution_count": 109,
   "metadata": {},
   "outputs": [
    {
     "data": {},
     "metadata": {},
     "output_type": "display_data"
    },
    {
     "data": {
      "application/vnd.holoviews_exec.v0+json": "",
      "text/html": [
       "<div id='1291'>\n",
       "\n",
       "\n",
       "\n",
       "\n",
       "\n",
       "  <div class=\"bk-root\" id=\"986fb39f-2a4c-450d-906e-7a57e2c6100c\" data-root-id=\"1291\"></div>\n",
       "</div>\n",
       "<script type=\"application/javascript\">\n",
       "    function msg_handler(msg) {\n",
       "      var metadata = msg.metadata;\n",
       "      var buffers = msg.buffers;\n",
       "      var msg = msg.content.data;\n",
       "      if ((metadata.msg_type == \"Ready\")) {\n",
       "        if (metadata.content) {\n",
       "          console.log(\"Python callback returned following output:\", metadata.content);\n",
       "        }\n",
       "      } else if (metadata.msg_type == \"Error\") {\n",
       "        console.log(\"Python failed with the following traceback:\", metadata.traceback)\n",
       "      } else {\n",
       "        \n",
       "var plot_id = \"1291\";\n",
       "\n",
       "if ((plot_id in window.PyViz.plot_index) && (window.PyViz.plot_index[plot_id] != null)) {\n",
       "  var plot = window.PyViz.plot_index[plot_id];\n",
       "} else if ((Bokeh !== undefined) && (plot_id in Bokeh.index)) {\n",
       "  var plot = Bokeh.index[plot_id];\n",
       "}\n",
       "\n",
       "if (plot == null) {\n",
       "  return\n",
       "}\n",
       "\n",
       "if (plot_id in window.PyViz.receivers) {\n",
       "  var receiver = window.PyViz.receivers[plot_id];\n",
       "} else {\n",
       "  var receiver = new Bokeh.protocol.Receiver();\n",
       "  window.PyViz.receivers[plot_id] = receiver;\n",
       "}\n",
       "\n",
       "if ((buffers != undefined) && (buffers.length > 0)) {\n",
       "  receiver.consume(buffers[0].buffer)\n",
       "} else {\n",
       "  receiver.consume(msg)\n",
       "}\n",
       "\n",
       "const comm_msg = receiver.message;\n",
       "if ((comm_msg != null) && (Object.keys(comm_msg.content).length > 0)) {\n",
       "  plot.model.document.apply_json_patch(comm_msg.content, comm_msg.buffers)\n",
       "}\n",
       "\n",
       "      }\n",
       "    }\n",
       "    if ((window.PyViz == undefined) || (!window.PyViz.comm_manager)) {\n",
       "      console.log(\"Could not find comm manager\")\n",
       "    } else {\n",
       "      window.PyViz.comm_manager.register_target('1291', 'b13c7ee4011b410e9486678eb5f3b254', msg_handler);\n",
       "    }\n",
       "    \n",
       "(function(root) {\n",
       "  function embed_document(root) {\n",
       "  var docs_json = {\"8b5aa109-bb70-4fa9-a04d-97ec335784bd\":{\"roots\":{\"references\":[{\"attributes\":{},\"id\":\"1296\",\"type\":\"StringEditor\"},{\"attributes\":{},\"id\":\"1310\",\"type\":\"StringFormatter\"},{\"attributes\":{\"editor\":{\"id\":\"1316\",\"type\":\"NumberEditor\"},\"field\":\"TotalCoinsMined\",\"formatter\":{\"id\":\"1315\",\"type\":\"NumberFormatter\"},\"title\":\"TotalCoinsMined\"},\"id\":\"1317\",\"type\":\"TableColumn\"},{\"attributes\":{\"editor\":{\"id\":\"1301\",\"type\":\"StringEditor\"},\"field\":\"Algorithm\",\"formatter\":{\"id\":\"1300\",\"type\":\"StringFormatter\"},\"title\":\"Algorithm\"},\"id\":\"1302\",\"type\":\"TableColumn\"},{\"attributes\":{},\"id\":\"1294\",\"type\":\"Selection\"},{\"attributes\":{\"margin\":[5,5,5,5],\"name\":\"HSpacer02114\",\"sizing_mode\":\"stretch_width\"},\"id\":\"1329\",\"type\":\"Spacer\"},{\"attributes\":{\"source\":{\"id\":\"1293\",\"type\":\"ColumnDataSource\"}},\"id\":\"1326\",\"type\":\"CDSView\"},{\"attributes\":{},\"id\":\"1301\",\"type\":\"StringEditor\"},{\"attributes\":{},\"id\":\"1320\",\"type\":\"NumberFormatter\"},{\"attributes\":{\"callback\":null,\"data\":{\"Algorithm\":[\"Scrypt\",\"Scrypt\",\"X13\",\"SHA-256\",\"Ethash\",\"Scrypt\",\"X11\",\"CryptoNight-V7\",\"Ethash\",\"Equihash\",\"SHA-512\",\"Multiple\",\"SHA-256\",\"SHA-256\",\"Scrypt\",\"X15\",\"X11\",\"Scrypt\",\"Scrypt\",\"Scrypt\",\"Multiple\",\"Scrypt\",\"SHA-256\",\"Scrypt\",\"Scrypt\",\"Scrypt\",\"Quark\",\"Groestl\",\"Scrypt\",\"Scrypt\",\"Scrypt\",\"Scrypt\",\"Scrypt\",\"X11\",\"Scrypt\",\"Groestl\",\"Multiple\",\"SHA-256\",\"Scrypt\",\"Scrypt\",\"Scrypt\",\"Scrypt\",\"PoS\",\"Scrypt\",\"Scrypt\",\"NeoScrypt\",\"Scrypt\",\"Scrypt\",\"Scrypt\",\"Scrypt\",\"X11\",\"Scrypt\",\"X11\",\"SHA-256\",\"Scrypt\",\"Scrypt\",\"Scrypt\",\"SHA3\",\"Scrypt\",\"HybridScryptHash256\",\"Scrypt\",\"Scrypt\",\"SHA-256\",\"Scrypt\",\"X13\",\"Scrypt\",\"SHA-256\",\"Scrypt\",\"X13\",\"NeoScrypt\",\"Scrypt\",\"Scrypt\",\"Scrypt\",\"Scrypt\",\"Scrypt\",\"Scrypt\",\"X11\",\"X11\",\"SHA-256\",\"Multiple\",\"SHA-256\",\"PHI1612\",\"X11\",\"SHA-256\",\"SHA-256\",\"SHA-256\",\"X11\",\"Scrypt\",\"Scrypt\",\"Scrypt\",\"Scrypt\",\"Lyra2REv2\",\"Scrypt\",\"X11\",\"Multiple\",\"SHA-256\",\"X13\",\"Scrypt\",\"CryptoNight\",\"CryptoNight\",\"Shabal256\",\"Counterparty\",\"Scrypt\",\"SHA-256\",\"Groestl\",\"Scrypt\",\"Scrypt\",\"Scrypt\",\"X13\",\"Scrypt\",\"Scrypt\",\"Scrypt\",\"Scrypt\",\"X13\",\"Scrypt\",\"Stanford Folding\",\"X11\",\"Multiple\",\"QuBit\",\"Scrypt\",\"Scrypt\",\"Scrypt\",\"M7 POW\",\"Scrypt\",\"SHA-256\",\"Scrypt\",\"X11\",\"SHA3\",\"X11\",\"Lyra2RE\",\"SHA-256\",\"QUAIT\",\"X11\",\"X11\",\"Scrypt\",\"Scrypt\",\"Scrypt\",\"Ethash\",\"X13\",\"Blake2b\",\"SHA-256\",\"X15\",\"X11\",\"SHA-256\",\"BLAKE256\",\"Scrypt\",\"1GB AES Pattern Search\",\"SHA-256\",\"X11\",\"Scrypt\",\"SHA-256\",\"SHA-256\",\"NIST5\",\"Scrypt\",\"Scrypt\",\"X11\",\"Dagger\",\"Scrypt\",\"X11GOST\",\"X11\",\"Scrypt\",\"SHA-256\",\"Scrypt\",\"PoS\",\"Scrypt\",\"X11\",\"X11\",\"SHA-256\",\"SHA-256\",\"NIST5\",\"X11\",\"Scrypt\",\"POS 3.0\",\"Scrypt\",\"Scrypt\",\"Scrypt\",\"X13\",\"X11\",\"X11\",\"Equihash\",\"X11\",\"Scrypt\",\"CryptoNight\",\"SHA-256\",\"SHA-256\",\"X11\",\"Scrypt\",\"Multiple\",\"Scrypt\",\"Scrypt\",\"Scrypt\",\"SHA-256\",\"Scrypt\",\"Scrypt\",\"SHA-256D\",\"PoS\",\"Scrypt\",\"X11\",\"Lyra2Z\",\"PoS\",\"X13\",\"X14\",\"PoS\",\"SHA-256D\",\"Ethash\",\"Equihash\",\"DPoS\",\"X11\",\"Scrypt\",\"X11\",\"X13\",\"X11\",\"PoS\",\"Scrypt\",\"Scrypt\",\"X11\",\"PoS\",\"X11\",\"SHA-256\",\"Scrypt\",\"X11\",\"Scrypt\",\"Scrypt\",\"X11\",\"CryptoNight\",\"Scrypt\",\"Scrypt\",\"Scrypt\",\"Scrypt\",\"Quark\",\"QuBit\",\"Scrypt\",\"CryptoNight\",\"Lyra2RE\",\"Scrypt\",\"SHA-256\",\"X11\",\"Scrypt\",\"X11\",\"Scrypt\",\"CryptoNight-V7\",\"Scrypt\",\"Scrypt\",\"Scrypt\",\"X13\",\"X11\",\"Equihash\",\"Scrypt\",\"Scrypt\",\"Lyra2RE\",\"Scrypt\",\"Dagger-Hashimoto\",\"X11\",\"Blake2S\",\"X11\",\"Scrypt\",\"PoS\",\"X11\",\"NIST5\",\"PoS\",\"X11\",\"Scrypt\",\"Scrypt\",\"Scrypt\",\"SHA-256\",\"X11\",\"Scrypt\",\"Scrypt\",\"SHA-256\",\"PoS\",\"Scrypt\",\"X15\",\"SHA-256\",\"Scrypt\",\"POS 3.0\",\"CryptoNight-V7\",\"536\",\"Argon2d\",\"Blake2b\",\"Cloverhash\",\"CryptoNight\",\"NIST5\",\"X11\",\"NIST5\",\"Skein\",\"Scrypt\",\"X13\",\"Scrypt\",\"X11\",\"X11\",\"Scrypt\",\"CryptoNight\",\"X13\",\"Time Travel\",\"Scrypt\",\"Keccak\",\"SkunkHash v2 Raptor\",\"X11\",\"Skein\",\"SHA-256\",\"X11\",\"Scrypt\",\"VeChainThor Authority\",\"Scrypt\",\"PoS\",\"Scrypt\",\"Scrypt\",\"Scrypt\",\"Scrypt\",\"Scrypt\",\"Scrypt\",\"Scrypt\",\"CryptoNight\",\"SHA-512\",\"Ouroboros\",\"X11\",\"Equihash\",\"NeoScrypt\",\"X11\",\"Scrypt\",\"NeoScrypt\",\"Lyra2REv2\",\"Equihash\",\"Scrypt\",\"SHA-256\",\"NIST5\",\"PHI1612\",\"Dagger\",\"Scrypt\",\"Quark\",\"Scrypt\",\"POS 2.0\",\"Scrypt\",\"SHA-256\",\"X11\",\"NeoScrypt\",\"Ethash\",\"NeoScrypt\",\"X11\",\"DPoS\",\"NIST5\",\"X13\",\"Multiple\",\"Scrypt\",\"CryptoNight\",\"CryptoNight\",\"Ethash\",\"NIST5\",\"Quark\",\"X11\",\"CryptoNight-V7\",\"Scrypt\",\"Scrypt\",\"Scrypt\",\"X11\",\"BLAKE256\",\"X11\",\"NeoScrypt\",\"Quark\",\"NeoScrypt\",\"Scrypt\",\"Scrypt\",\"Scrypt\",\"X11\",\"X11\",\"SHA-256\",\"C11\",\"POS 3.0\",\"Ethash\",\"Scrypt\",\"CryptoNight\",\"SkunkHash\",\"Scrypt\",\"CryptoNight\",\"Scrypt\",\"Dagger\",\"Lyra2REv2\",\"X13\",\"Proof-of-BibleHash\",\"SHA-256 + Hive\",\"Scrypt\",\"Scrypt\",\"X11\",\"C11\",\"Proof-of-Authority\",\"X11\",\"XEVAN\",\"Scrypt\",\"VBFT\",\"Ethash\",\"CryptoNight\",\"Scrypt\",\"IMesh\",\"NIST5\",\"Scrypt\",\"Scrypt\",\"Equihash\",\"Scrypt\",\"Lyra2Z\",\"Green Protocol\",\"PoS\",\"Scrypt\",\"Semux BFT consensus\",\"X11\",\"Quark\",\"PoS\",\"CryptoNight\",\"X16R\",\"Scrypt\",\"NIST5\",\"Lyra2RE\",\"XEVAN\",\"Tribus\",\"Scrypt\",\"Lyra2Z\",\"CryptoNight\",\"CryptoNight Heavy\",\"CryptoNight\",\"Scrypt\",\"Scrypt\",\"Jump Consistent Hash\",\"SHA-256D\",\"CryptoNight\",\"Scrypt\",\"X15\",\"Scrypt\",\"Quark\",\"SHA-256\",\"DPoS\",\"X16R\",\"HMQ1725\",\"X11\",\"X16R\",\"Quark\",\"Quark\",\"Scrypt\",\"Lyra2REv2\",\"Quark\",\"Scrypt\",\"Scrypt\",\"CryptoNight-V7\",\"Cryptonight-GPU\",\"XEVAN\",\"CryptoNight Heavy\",\"X11\",\"X11\",\"Scrypt\",\"PoS\",\"SHA-256\",\"Keccak\",\"X11\",\"X11\",\"Scrypt\",\"SHA-512\",\"X16R\",\"ECC 256K1\",\"Equihash\",\"XEVAN\",\"Lyra2Z\",\"SHA-256\",\"XEVAN\",\"X11\",\"CryptoNight\",\"Quark\",\"Blake\",\"Blake\",\"Equihash\",\"Exosis\",\"Scrypt\",\"Scrypt\",\"Equihash\",\"Quark\",\"Equihash\",\"Quark\",\"Scrypt\",\"QuBit\",\"X11\",\"Scrypt\",\"XEVAN\",\"SHA-256D\",\"X11\",\"SHA-256\",\"X13\",\"SHA-256\",\"X11\",\"DPoS\",\"Scrypt\",\"Scrypt\",\"X11\",\"NeoScrypt\",\"Scrypt\",\"Blake\",\"Scrypt\",\"SHA-256\",\"Scrypt\",\"X11\",\"Scrypt\",\"Scrypt\",\"SHA-256\",\"X11\",\"SHA-256\",\"Scrypt\",\"Scrypt\",\"Scrypt\",\"Groestl\",\"X11\",\"Scrypt\",\"PoS\",\"Scrypt\",\"Scrypt\",\"X11\",\"SHA-256\",\"DPoS\",\"Scrypt\",\"Scrypt\",\"NeoScrypt\",\"SHA3-256\",\"Multiple\",\"X13\",\"Equihash+Scrypt\",\"DPoS\",\"Ethash\",\"DPoS\",\"SHA-256\",\"Leased POS\",\"PoS\",\"TRC10\",\"PoS\",\"SHA-256\",\"Scrypt\",\"CryptoNight\",\"Equihash\",\"Scrypt\"],\"Class\":{\"__ndarray__\":\"AAAAAAAAAAAAAAAAAQAAAAEAAAABAAAAAAAAAAEAAAABAAAAAQAAAAAAAAABAAAAAAAAAAAAAAABAAAAAAAAAAEAAAABAAAAAAAAAAAAAAABAAAAAQAAAAEAAAABAAAAAQAAAAAAAAABAAAAAQAAAAEAAAAAAAAAAQAAAAAAAAABAAAAAQAAAAAAAAAAAAAAAQAAAAEAAAABAAAAAQAAAAEAAAABAAAAAAAAAAAAAAABAAAAAQAAAAEAAAABAAAAAQAAAAAAAAAAAAAAAQAAAAAAAAABAAAAAQAAAAEAAAABAAAAAAAAAAEAAAABAAAAAAAAAAEAAAAAAAAAAAAAAAAAAAABAAAAAQAAAAEAAAAAAAAAAAAAAAAAAAAAAAAAAAAAAAEAAAABAAAAAQAAAAAAAAAAAAAAAQAAAAAAAAABAAAAAAAAAAAAAAABAAAAAQAAAAEAAAABAAAAAAAAAAAAAAABAAAAAAAAAAEAAAABAAAAAAAAAAAAAAABAAAAAAAAAAAAAAABAAAAAQAAAAAAAAAAAAAAAQAAAAAAAAAAAAAAAQAAAAAAAAABAAAAAAAAAAEAAAAAAAAAAQAAAAAAAAAAAAAAAQAAAAEAAAAAAAAAAQAAAAEAAAABAAAAAAAAAAEAAAABAAAAAQAAAAEAAAABAAAAAAAAAAAAAAABAAAAAQAAAAEAAAAAAAAAAQAAAAAAAAABAAAAAQAAAAAAAAABAAAAAAAAAAEAAAAAAAAAAAAAAAEAAAABAAAAAAAAAAEAAAABAAAAAAAAAAAAAAABAAAAAAAAAAEAAAAAAAAAAAAAAAAAAAABAAAAAQAAAAEAAAABAAAAAAAAAAAAAAAAAAAAAAAAAAAAAAABAAAAAQAAAAAAAAAAAAAAAAAAAAAAAAAAAAAAAQAAAAAAAAAAAAAAAAAAAAAAAAAAAAAAAQAAAAAAAAABAAAAAAAAAAAAAAABAAAAAAAAAAEAAAAAAAAAAAAAAAEAAAAAAAAAAQAAAAAAAAABAAAAAAAAAAEAAAAAAAAAAAAAAAAAAAAAAAAAAQAAAAAAAAAAAAAAAAAAAAAAAAAAAAAAAQAAAAEAAAAAAAAAAAAAAAEAAAABAAAAAAAAAAAAAAAAAAAAAAAAAAAAAAABAAAAAAAAAAAAAAAAAAAAAAAAAAAAAAAAAAAAAAAAAAAAAAABAAAAAAAAAAAAAAAAAAAAAAAAAAAAAAAAAAAAAQAAAAEAAAABAAAAAAAAAAAAAAAAAAAAAAAAAAEAAAAAAAAAAQAAAAAAAAAAAAAAAQAAAAAAAAABAAAAAQAAAAAAAAABAAAAAQAAAAAAAAABAAAAAAAAAAAAAAAAAAAAAQAAAAAAAAAAAAAAAQAAAAAAAAAAAAAAAAAAAAAAAAAAAAAAAAAAAAAAAAABAAAAAAAAAAEAAAAAAAAAAAAAAAAAAAAAAAAAAQAAAAAAAAABAAAAAAAAAAEAAAABAAAAAQAAAAEAAAAAAAAAAQAAAAAAAAAAAAAAAQAAAAAAAAABAAAAAQAAAAEAAAAAAAAAAQAAAAAAAAABAAAAAQAAAAEAAAAAAAAAAQAAAAAAAAABAAAAAAAAAAAAAAADAAAAAQAAAAAAAAABAAAAAQAAAAEAAAABAAAAAQAAAAAAAAAAAAAAAQAAAAAAAAAAAAAAAAAAAAEAAAAAAAAAAQAAAAAAAAABAAAAAAAAAAEAAAAAAAAAAAAAAAAAAAAAAAAAAQAAAAAAAAAAAAAAAQAAAAAAAAAAAAAAAAAAAAEAAAABAAAAAQAAAAEAAAAAAAAAAAAAAAAAAAAAAAAAAQAAAAAAAAABAAAAAQAAAAEAAAAAAAAAAAAAAAEAAAABAAAAAAAAAAAAAAABAAAAAAAAAAEAAAABAAAAAQAAAAAAAAABAAAAAQAAAAAAAAAAAAAAAAAAAAEAAAABAAAAAQAAAAAAAAAAAAAAAAAAAAEAAAABAAAAAAAAAAEAAAABAAAAAQAAAAEAAAAAAAAAAwAAAAMAAAABAAAAAQAAAAEAAAAAAAAAAwAAAAAAAAAAAAAAAAAAAAAAAAABAAAAAQAAAAEAAAABAAAAAAAAAAAAAAAAAAAAAQAAAAAAAAABAAAAAAAAAAAAAAAAAAAAAAAAAAEAAAAAAAAAAAAAAAEAAAAAAAAAAAAAAAEAAAABAAAAAAAAAAEAAAAAAAAAAQAAAAEAAAABAAAAAQAAAAAAAAAAAAAAAQAAAAAAAAABAAAAAAAAAAAAAAAAAAAAAAAAAAAAAAAAAAAAAQAAAAEAAAABAAAAAAAAAAAAAAAAAAAAAAAAAAAAAAAAAAAAAQAAAAAAAAABAAAAAQAAAAEAAAABAAAAAAAAAAAAAAAAAAAAAAAAAAEAAAAAAAAAAAAAAAEAAAAAAAAAAAAAAAEAAAADAAAAAQAAAAAAAAABAAAAAQAAAAAAAAAAAAAAAQAAAAAAAAABAAAAAQAAAAAAAAABAAAAAQAAAAAAAAABAAAAAAAAAAEAAAAAAAAAAAAAAAEAAAAAAAAAAAAAAAAAAAAAAAAAAAAAAAEAAAABAAAAAQAAAAAAAAAAAAAAAAAAAAEAAAAAAAAAAQAAAAAAAAABAAAAAAAAAAAAAAAAAAAAAAAAAAEAAAAAAAAAAAAAAAAAAAABAAAAAAAAAAEAAAAAAAAAAQAAAAAAAAAAAAAAAAAAAAEAAAABAAAAAAAAAAAAAAAAAAAAAAAAAAAAAAAAAAAAAwAAAAEAAAAAAAAAAQAAAAAAAAABAAAAAAAAAAAAAAADAAAAAAAAAAIAAAAAAAAAAAAAAAAAAAABAAAAAQAAAAAAAAA=\",\"dtype\":\"int32\",\"shape\":[533]},\"CoinName\":[\"42 Coin\",\"404Coin\",\"EliteCoin\",\"Bitcoin\",\"Ethereum\",\"Litecoin\",\"Dash\",\"Monero\",\"Ethereum Classic\",\"ZCash\",\"Bitshares\",\"DigiByte\",\"BitcoinDark\",\"PayCoin\",\"ProsperCoin\",\"KoboCoin\",\"Spreadcoin\",\"Argentum\",\"Aurora Coin\",\"BlueCoin\",\"MyriadCoin\",\"MoonCoin\",\"ZetaCoin\",\"SexCoin\",\"Quatloo\",\"EnergyCoin\",\"QuarkCoin\",\"Riecoin\",\"Digitalcoin \",\"BitBar\",\"Catcoin\",\"CryptoBullion\",\"CannaCoin\",\"CryptCoin\",\"CasinoCoin\",\"Diamond\",\"Verge\",\"DevCoin\",\"EarthCoin\",\"E-Gulden\",\"Einsteinium\",\"Emerald\",\"Exclusive Coin\",\"FlutterCoin\",\"Franko\",\"FeatherCoin\",\"GrandCoin\",\"GlobalCoin\",\"GoldCoin\",\"HoboNickels\",\"HyperStake\",\"Infinite Coin\",\"IOCoin\",\"IXcoin\",\"KrugerCoin\",\"LuckyCoin\",\"Litebar \",\"MaxCoin\",\"MegaCoin\",\"MediterraneanCoin\",\"MintCoin\",\"MinCoin\",\"MazaCoin\",\"Nautilus Coin\",\"NavCoin\",\"NobleCoin\",\"Namecoin\",\"NyanCoin\",\"OpalCoin\",\"Orbitcoin\",\"PotCoin\",\"PhoenixCoin\",\"Reddcoin\",\"RonPaulCoin\",\"StableCoin\",\"SmartCoin\",\"SuperCoin\",\"SyncCoin\",\"SysCoin\",\"TeslaCoin\",\"TigerCoin\",\"TittieCoin\",\"TorCoin\",\"TerraCoin\",\"UnbreakableCoin\",\"Unobtanium\",\"UroCoin\",\"UnitaryStatus Dollar\",\"UltraCoin\",\"ViaCoin\",\"VeriCoin\",\"Vertcoin\",\"WorldCoin\",\"X11 Coin\",\"Crypti\",\"JouleCoin\",\"StealthCoin\",\"ZCC Coin\",\"ByteCoin\",\"DigitalNote \",\"BurstCoin\",\"StorjCoin\",\"MonaCoin\",\"Neutron\",\"FairCoin\",\"Gulden\",\"RubyCoin\",\"PesetaCoin\",\"Kore\",\"Wild Beast Coin\",\"Dnotes\",\"Flo\",\"8BIT Coin\",\"Sativa Coin\",\"ArtByte\",\"Folding Coin\",\"Ucoin\",\"Unitus\",\"CypherPunkCoin\",\"OmniCron\",\"Vtorrent\",\"GreenCoin\",\"Cryptonite\",\"MasterCoin\",\"SoonCoin\",\"1Credit\",\"IslaCoin\",\"Nexus\",\"MarsCoin \",\"Crypto\",\"Anarchists Prime\",\"Droidz\",\"BowsCoin\",\"Squall Coin\",\"Song Coin\",\"BitZeny\",\"Diggits\",\"Expanse\",\"Paycon\",\"Siacoin\",\"Emercoin\",\"EverGreenCoin\",\"MindCoin\",\"I0coin\",\"Decred\",\"Revolution VR\",\"HOdlcoin\",\"EDRCoin\",\"Hitcoin\",\"Gamecredits\",\"DubaiCoin\",\"CarpeDiemCoin\",\"PWR Coin\",\"BillaryCoin\",\"GPU Coin\",\"Adzcoin\",\"SoilCoin\",\"YoCoin\",\"SibCoin\",\"EuropeCoin\",\"ZeitCoin\",\"SwingCoin\",\"SafeExchangeCoin\",\"Nebuchadnezzar\",\"Francs\",\"BolivarCoin\",\"Ratecoin\",\"Revenu\",\"Clockcoin\",\"VIP Tokens\",\"BitSend\",\"Omni\",\"Let it Ride\",\"PutinCoin\",\"iBankCoin\",\"Frankywillcoin\",\"MudraCoin\",\"PizzaCoin\",\"Lutetium Coin\",\"Komodo\",\"GoldBlocks\",\"CarterCoin\",\"Karbo\",\"BitTokens\",\"ZayedCoin\",\"MustangCoin\",\"ZoneCoin\",\"Circuits of Value\",\"RootCoin\",\"DopeCoin\",\"BitCurrency\",\"DollarCoin\",\"Swiscoin\",\"Shilling\",\"BuzzCoin\",\"Opair\",\"PesoBit\",\"Halloween Coin\",\"ZCoin\",\"CoffeeCoin\",\"RoyalCoin\",\"GanjaCoin V2\",\"TeamUP\",\"LanaCoin\",\"Elementrem\",\"ZClassic\",\"ARK\",\"InsaneCoin\",\"KiloCoin\",\"ArtexCoin\",\"EmberCoin\",\"XenixCoin\",\"FreeCoin\",\"PLNCoin\",\"AquariusCoin\",\"Kurrent\",\"Creatio\",\"Eternity\",\"Eurocoin\",\"BitcoinFast\",\"Stakenet\",\"BitConnect Coin\",\"MoneyCoin\",\"Enigma\",\"Cannabis Industry Coin\",\"Russiacoin\",\"PandaCoin\",\"GameUnits\",\"GAKHcoin\",\"Allsafe\",\"LiteCreed\",\"OsmiumCoin\",\"Bikercoins\",\"HexxCoin\",\"Klingon Empire Darsek\",\"Internet of People\",\"KushCoin\",\"Printerium\",\"PacCoin\",\"Impeach\",\"Citadel\",\"Zilbercoin\",\"FirstCoin\",\"BeaverCoin\",\"FindCoin\",\"VaultCoin\",\"Zero\",\"OpenChat\",\"Canada eCoin\",\"Zoin\",\"RenosCoin\",\"DubaiCoin\",\"VirtacoinPlus\",\"TajCoin\",\"Impact\",\"EB3coin\",\"Atmos\",\"HappyCoin\",\"Coinonat\",\"MacronCoin\",\"Condensate\",\"Independent Money System\",\"ArgusCoin\",\"LomoCoin\",\"ProCurrency\",\"GoldReserve\",\"BenjiRolls\",\"GrowthCoin\",\"ILCoin\",\"Phreak\",\"Degas Coin\",\"HTML5 Coin\",\"Ultimate Secure Cash\",\"EquiTrader\",\"QTUM\",\"Quantum Resistant Ledger\",\"Espers\",\"Dynamic\",\"Nano\",\"ChanCoin\",\"Dinastycoin\",\"Denarius\",\"DigitalPrice\",\"Virta Unique Coin\",\"Bitcoin Planet\",\"Unify\",\"BritCoin\",\"SocialCoin\",\"ArcticCoin\",\"DAS\",\"Linda\",\"LeviarCoin\",\"DeepOnion\",\"Bitcore\",\"gCn Coin\",\"SmartCash\",\"Signatum\",\"Onix\",\"Cream\",\"Bitcoin Cash\",\"Monoeci\",\"Draftcoin\",\"Vechain\",\"Sojourn Coin\",\"Stakecoin\",\"NewYorkCoin\",\"FrazCoin\",\"Kronecoin\",\"AdCoin\",\"Linx\",\"CoinonatX\",\"Ethereum Dark\",\"Sumokoin\",\"Obsidian\",\"Cardano\",\"Regalcoin\",\"BitcoinZ\",\"TrezarCoin\",\"Elements\",\"TerraNovaCoin\",\"VIVO Coin\",\"Rupee\",\"Bitcoin Gold\",\"WomenCoin\",\"Theresa May Coin\",\"NamoCoin\",\"LUXCoin\",\"Pirl\",\"Xios\",\"Bitcloud 2.0\",\"eBoost\",\"KekCoin\",\"BlackholeCoin\",\"Infinity Economics\",\"Pura\",\"Innova\",\"Ellaism\",\"GoByte\",\"Magnet\",\"Lamden Tau\",\"Electra\",\"Bitcoin Diamond\",\"SHIELD\",\"Cash & Back Coin\",\"UltraNote\",\"BitCoal\",\"DaxxCoin\",\"Bulwark\",\"Kalkulus\",\"AC3\",\"Lethean\",\"GermanCoin\",\"LiteCoin Ultra\",\"PopularCoin\",\"PhantomX\",\"Photon\",\"Sucre\",\"SparksPay\",\"Digiwage\",\"GunCoin\",\"IrishCoin\",\"Trollcoin\",\"Litecoin Plus\",\"Monkey Project\",\"Pioneer Coin\",\"UnitedBitcoin\",\"Interzone\",\"TokenPay\",\"1717 Masonic Commemorative Token\",\"My Big Coin\",\"TurtleCoin\",\"MUNcoin\",\"Unified Society USDEX\",\"Niobio Cash\",\"ShareChain\",\"Travelflex\",\"KREDS\",\"Tokyo Coin\",\"BiblePay\",\"LitecoinCash\",\"BitFlip\",\"LottoCoin\",\"Crypto Improvement Fund\",\"Stipend\",\"Poa Network\",\"Pushi\",\"Ellerium\",\"Velox\",\"Ontology\",\"Callisto Network\",\"BitTube\",\"Poseidon\",\"Aidos Kuneen\",\"Bitspace\",\"Briacoin\",\"Ignition\",\"Bitrolium\",\"MedicCoin\",\"Alpenschillling\",\"Bitcoin Green\",\"Deviant Coin\",\"Abjcoin\",\"Semux\",\"FuturoCoin\",\"Carebit\",\"Zealium\",\"Monero Classic\",\"Proton\",\"iDealCash\",\"Jumpcoin\",\"Infinex\",\"Bitcoin Incognito\",\"KEYCO\",\"HollyWoodCoin\",\"GINcoin\",\"PlatinCoin\",\"Loki\",\"Newton Coin\",\"Swisscoin\",\"Xt3ch\",\"MassGrid\",\"TheVig\",\"PluraCoin\",\"EmaratCoin\",\"Dekado\",\"Lynx\",\"Poseidon Quark\",\"BitcoinWSpectrum\",\"Muse\",\"Motion\",\"PlusOneCoin\",\"Axe\",\"Trivechain\",\"Dystem\",\"Giant\",\"Peony Coin\",\"Absolute Coin\",\"Vitae\",\"HexCoin\",\"TPCash\",\"Webchain\",\"Ryo\",\"Urals Coin\",\"Qwertycoin\",\"ARENON\",\"EUNO\",\"MMOCoin\",\"Ketan\",\"Project Pai\",\"XDNA\",\"PAXEX\",\"Azart\",\"ThunderStake\",\"Kcash\",\"Xchange\",\"Acute Angle Cloud\",\"CrypticCoin\",\"Bettex coin\",\"Actinium\",\"Bitcoin SV\",\"BitMoney\",\"Junson Ming Chan Coin\",\"FREDEnergy\",\"HerbCoin\",\"Universal Molecule\",\"Lithium\",\"PirateCash\",\"Exosis\",\"Block-Logic\",\"Oduwa\",\"Beam\",\"Galilel\",\"Bithereum\",\"Crypto Sports\",\"Credit\",\"SLICE\",\"Dash Platinum\",\"Nasdacoin\",\"Beetle Coin\",\"Titan Coin\",\"Award\",\"BLAST\",\"Bitcoin Rhodium\",\"GlobalToken\",\"Insane Coin\",\"ALAX\",\"LiteDoge\",\"SolarCoin\",\"TruckCoin\",\"UFO Coin\",\"OrangeCoin\",\"BlakeCoin\",\"BitstarCoin\",\"NeosCoin\",\"HyperCoin\",\"PinkCoin\",\"Crypto Escudo\",\"AudioCoin\",\"IncaKoin\",\"Piggy Coin\",\"Crown Coin\",\"Genstake\",\"SmileyCoin\",\"XiaoMiCoin\",\"Groestlcoin\",\"CapriCoin\",\" ClubCoin\",\"Radium\",\"Bata\",\"Pakcoin\",\"Creditbit \",\"OKCash\",\"Lisk\",\"HiCoin\",\"WhiteCoin\",\"FriendshipCoin\",\"Fiii\",\"JoinCoin\",\"Triangles Coin\",\"Vollar\",\"EOS\",\"Reality Clash\",\"Oxycoin\",\"TigerCash\",\"Waves\",\"Particl\",\"BitTorrent\",\"Nxt\",\"ZEPHYR\",\"Gapcoin\",\"Beldex\",\"Horizen\",\"BitcoinPlus\"],\"ProofType\":[\"PoW/PoS\",\"PoW/PoS\",\"PoW/PoS\",\"PoW\",\"PoW\",\"PoW\",\"PoW/PoS\",\"PoW\",\"PoW\",\"PoW\",\"PoS\",\"PoW\",\"PoW/PoS\",\"PoS\",\"PoW\",\"PoW/PoS\",\"PoW\",\"PoW\",\"PoW/PoS\",\"PoW/PoS\",\"PoW\",\"PoW\",\"PoW\",\"PoW\",\"PoW\",\"PoW/PoS\",\"PoW\",\"PoW\",\"PoW\",\"PoW/PoS\",\"PoW\",\"PoW/PoS\",\"PoW\",\"PoW\",\"PoC\",\"PoW/PoS\",\"PoW\",\"PoW\",\"PoW\",\"PoW\",\"PoW\",\"PoW\",\"PoS\",\"PoS/PoW/PoT\",\"PoW\",\"PoW\",\"PoW\",\"PoW\",\"PoW\",\"PoW/PoS\",\"PoS\",\"PoW\",\"PoW/PoS\",\"PoW\",\"PoW\",\"PoW\",\"PoW\",\"PoW/PoS\",\"PoW\",\"PoW\",\"PoS\",\"PoW\",\"PoW/PoS\",\"PoS\",\"PoW/PoS\",\"PoW\",\"PoW\",\"PoW\",\"PoW/PoS\",\"PoW/PoS\",\"PoW/PoS\",\"PoW/PoS\",\"PoW/PoS\",\"PoW\",\"PoW\",\"PoW\",\"PoS\",\"PoW/PoS\",\"PoW\",\"PoS\",\"PoW\",\"PoS\",\"PoW/PoS\",\"PoW\",\"PoW\",\"PoW\",\"PoW\",\"PoW/PoS\",\"PoW/PoS\",\"PoW\",\"PoST\",\"PoW\",\"PoW\",\"PoW/PoS\",\"PoS\",\"PoW\",\"PoW/PoS\",\"PoW/PoS\",\"PoW\",\"PoW\",\"PoC\",\"PoS\",\"PoW\",\"PoW/PoS\",\"PoW/PoS\",\"PoW\",\"PoS\",\"PoW\",\"PoW/PoS\",\"PoW\",\"PoS\",\"PoW\",\"PoW/PoS\",\"PoW/PoS\",\"PoW\",\"PoW\",\"PoS\",\"PoW\",\"PoW\",\"PoW\",\"PoW/PoS\",\"PoW\",\"PoW\",\"PoW\",\"PoW\",\"PoW\",\"PoW/PoS\",\"PoW/nPoS\",\"PoW\",\"PoW\",\"PoW\",\"PoW/PoS\",\"PoW\",\"PoS/PoW\",\"PoW\",\"PoW\",\"PoS\",\"PoW\",\"PoW/PoS\",\"PoW\",\"PoW/PoS\",\"PoW/PoS\",\"PoW\",\"PoW\",\"PoW/PoS\",\"PoW\",\"PoW\",\"PoW/PoS\",\"PoW/PoS\",\"PoW\",\"PoW/PoS\",\"PoW\",\"PoW/PoS\",\"PoW/PoS\",\"PoS\",\"PoW\",\"PoW\",\"PoW\",\"PoW\",\"PoW/PoS\",\"PoS\",\"PoW/PoS\",\"PoC\",\"PoS\",\"PoW\",\"PoW\",\"PoW/PoS\",\"PoW/PoS\",\"PoW/PoS\",\"PoW/PoS\",\"PoW/PoS\",\"PoW\",\"PoS\",\"PoW/PoS\",\"PoW/PoS\",\"PoW/PoS\",\"PoS\",\"PoW\",\"PoS\",\"dPoW/PoW\",\"PoW/PoS\",\"PoW/PoS\",\"PoW\",\"PoW/PoS\",\"PoW\",\"PoW/PoS\",\"PoW/PoS\",\"PoW\",\"PoW/PoS\",\"PoW\",\"PoS\",\"PoW\",\"PoW/PoW\",\"PoW\",\"PoW/PoS\",\"PoS\",\"PoW/PoS\",\"PoW/PoS\",\"PoW\",\"PoS\",\"PoS\",\"PoW/PoS\",\"PoS\",\"PoW/PoS\",\"PoW\",\"PoW\",\"DPoS\",\"PoW/PoS\",\"PoW\",\"PoW\",\"PoW/PoS\",\"PoW/PoS\",\"PoS\",\"PoW/PoS\",\"PoW/PoS\",\"PoW\",\"PoS\",\"PoW/PoS\",\"PoW/PoS\",\"PoW/PoS\",\"TPoS\",\"PoW/PoS\",\"PoW/PoS\",\"PoW/PoS\",\"PoW\",\"PoW/PoS\",\"PoS\",\"PoW/PoS\",\"PoW/PoS\",\"PoS\",\"PoW/PoS\",\"PoW\",\"PoW\",\"PoW\",\"PoW/PoS\",\"PoW/PoS\",\"PoW/PoS\",\"PoW/PoS\",\"PoW\",\"PoW/PoS\",\"PoW\",\"PoS\",\"PoW/PoS \",\"PoW\",\"PoS\",\"PoW\",\"PoW\",\"PoW/PoS\",\"PoW\",\"PoW\",\"PoS\",\"PoW\",\"PoW/PoS\",\"PoW/PoS\",\"PoW/PoS\",\"PoW\",\"PoS\",\"PoW/PoS\",\"PoW\",\"PoS\",\"PoW/PoS\",\"PoW/PoS\",\"PoW/PoS\",\"PoW/PoS\",\"PoS\",\"PoW/PoS\",\"PoW\",\"PoS\",\"PoW\",\"PoS\",\"PoW/PoS\",\"PoW/PoS\",\"PoS\",\"PoW\",\"PoS\",\"PoW\",\"PoW/PoS\",\"PoW\",\"PoW\",\"PoW\",\"PoW\",\"PoW/PoS\",\"PoW\",\"PoW/PoS\",\"PoW/PoS\",\"PoW\",\"PoW/PoS\",\"PoW\",\"PoW\",\"PoW\",\"PoW/PoS\",\"PoW\",\"PoW/PoS\",\"PoW\",\"PoW\",\"PoW\",\"PoS\",\"PoW\",\"PoW/PoS\",\"PoW\",\"PoW/PoS\",\"PoS\",\"Proof of Authority\",\"PoW\",\"PoS\",\"PoW\",\"PoW\",\"PoW\",\"PoW\",\"PoW\",\"PoW/PoS\",\"PoW/PoS\",\"PoW\",\"PoS\",\"PoS\",\"PoW/PoS\",\"PoW\",\"PoW/PoS\",\"PoW\",\"PoW/PoS\",\"PoW\",\"PoS\",\"PoW\",\"PoW/PoS\",\"PoW/PoS\",\"PoW/PoS\",\"PoW/PoS\",\"PoW\",\"PoW/PoS\",\"PoW/PoS\",\"PoW\",\"PoS\",\"PoW/PoS\",\"PoS\",\"PoW\",\"PoW\",\"PoW\",\"PoW\",\"PoW/PoS\",\"DPoS\",\"PoW/PoS\",\"PoW/PoS\",\"PoW\",\"PoW/PoS\",\"PoW\",\"PoW\",\"PoW\",\"PoS\",\"PoS\",\"PoW\",\"PoW\",\"PoW/PoS\",\"PoW/PoS\",\"PoW\",\"PoW/PoS\",\"PoW\",\"PoW\",\"PoW\",\"PoS\",\"PoW\",\"PoW\",\"PoW/PoS\",\"PoW/PoS\",\"PoS\",\"PoW\",\"PoW\",\"PoW\",\"PoS\",\"PoS\",\"PoW and PoS\",\"PoW\",\"PoW\",\"PoW/PoS\",\"PoW\",\"PoW\",\"PoW\",\"PoW\",\"PoS\",\"POBh\",\"PoW + Hive\",\"PoW\",\"PoW\",\"PoW\",\"PoW/PoS\",\"PoA\",\"PoW/PoS\",\"PoW/PoS\",\"PoS\",\"PoS\",\"PoW\",\"PoW\",\"PoW\",\"PoW\",\"PoW/PoS\",\"PoW/PoS\",\"PoW/PoS\",\"PoW\",\"PoS\",\"PoW\",\"PoS\",\"PoS\",\"PoW/PoS\",\"DPoS\",\"PoW\",\"PoW/PoS\",\"PoS\",\"PoW\",\"PoS\",\"PoW/PoS\",\"PoW\",\"PoW\",\"PoS/PoW\",\"PoW\",\"PoS\",\"PoW\",\"PoW\",\"PoW\",\"PoW\",\"PoW/PoS\",\"PoS\",\"PoW\",\"PoW/PoS\",\"PoW\",\"PoW/PoS\",\"PoS\",\"HPoW\",\"PoS\",\"PoS\",\"PoS\",\"PoW\",\"PoW\",\"PoW\",\"PoW/PoS\",\"PoS\",\"PoW/PoS\",\"PoS\",\"PoW/PoS\",\"PoS\",\"PoW\",\"PoW/PoS\",\"PoW\",\"PoW\",\"PoW\",\"PoW\",\"PoS\",\"PoW/PoS\",\"PoS\",\"PoS\",\"PoW\",\"PoW/PoS\",\"PoS\",\"PoW\",\"PoW/PoS\",\"Zero-Knowledge Proof\",\"PoW\",\"DPOS\",\"PoW\",\"PoS\",\"PoW\",\"PoW\",\"Pos\",\"PoS\",\"PoW\",\"PoW/PoS\",\"PoW\",\"PoW\",\"PoS\",\"PoW\",\"PoW\",\"PoW/PoS\",\"PoW\",\"PoW/PoS\",\"PoW\",\"PoS\",\"PoW/PoS\",\"PoW\",\"PoS\",\"PoW/PoS\",\"PoW/PoS\",\"PoW/PoS\",\"PoW/PoS\",\"PoW\",\"PoW\",\"PoW\",\"PoW/PoS\",\"DPoS\",\"PoW/PoS\",\"PoW\",\"PoW/PoS\",\"PoW\",\"PoW/PoS\",\"PoW\",\"PoW/PoS\",\"PoS\",\"PoW/PoS\",\"PoW/PoS\",\"PoW\",\"PoW/PoS\",\"PoW/PoS\",\"PoW/PoS\",\"PoW\",\"PoW/PoS\",\"PoW\",\"PoW/PoS\",\"PoW\",\"PoW/PoS\",\"PoW/PoS\",\"PoS\",\"PoW\",\"PoW\",\"Proof of Trust\",\"PoW/PoS\",\"DPoS\",\"PoS\",\"PoW/PoS\",\"PoW/PoS\",\"DPoC\",\"PoW\",\"PoW/PoS\",\"PoW\",\"DPoS\",\"PoW\",\"DPoS\",\"PoS\",\"LPoS\",\"PoS\",\"DPoS\",\"PoS/LPoS\",\"DPoS\",\"PoW/PoS\",\"PoW\",\"PoW\",\"PoS\"],\"TotalCoinSupply\":[\"42\",\"532000000\",\"314159265359\",\"21000000\",\"0\",\"84000000\",\"22000000\",\"0\",\"210000000\",\"21000000\",\"3600570502\",\"21000000000\",\"22000000\",\"12500000\",\"21000000\",\"350000000\",\"20000000\",\"64000000\",\"16768584\",\"0\",\"2000000000\",\"384000000000\",\"169795588\",\"250000000\",\"100000000\",\"0\",\"247000000\",\"84000000\",\"48166000\",\"500000\",\"21000000 \",\"1000000\",\"13140000\",\"18000000\",\"40000000000\",\"4380000\",\"16555000000\",\"21000000000\",\"13500000000\",\"21000000 \",\"299792458\",\"32000000\",\"0\",\"0\",\"11235813\",\"336000000\",\"1420609614\",\"70000000\",\"72245700\",\"120000000\",\"0\",\"90600000000\",\"22000000\",\"21000000\",\"265420800\",\"20000000\",\"1350000\",\"100000000\",\"42000000\",\"200000000\",\"0\",\"10000000\",\"2419200000\",\"16180000\",\"0\",\"15000000000\",\"21000000\",\"337000000\",\"0\",\"3770000\",\"420000000\",\"98000000\",\"0\",\"21000000\",\"250000000\",\"51200000\",\"0\",\"1000\",\"888000000\",\"100000000\",\"47011968\",\"2300000000\",\"10000000\",\"42000000\",\"80000000\",\"250000\",\"0\",\"1600000000\",\"100000000\",\"23000000\",\"0\",\"84000000\",\"265420800\",\"5500000\",\"0\",\"45000000\",\"0\",\"1000000000\",\"184467440735\",\"10000000000\",\"2158812800\",\"500000000\",\"105120000\",\"68000000\",\"0\",\"1680000000\",\"0\",\"166386000\",\"12000000\",\"2628000\",\"500000000\",\"160000000\",\"0\",\"10000000\",\"1000000000\",\"1000000000\",\"20000000\",\"0\",\"0\",\"3371337\",\"20000000\",\"10000000000\",\"1840000000\",\"619478\",\"21000000\",\"92000000000\",\"0\",\"78000000\",\"33000000\",\"65789100\",\"53760000\",\"5060000\",\"21000000\",\"0\",\"210240000\",\"250000000\",\"100000000\",\"16906397\",\"50000000\",\"0\",\"1000000000\",\"26298000\",\"16000000\",\"21000000\",\"21000000\",\"210000000\",\"81962100\",\"22000000\",\"26550000000\",\"84000000\",\"10500000\",\"21626280000 \",\"0\",\"42000000\",\"221052632\",\"84000000\",\"30000000\",\"168351300\",\"24000000\",\"384000000\",\" 99000000000\",\"40000000\",\"2147483647\",\"20000000\",\"20000000\",\"25000000\",\"75000000\",\"222725000\",\"525000000\",\"90000000\",\"139000000\",\"616448\",\"33500000\",\"2000000000\",\"44333333\",\"100000000\",\"200000000\",\"25000000\",\"657000000\",\"200000000\",\"50000000\",\"90000000\",\"10000000\",\"21000000\",\"9736000\",\"3000000\",\"21000000\",\"1200000000\",\"0\",\"200000000\",\"0\",\"10638298\",\"3100000000\",\"30000000\",\"20000000000\",\"74000000\",\"0\",\"1500000000\",\"21400000\",\"39999898\",\"2500124\",\"100000000\",\"301000000\",\"7506000000\",\"26205539\",\"21000000\",\"125000000\",\"30000000\",\"10000000000\",\"500000000\",\"850000000\",\"3853326.77707314\",\"50000000\",\"38540000 \",\"42000000\",\"228000000\",\"20000000\",\"60000000\",\"20000000\",\"33000000\",\"76500000\",\"28000000\",\"650659833\",\"5000000\",\"21000000\",\"144000000\",\"32514916898\",\"13000000\",\"3315789\",\"15000000\",\"78835200\",\"2714286\",\"25000000\",\"9999999\",\"500000000\",\"21000000\",\"9354000\",\"20000000\",\"100000000000\",\"21933333\",\"185000000\",\"55000000\",\"110000000\",\"3360000\",\"14524851.4827\",\"1000000000\",\"17000000\",\"1000000000\",\"100000000 \",\"21000000\",\"34426423\",\"2232901\",\"100000000\",\"36900000\",\"110000000\",\"4000000000\",\"110290030\",\"100000000\",\"48252000\",\"400000000\",\"500000000\",\"21212121\",\"28600000\",\"1000000000\",\"75000000000\",\"40000000\",\"35520400\",\"2000000000\",\"2500000000\",\"30000000\",\"105000000\",\"90000000000\",\"200084200\",\"72000000\",\"100000000\",\"105000000\",\"50000000000\",\"0\",\"340282367\",\"30000000\",\"2000000000\",\"10000000\",\"100000000\",\"120000000\",\"100000000\",\"19276800\",\"30000000\",\" 75000000\",\"60000000\",\"18900000\",\"50000000000\",\"54000000\",\"18898187.6216583\",\"21000000\",\"200000000000\",\"5000000000\",\"137500000\",\"1100000000\",\"100000000\",\"21000000\",\"9507271\",\"17405891.19707116\",\"86712634466\",\"10500000000\",\"61599965\",\"0\",\"20000000\",\"84000000\",\"100000000\",\"100000000\",\"48252000\",\"4200000\",\"88888888\",\"91388946\",\"45000000000\",\"27000000\",\"21000000000\",\"400000000\",\"1800000000\",\"15733333\",\"27000000\",\"24000000\",\"21000000\",\"25000000000\",\"100000000\",\"1200000000\",\"60000000\",\"156306732.71\",\"21000000\",\"200000000\",\"100000000\",\"21000000\",\"14788275.991\",\"9000000000\",\"350000000\",\"45000000\",\"280000000\",\"31800000\",\"144000000\",\"500000000\",\"30000000000\",\"210000000\",\"660000000\",\"210000000\",\"85000000000\",\"12500000\",\"10000000000\",\"27716121\",\"20000000\",\"550000000\",\"999481516\",\"50000000000\",\"150000000\",\"4999999999\",\"50000000\",\" 90000000000\",\"19800000\",\"21000000\",\"120000000\",\"500000000\",\"64000000\",\"900000000\",\"4000000\",\"21000000\",\"23000000\",\"20166000\",\"23000000\",\"25000000\",\"1618033\",\"30000000\",\"1000000000000\",\"16600000\",\"232000000\",\"336000000\",\"10000000000\",\"100000000\",\"1100000000\",\"800000000\",\"5200000000\",\"840000000\",\"40000000\",\"18406979840\",\"500000000\",\"19340594\",\"252460800\",\"25000000\",\"60000000\",\"124000000\",\"1000000000\",\"6500000000\",\"1000000000\",\"21000000\",\"25000000\",\"50000000\",\"3000000\",\"5000000\",\"70000000\",\"500000000\",\"300000000\",\"21000000\",\"88000000\",\"30000000\",\"100000000\",\"100000000\",\"200000000\",\"80000000\",\"18400000\",\"45000000\",\"5121951220\",\"21000000\",\"26280000\",\"21000000\",\"18000000\",\"26000000\",\"10500000\",\"600000518\",\"150000000\",\"184000000000\",\"10200000000\",\"44000000\",\"168000000\",\"100000000\",\"1000000000\",\"84000000\",\"90000000\",\"92000000000\",\"650000000 \",\"100262205\",\"18081806 \",\"22075700\",\"21000000\",\"21000000\",\"82546564\",\"21000000\",\"5151000\",\"16880000000\",\"52500000\",\"100000000\",\"22105263\",\"1000000000\",\"1750000000\",\"88188888\",\"210000000\",\"184470000000\",\"55000000\",\"50000000\",\"260000000\",\"210000000\",\"2100000000\",\"366000000\",\"100000000\",\"25000000\",\"18000000000\",\"1000000000\",\"100000000\",\"1000000000\",\"7600000000\",\"50000000\",\"84000000\",\"21000000\",\"70000000000\",\"0\",\"8080000000\",\"54000000\",\"105120001.44\",\"25228800\",\"105000000\",\"21000000\",\"120000000\",\"21000000\",\"262800000\",\"19035999\",\"30886000\",\"13370000\",\"74800000000\",\"100000000\",\"19700000\",\"84000000\",\"500000000\",\"5000000000\",\"420000000\",\"64000000\",\"2100000\",\"168000000\",\"30000000\",\"1000000000\",\"35000000000\",\"98100000000\",\"0\",\"4000000000\",\"200000000\",\"7000000000\",\"54256119\",\"21000000\",\"0\",\"500000000\",\"1000000000\",\"10500000000\",\"190000000\",\"1000000000\",\"42000000\",\"15000000\",\"50000000000\",\"400000000\",\"105000000\",\"208000000\",\"160000000\",\"9000000\",\"5000000\",\"182000000\",\"16504333\",\"105000000\",\"159918400\",\"10008835635\",\"300000000\",\"60168145\",\"5000000000\",\"2800000\",\"120000\",\"2100000000\",\"0\",\"24487944\",\"0\",\"1000000000\",\"100000000\",\"8634140\",\"990000000000\",\"1000000000\",\"2000000000\",\"250000000\",\"1400222610\",\"21000000\",\"1000000\"],\"TotalCoinsMined\":{\"__ndarray__\":\"E66yfP7/REC4HgUDbHLPQcQCukHCRBtCAAAAcMAYcUHb+b76hayZQfdoZlo4D45BczEFzM85YUFmkFFyf2dwQQAAAFztBptBAAAAEAQqXEEAAAA6IW3kQQAAKLzoPgVCAAAAAJ6qM0Epu0/cGOFmQQAAAIAdAVZBuzNpefhbeEFogey/NERlQRASPW7cR2dB+ijjv4NLcUEAAABO5u/CQQAAgMotKNlBAAAAAAAAVkCRe4LLOUqkQWlwu1zuvZ5B7FG4slgRXEES3YNEKFedQbxc1FkO8a5BjF0hSWmgh0FQLIHFyuR/Qc7ixUJvyuRAZlhcKb2KW0HCR4pNGbYvQdDqKuGh8VFBQQ4rjd4PU0GutucKX6AiQqBfqd8TNklB/fZoycqrDUIAAHBTCXwRQnSTloARWwdCS2bm7Bjxc0He//+wcBeqQbTI9iT1l3JBAAAAQJaqVUHBNFQR94a7QaQ8LSbMbzFBMPUDShPgqEEAAAA1WFnKQQFaxIOwUI9BD/H/v0jdg0EMI73Wa0iVQftcscYLA9lBo6E6fO0XNUJq65YfTtVwQW3n+0/EHHRBmpmZw9ANokHNzEzyVm5yQeu2uDrY2TBBAAAAaLVMjUFC3vH/OTGCQTMzM4eHR4NB0/wVEd7UE0K3KNQ4KyRWQdb//9BLDNhBAAAAAGTcbkFGZKnBRYOPQWh5ONDpoOFBAAAAAIIbbEHurnvnQfOzQWC5lIqR6GxBEqW9I0SSSEECRgfUkYuqQQAAgKodopFB7loEOWBNG0KzdfRrHdkwQZqZmdvoF3dBqQYrknhoeEEnrP5t5i2IQQAAAAAAZJJASWWmrurJwEEmvO6+tSKTQQAAAACNwoRBsaedNq8s2EHonwEAK9k1QQAAAEB233VBAAAAAINhQUF75AdVfoYIQQAAAAAObDJBZmYm5Ctg0EHqsCJZOvSHQfL/r8ISFHZBBWSeRqeJfkHHd4jeymaIQQAAAHQ6hJxBqj02xuuDWkEAAAAAhNeXQWWO5dqisIJBhvyY1oWPf0HN5/S7TaShQQAAB3WebUVCcSCmnaK6+UEAAADwLATbQQAAAMC4ZohBcBN8y0VCkEEAAADwmKeCQQAAADhjXYlBAAAAZOS8uEGF80Sm1ux5QeDz06y0ZKBBm6kQ40DcPkGTMePy+TQGQRqL3sPG0aRB26a4ke4mokEAAAAAwWU2QQAAAICAEltBAAAAUZSex0EAAABPt3DFQQAAAACKhURBAAAAsGYMj0EAAABAGUhYQclLLY4xV2NBAAAAQF4iZkFxPQ5ywyzxQQAAAMx5HcVBAAAAAKznIkEAAACAQ8VnQQAAAABQifVAAAAAAOgYN0EAAAAgqFqOQbTMIm2Yun5BAAAAQFI2akFuowEAyCBsQb/Mf8ucV2BBAAAAsANCbkFIisgQwBcUQQAAAECDDn9BAAAAkCQHkkEAAAAAhNeXQQAAAMClBGRBAAAAwKL5dUEAAEizP9MeQnMvcJZSiIRBdN9gjbfOaUEAAADg5UNuQXci101WBnRBZImz3Q7FY0EAAAAAsQipQQAAAKBO1mVB0TYn7F3/S0EAAJj8c3sEQgAAABB1ppBBAAAAgM2QU0EAAGSVNj8UQs9mP8p8wQJCZta35+opYUEAAACQC02DQQAAAKChgoVBAAAAAGjAVUEVe6IeXWwjQQAAALCvdnBBh9M4uazZY0FWnZ2VUDchQsSzAmd+slBBAADA////30EAAAAA0BJzQfWeCOrNEFlBACv2TwgLakHGaE16SgqgQQAAAAAFPjJBAAAAgCTIb0EAAACMaOWTQWZvBMgIQndBAAAAAADQIkH8k1OFq2aCQZ+vSflmO8hBAAAAAD1EUUEAAAAAhNeXQQAAAADQElNBAAAAAH0GNUEAAAAgg5TDQQAAAEzcoZtBAAAAIIyvbUEAAADgOZWEQSqHXC4Y111BAAAAAMorIkEAAAAAgNFXQXUZ5bDIESRBAAAAAOmyQ0EAAAAAZc3NQQAAAACxmT1BAAAAsKrbm0EAAAAwvTekQQAAAECjXmFBAACA3BLTw0EAAAAATDVlQQAA7E21OxJCKwwuO6qmkUEAAADQUPh/Qd7Fk3RYja9BUc34T+beXEEAAAAgerqhQQAAAAAOE0NBAAAAAITXl0F4eqWiQ/5wQW1b4nIfINBBAAAAMNb9eEEAAACA+2lVQQAAAJAhzJlBAAAA0Dl+cUEAAADmiWanQQAAAACfjshBAADD1R53NUL1IXdjB2ZNQQAAAACE14dBAAAAAERMcEGnlim1VLBCQQAAAGjSQo1BAAAAANASc0H6EPGEOidXQQAAAEDFrmdBAWxAemNOc0EAAACEqwWSQW8KEEyCImVBAAAAQE7RZEEAAAAAntwoQQAAAADC2S1BAAAAQIT1X0G1VTeErn0fQgAAAIArf0pBAAAAgCZMSUG3QKeXoQ9kQQAAAGDS03xBAAAAAJRIK0EAAAAA5NhhQeiBj3GyoDxBAAAAwOvadkGII9U8v0VDQawzRD12llVBAAAAAFSMZkEAAAAd2QDAQQAAAABMzxJBBwq80BzsZEGMg2z7OkxGQQAAAADeOZpBAAAAAH3ER0FFR3JvNrRrQQAAAEBY+nxBHHiWeW1nWkEAAAAAZc3NQaJtQ0H1zZdBAAAA2MWvcUEAAADorTCBQQAAAIAiCUFBTeW+oh8baUEhj6B9UD1nQd7hZs9XYJpBAAAAoDmQjkEEVo5zMX+aQcubKKA6hnRBAAAAAPhOY0EAAABZNO23QTtUk67eAZ1BAAAAgBl7VEEAAAAApIUxQQAAAACAhB5BAAAARNP4l0EAAABgO2BwQYwpWDI4VnNBCaRc6miXsUEAAADLzqLTQWBHLT+iuWVBAAAAwIpedEEAAMDR7u4iQgAAACBZumNBckLXzXcUakEAAAAAhNeXQWUIVsOfdZBBAADce2Q8FUKonWsKIt5yQQAAAKTUxJ9BkdtqsfWNcUEAAMDBkfbaQQAAAAA7009BAAAA+GzBgEEAAADYWwOOQQAAAIDi9FlBAAAAsAxLcUEAAADAZ0h0QQAAAMCntlNBIBX6xf/VeEEAAAAA0wJEQX/w+Yv12ABCAAAAYPECa0Ga3cmg1eZ0QZKakZIo+nBBAABOq2v7QkJLH6e/YrLgQQAAAHgivplByhiP2VEznUGRw9HTzpGGQWq8WVp0KXFBI1gm0VX5Z0Hya5UVeMxxQQAAoDO40ilCAAAAAHidHUEAAAAAgIROQe/X1k3upUBCAAAAQE2CYkFw2XdWK6VwQQkyArFkIn9BAAAAcMkTgEEAAABAaKJyQQAAAACQBVBBAAAAoHsQYUEAAAAAhNd3QQAAKM1+JRhCzr66gjC0W0EDPqDeH2rzQQAAAICuxaVBy0qbvkkj5EGLprPq/mcxQVF7mcmnyE9BAAAAAGDjdkH5hGyRy2dwQQAAjLzRkCZCAAAAwFXylUEAAAAKwrTAQdlvVtQbr19BAAAAIM00gEEAAAAAnGZAQYpweOjvSX1BJ0/5xefWl0Hg88PJ5oRnQcl2vh+GNW9BAACwz4jDAEIAAADmKeOkQSlcj8LWUVhBAAAA4LFUaEEAAAC4nD9WQY52rBbqNoJBYW9+x+krsUEAAACS4nIaQsmUx5ED4aVB6fCQBqC2vEHPayxFf3WaQTj4lfsk9RFCAAAAAIgqUUEAAACELQy/Qb7tLlxZRGlBqtpuTpcrcEEAAAC8HCaTQRKDYLnxTLpBXI/WvvhL8kHLoUVKCQ9gQUjhGyQdie1BBOfcMG6KhUFZF6rN7wUcQv52QCDsIVBBqQRZVX7vXUEAAAAA9gh6QQAAAMGN3rFBm/K3SiGwhUEAAABOJZ3BQQndJR2TG0NBAAAAAPXPUEFs0d4KsytgQQAAAABXO3NBRN0Hg6W6ZkFWAY1Yqn9zQQAAAABxsDhB6KPo0IXtYUE9ipsSw74oQiP3U79oYVJB4XaQc/D+q0HFrxjPlu6fQQAAACBfoAJCJXMcSJ2WmUHVIcXjxS/DQQAAAFoqdKtB8dd4J/5n2kGWsBp+eAbDQRXGFoAyvWdBAACoqNr9CkJPPwDNSjCpQURLA8bRdWVBAAAAfjRgqEHNzMyMCYpAQVK4HoUtlxlBWiYo0q1ieEEAAIC4lGXDQQAAAEqIhK1BdXWf684Vk0GYUBwTog1PQQAAAACE13dBGcIW1FlMakEZtn+gi84pQQAAAIDJCTJBAAAAVDEDkUEAAKAYR92vQYN0bFrtEnpBfQaUa/WyYkFNBaat9tx0Qeux5ct22GJBAAAAACvJMkGJEf1SB1R+QXJuA5mDqKBBTNr5wtYfZUEAAAAAvIxuQQAAAACWzFBB5nRdlm/s1EGTQQkk4hd0QURRfW02clNBjX70YrDMZEEAAAAAbkYoQbN2u8vzdIJBBFMT7aemWkEAAAAAwJT0QAAAAAAuRHJBAACivbA6I0IAAAAwvf8CQkhQ/AAsG11Bg20UIDEyoEGcs497yrJ/QSXLM+AdscBB78nDukaZdEHP8+dFmuF8QVnmi1WJITJC6NT8eTS5REEY0gHIAZGLQQAAAIAfWnFBpq1XQWr/XkE4UF7FY31gQaKloawBDFNBrPn2hDebgUFNI9YPZgRbQasgKXHAlFZBluWQ57jML0GotR8+EW5pQSFAAa03f49BSGTlENedNUEZ8ryfJp1UQddG4emEt21BAAAAQESoUkFpyxQjRSBsQV3NAOrTLTdCcT0KX3hgckEXDZ5fe1h9Qf+yq29isZlBB1Ybc0PKYUEAAABA3UrfQXtmCXYA01FBAAAAwA8vUUHawOFXUiJTQRiaN9DOls9BAAAAAGXNzUFRV68zk5piQQAAAABlzc1BAAAAitWN70FyYIdLU+RZQQAAAECkAWpBP8xZKrQocUFhFLwwZtuoQXBOQWIqBxBCkCxSxj/S20GEJfPNkdaAQZO4O1ApFThBx93xJ6g5bkEAAAAACrRpQTMzM7MvyRhBzT1kaTfTgEEdRpysmS9sQQAAAABjBIFBoET6MztrcUEAAAA4VPx3QfT+3KxthT1BTx7ABmy1HEKNuYbNa6doQdWNf+IW1yVBJsJLAz6Yc0FvD7pAHLenQQAAAGixtspBrfE+UWlpbUHNuQVlhu+IQQAAAIB02zFB0v7/r18slEE4zCGFrax2QQAAAABlzc1B5x1IVZ2IDEL7Pxej2H6KQSibcjLG6qxBAACA+gF/7EEAAAAAf/xKQUgFZGJXRnZBAAAAQJGfc0FeS8aPUMFQQW94x/+7XmJBF4V9WDoCukEAAAAGiUDHQR9ofThlOs1BBFbV6ym1EEJuUAeag3W9QUrmXREL7HVBAAAAADicjEFprytpX40bQpijizthGbhBuqmMb8R5kUGs4drOJgGoQa4Pq9CTtJhBBonp3l4nTUGfQd76IkZTQZk6wZ0znZBBDFuTijkecEEqosuD3c2RQQAAALD1nJxBApot/nygAkKKmGJ4mQquQaD9SAGBGDFB0nu/vNIL9sEAAABAnW1JQag65AZOLwFBAAAAAITXl0HZPYkFI2rOQfh6iIGAWndBFK7Xcoy50EEAAAAAZc3NQQAAAACE15dB2arJMci0YUHF9Hue/c9sQgAAAABlzc1B847T/mTN3UGU+vLEjHpsQQAAgEGBNs1BAAAAYIbVW0FH2AHxb1T/QA==\",\"dtype\":\"float64\",\"shape\":[533]}},\"selected\":{\"id\":\"1294\",\"type\":\"Selection\"},\"selection_policy\":{\"id\":\"1327\",\"type\":\"UnionRenderers\"}},\"id\":\"1293\",\"type\":\"ColumnDataSource\"},{\"attributes\":{\"editor\":{\"id\":\"1311\",\"type\":\"StringEditor\"},\"field\":\"TotalCoinSupply\",\"formatter\":{\"id\":\"1310\",\"type\":\"StringFormatter\"},\"title\":\"TotalCoinSupply\"},\"id\":\"1312\",\"type\":\"TableColumn\"},{\"attributes\":{\"editor\":{\"id\":\"1296\",\"type\":\"StringEditor\"},\"field\":\"CoinName\",\"formatter\":{\"id\":\"1295\",\"type\":\"StringFormatter\"},\"title\":\"CoinName\"},\"id\":\"1297\",\"type\":\"TableColumn\"},{\"attributes\":{\"children\":[{\"id\":\"1292\",\"type\":\"Spacer\"},{\"id\":\"1325\",\"type\":\"DataTable\"},{\"id\":\"1329\",\"type\":\"Spacer\"}],\"margin\":[0,0,0,0],\"name\":\"Row02109\",\"tags\":[\"embedded\"]},\"id\":\"1291\",\"type\":\"Row\"},{\"attributes\":{},\"id\":\"1321\",\"type\":\"IntEditor\"},{\"attributes\":{},\"id\":\"1306\",\"type\":\"StringEditor\"},{\"attributes\":{\"editor\":{\"id\":\"1321\",\"type\":\"IntEditor\"},\"field\":\"Class\",\"formatter\":{\"id\":\"1320\",\"type\":\"NumberFormatter\"},\"title\":\"Class\"},\"id\":\"1322\",\"type\":\"TableColumn\"},{\"attributes\":{},\"id\":\"1300\",\"type\":\"StringFormatter\"},{\"attributes\":{\"margin\":[5,5,5,5],\"name\":\"HSpacer02113\",\"sizing_mode\":\"stretch_width\"},\"id\":\"1292\",\"type\":\"Spacer\"},{\"attributes\":{},\"id\":\"1295\",\"type\":\"StringFormatter\"},{\"attributes\":{\"editor\":{\"id\":\"1306\",\"type\":\"StringEditor\"},\"field\":\"ProofType\",\"formatter\":{\"id\":\"1305\",\"type\":\"StringFormatter\"},\"title\":\"ProofType\"},\"id\":\"1307\",\"type\":\"TableColumn\"},{\"attributes\":{\"format\":\"0,0.0[00000]\"},\"id\":\"1315\",\"type\":\"NumberFormatter\"},{\"attributes\":{},\"id\":\"1311\",\"type\":\"StringEditor\"},{\"attributes\":{},\"id\":\"1327\",\"type\":\"UnionRenderers\"},{\"attributes\":{\"columns\":[{\"id\":\"1297\",\"type\":\"TableColumn\"},{\"id\":\"1302\",\"type\":\"TableColumn\"},{\"id\":\"1307\",\"type\":\"TableColumn\"},{\"id\":\"1312\",\"type\":\"TableColumn\"},{\"id\":\"1317\",\"type\":\"TableColumn\"},{\"id\":\"1322\",\"type\":\"TableColumn\"}],\"height\":300,\"reorderable\":false,\"source\":{\"id\":\"1293\",\"type\":\"ColumnDataSource\"},\"view\":{\"id\":\"1326\",\"type\":\"CDSView\"},\"width\":800},\"id\":\"1325\",\"type\":\"DataTable\"},{\"attributes\":{},\"id\":\"1316\",\"type\":\"NumberEditor\"},{\"attributes\":{},\"id\":\"1305\",\"type\":\"StringFormatter\"}],\"root_ids\":[\"1291\"]},\"title\":\"Bokeh Application\",\"version\":\"1.4.0\"}};\n",
       "  var render_items = [{\"docid\":\"8b5aa109-bb70-4fa9-a04d-97ec335784bd\",\"roots\":{\"1291\":\"986fb39f-2a4c-450d-906e-7a57e2c6100c\"}}];\n",
       "  root.Bokeh.embed.embed_items_notebook(docs_json, render_items);\n",
       "  }\n",
       "if (root.Bokeh !== undefined) {\n",
       "    embed_document(root);\n",
       "  } else {\n",
       "    var attempts = 0;\n",
       "    var timer = setInterval(function(root) {\n",
       "      if (root.Bokeh !== undefined) {\n",
       "        clearInterval(timer);\n",
       "        embed_document(root);\n",
       "      } else if (document.readyState == \"complete\") {\n",
       "        attempts++;\n",
       "        if (attempts > 100) {\n",
       "          clearInterval(timer);\n",
       "          console.log(\"Bokeh: ERROR: Unable to run BokehJS code because BokehJS library is missing\");\n",
       "        }\n",
       "      }\n",
       "    }, 10, root)\n",
       "  }\n",
       "})(window);</script>"
      ],
      "text/plain": [
       ":Table   [CoinName,Algorithm,ProofType,TotalCoinSupply,TotalCoinsMined,Class]"
      ]
     },
     "execution_count": 109,
     "metadata": {
      "application/vnd.holoviews_exec.v0+json": {
       "id": "1291"
      }
     },
     "output_type": "execute_result"
    }
   ],
   "source": [
    "# Table with tradable cryptos\n",
    "\n",
    "clustered_df.hvplot.table(columns=[\"CoinName\", \"Algorithm\", \"ProofType\", \"TotalCoinSupply\", \"TotalCoinsMined\", \"Class\"], \n",
    "                          width=800)\n"
   ]
  },
  {
   "cell_type": "code",
   "execution_count": 110,
   "metadata": {},
   "outputs": [
    {
     "name": "stdout",
     "output_type": "stream",
     "text": [
      "Total number of tradable cryptocurrencies is 533.\n"
     ]
    }
   ],
   "source": [
    "# Print the total number of tradable cryptocurrencies\n",
    "print(f\"Total number of tradable cryptocurrencies is {len(clustered_df)}.\")"
   ]
  },
  {
   "cell_type": "markdown",
   "metadata": {},
   "source": [
    "#### Scatter Plot with Tradable Cryptocurrencies"
   ]
  },
  {
   "cell_type": "code",
   "execution_count": 124,
   "metadata": {},
   "outputs": [],
   "source": [
    "# Scale data to create the scatter plot\n",
    "clustered_df_scaled = clustered_df\n",
    "clustered_df_scaled[\"TotalCoinsMined\"] = clustered_df_scaled[\"TotalCoinsMined\"] / 1000000"
   ]
  },
  {
   "cell_type": "code",
   "execution_count": 129,
   "metadata": {},
   "outputs": [
    {
     "data": {
      "text/plain": [
       "Algorithm           object\n",
       "ProofType           object\n",
       "TotalCoinsMined    float64\n",
       "TotalCoinSupply    float64\n",
       "PC 1               float64\n",
       "PC 2               float64\n",
       "PC 3               float64\n",
       "CoinName            object\n",
       "Class                int32\n",
       "dtype: object"
      ]
     },
     "execution_count": 129,
     "metadata": {},
     "output_type": "execute_result"
    }
   ],
   "source": [
    "clustered_df_scaled = clustered_df_scaled.astype({'TotalCoinSupply': 'float64'})\n",
    "clustered_df_scaled.dtypes"
   ]
  },
  {
   "cell_type": "code",
   "execution_count": 130,
   "metadata": {},
   "outputs": [
    {
     "data": {
      "text/html": [
       "<div>\n",
       "<style scoped>\n",
       "    .dataframe tbody tr th:only-of-type {\n",
       "        vertical-align: middle;\n",
       "    }\n",
       "\n",
       "    .dataframe tbody tr th {\n",
       "        vertical-align: top;\n",
       "    }\n",
       "\n",
       "    .dataframe thead th {\n",
       "        text-align: right;\n",
       "    }\n",
       "</style>\n",
       "<table border=\"1\" class=\"dataframe\">\n",
       "  <thead>\n",
       "    <tr style=\"text-align: right;\">\n",
       "      <th></th>\n",
       "      <th>Algorithm</th>\n",
       "      <th>ProofType</th>\n",
       "      <th>TotalCoinsMined</th>\n",
       "      <th>TotalCoinSupply</th>\n",
       "      <th>PC 1</th>\n",
       "      <th>PC 2</th>\n",
       "      <th>PC 3</th>\n",
       "      <th>CoinName</th>\n",
       "      <th>Class</th>\n",
       "    </tr>\n",
       "    <tr>\n",
       "      <th>Unnamed: 0</th>\n",
       "      <th></th>\n",
       "      <th></th>\n",
       "      <th></th>\n",
       "      <th></th>\n",
       "      <th></th>\n",
       "      <th></th>\n",
       "      <th></th>\n",
       "      <th></th>\n",
       "      <th></th>\n",
       "    </tr>\n",
       "  </thead>\n",
       "  <tbody>\n",
       "    <tr>\n",
       "      <th>42</th>\n",
       "      <td>Scrypt</td>\n",
       "      <td>PoW/PoS</td>\n",
       "      <td>4.199995e-11</td>\n",
       "      <td>4.200000e+01</td>\n",
       "      <td>-0.332981</td>\n",
       "      <td>0.943650</td>\n",
       "      <td>-0.613667</td>\n",
       "      <td>42 Coin</td>\n",
       "      <td>0</td>\n",
       "    </tr>\n",
       "    <tr>\n",
       "      <th>404</th>\n",
       "      <td>Scrypt</td>\n",
       "      <td>PoW/PoS</td>\n",
       "      <td>1.055185e-03</td>\n",
       "      <td>5.320000e+08</td>\n",
       "      <td>-0.316304</td>\n",
       "      <td>0.943729</td>\n",
       "      <td>-0.614192</td>\n",
       "      <td>404Coin</td>\n",
       "      <td>0</td>\n",
       "    </tr>\n",
       "    <tr>\n",
       "      <th>1337</th>\n",
       "      <td>X13</td>\n",
       "      <td>PoW/PoS</td>\n",
       "      <td>2.927942e-02</td>\n",
       "      <td>3.141593e+11</td>\n",
       "      <td>2.313592</td>\n",
       "      <td>1.577694</td>\n",
       "      <td>-0.767406</td>\n",
       "      <td>EliteCoin</td>\n",
       "      <td>0</td>\n",
       "    </tr>\n",
       "    <tr>\n",
       "      <th>BTC</th>\n",
       "      <td>SHA-256</td>\n",
       "      <td>PoW</td>\n",
       "      <td>1.792717e-05</td>\n",
       "      <td>2.100000e+07</td>\n",
       "      <td>-0.148416</td>\n",
       "      <td>-1.287989</td>\n",
       "      <td>0.169944</td>\n",
       "      <td>Bitcoin</td>\n",
       "      <td>1</td>\n",
       "    </tr>\n",
       "    <tr>\n",
       "      <th>ETH</th>\n",
       "      <td>Ethash</td>\n",
       "      <td>PoW</td>\n",
       "      <td>1.076842e-04</td>\n",
       "      <td>0.000000e+00</td>\n",
       "      <td>-0.152403</td>\n",
       "      <td>-1.998210</td>\n",
       "      <td>0.435083</td>\n",
       "      <td>Ethereum</td>\n",
       "      <td>1</td>\n",
       "    </tr>\n",
       "  </tbody>\n",
       "</table>\n",
       "</div>"
      ],
      "text/plain": [
       "           Algorithm ProofType  TotalCoinsMined  TotalCoinSupply      PC 1  \\\n",
       "Unnamed: 0                                                                   \n",
       "42            Scrypt   PoW/PoS     4.199995e-11     4.200000e+01 -0.332981   \n",
       "404           Scrypt   PoW/PoS     1.055185e-03     5.320000e+08 -0.316304   \n",
       "1337             X13   PoW/PoS     2.927942e-02     3.141593e+11  2.313592   \n",
       "BTC          SHA-256       PoW     1.792717e-05     2.100000e+07 -0.148416   \n",
       "ETH           Ethash       PoW     1.076842e-04     0.000000e+00 -0.152403   \n",
       "\n",
       "                PC 2      PC 3   CoinName  Class  \n",
       "Unnamed: 0                                        \n",
       "42          0.943650 -0.613667    42 Coin      0  \n",
       "404         0.943729 -0.614192    404Coin      0  \n",
       "1337        1.577694 -0.767406  EliteCoin      0  \n",
       "BTC        -1.287989  0.169944    Bitcoin      1  \n",
       "ETH        -1.998210  0.435083   Ethereum      1  "
      ]
     },
     "execution_count": 130,
     "metadata": {},
     "output_type": "execute_result"
    }
   ],
   "source": [
    "clustered_df_scaled[\"TotalCoinsMined\"] = clustered_df_scaled[\"TotalCoinsMined\"] / 1000000\n",
    "clustered_df_scaled.head()"
   ]
  },
  {
   "cell_type": "code",
   "execution_count": 132,
   "metadata": {},
   "outputs": [
    {
     "data": {},
     "metadata": {},
     "output_type": "display_data"
    },
    {
     "data": {
      "application/vnd.holoviews_exec.v0+json": "",
      "text/html": [
       "<div id='2021'>\n",
       "\n",
       "\n",
       "\n",
       "\n",
       "\n",
       "  <div class=\"bk-root\" id=\"71ae74a2-2a2c-4cf7-9778-fc21cce81827\" data-root-id=\"2021\"></div>\n",
       "</div>\n",
       "<script type=\"application/javascript\">\n",
       "    function msg_handler(msg) {\n",
       "      var metadata = msg.metadata;\n",
       "      var buffers = msg.buffers;\n",
       "      var msg = msg.content.data;\n",
       "      if ((metadata.msg_type == \"Ready\")) {\n",
       "        if (metadata.content) {\n",
       "          console.log(\"Python callback returned following output:\", metadata.content);\n",
       "        }\n",
       "      } else if (metadata.msg_type == \"Error\") {\n",
       "        console.log(\"Python failed with the following traceback:\", metadata.traceback)\n",
       "      } else {\n",
       "        \n",
       "var plot_id = \"2021\";\n",
       "\n",
       "if ((plot_id in window.PyViz.plot_index) && (window.PyViz.plot_index[plot_id] != null)) {\n",
       "  var plot = window.PyViz.plot_index[plot_id];\n",
       "} else if ((Bokeh !== undefined) && (plot_id in Bokeh.index)) {\n",
       "  var plot = Bokeh.index[plot_id];\n",
       "}\n",
       "\n",
       "if (plot == null) {\n",
       "  return\n",
       "}\n",
       "\n",
       "if (plot_id in window.PyViz.receivers) {\n",
       "  var receiver = window.PyViz.receivers[plot_id];\n",
       "} else {\n",
       "  var receiver = new Bokeh.protocol.Receiver();\n",
       "  window.PyViz.receivers[plot_id] = receiver;\n",
       "}\n",
       "\n",
       "if ((buffers != undefined) && (buffers.length > 0)) {\n",
       "  receiver.consume(buffers[0].buffer)\n",
       "} else {\n",
       "  receiver.consume(msg)\n",
       "}\n",
       "\n",
       "const comm_msg = receiver.message;\n",
       "if ((comm_msg != null) && (Object.keys(comm_msg.content).length > 0)) {\n",
       "  plot.model.document.apply_json_patch(comm_msg.content, comm_msg.buffers)\n",
       "}\n",
       "\n",
       "      }\n",
       "    }\n",
       "    if ((window.PyViz == undefined) || (!window.PyViz.comm_manager)) {\n",
       "      console.log(\"Could not find comm manager\")\n",
       "    } else {\n",
       "      window.PyViz.comm_manager.register_target('2021', 'e743a20b48c741fb9c493d825374ef69', msg_handler);\n",
       "    }\n",
       "    \n",
       "(function(root) {\n",
       "  function embed_document(root) {\n",
       "  var docs_json = {\"b2ea5c21-3052-40f8-8a17-ce81757bbe60\":{\"roots\":{\"references\":[{\"attributes\":{\"fill_alpha\":{\"value\":0.2},\"fill_color\":{\"value\":\"#1f77b3\"},\"line_alpha\":{\"value\":0.2},\"line_color\":{\"value\":\"#1f77b3\"},\"size\":{\"units\":\"screen\",\"value\":5.477225575051661},\"x\":{\"field\":\"TotalCoinsMined\"},\"y\":{\"field\":\"TotalCoinSupply\"}},\"id\":\"2062\",\"type\":\"Scatter\"},{\"attributes\":{\"dimension\":1,\"grid_line_color\":null,\"ticker\":{\"id\":\"2041\",\"type\":\"BasicTicker\"}},\"id\":\"2044\",\"type\":\"Grid\"},{\"attributes\":{},\"id\":\"2068\",\"type\":\"BasicTickFormatter\"},{\"attributes\":{},\"id\":\"2066\",\"type\":\"BasicTickFormatter\"},{\"attributes\":{\"callback\":null,\"data\":{\"CoinName\":[\"42 Coin\",\"404Coin\",\"EliteCoin\",\"Bitcoin\",\"Ethereum\",\"Litecoin\",\"Dash\",\"Monero\",\"Ethereum Classic\",\"ZCash\",\"Bitshares\",\"DigiByte\",\"BitcoinDark\",\"PayCoin\",\"ProsperCoin\",\"KoboCoin\",\"Spreadcoin\",\"Argentum\",\"Aurora Coin\",\"BlueCoin\",\"MyriadCoin\",\"MoonCoin\",\"ZetaCoin\",\"SexCoin\",\"Quatloo\",\"EnergyCoin\",\"QuarkCoin\",\"Riecoin\",\"Digitalcoin \",\"BitBar\",\"Catcoin\",\"CryptoBullion\",\"CannaCoin\",\"CryptCoin\",\"CasinoCoin\",\"Diamond\",\"Verge\",\"DevCoin\",\"EarthCoin\",\"E-Gulden\",\"Einsteinium\",\"Emerald\",\"Exclusive Coin\",\"FlutterCoin\",\"Franko\",\"FeatherCoin\",\"GrandCoin\",\"GlobalCoin\",\"GoldCoin\",\"HoboNickels\",\"HyperStake\",\"Infinite Coin\",\"IOCoin\",\"IXcoin\",\"KrugerCoin\",\"LuckyCoin\",\"Litebar \",\"MaxCoin\",\"MegaCoin\",\"MediterraneanCoin\",\"MintCoin\",\"MinCoin\",\"MazaCoin\",\"Nautilus Coin\",\"NavCoin\",\"NobleCoin\",\"Namecoin\",\"NyanCoin\",\"OpalCoin\",\"Orbitcoin\",\"PotCoin\",\"PhoenixCoin\",\"Reddcoin\",\"RonPaulCoin\",\"StableCoin\",\"SmartCoin\",\"SuperCoin\",\"SyncCoin\",\"SysCoin\",\"TeslaCoin\",\"TigerCoin\",\"TittieCoin\",\"TorCoin\",\"TerraCoin\",\"UnbreakableCoin\",\"Unobtanium\",\"UroCoin\",\"UnitaryStatus Dollar\",\"UltraCoin\",\"ViaCoin\",\"VeriCoin\",\"Vertcoin\",\"WorldCoin\",\"X11 Coin\",\"Crypti\",\"JouleCoin\",\"StealthCoin\",\"ZCC Coin\",\"ByteCoin\",\"DigitalNote \",\"BurstCoin\",\"StorjCoin\",\"MonaCoin\",\"Neutron\",\"FairCoin\",\"Gulden\",\"RubyCoin\",\"PesetaCoin\",\"Kore\",\"Wild Beast Coin\",\"Dnotes\",\"Flo\",\"8BIT Coin\",\"Sativa Coin\",\"ArtByte\",\"Folding Coin\",\"Ucoin\",\"Unitus\",\"CypherPunkCoin\",\"OmniCron\",\"Vtorrent\",\"GreenCoin\",\"Cryptonite\",\"MasterCoin\",\"SoonCoin\",\"1Credit\",\"IslaCoin\",\"Nexus\",\"MarsCoin \",\"Crypto\",\"Anarchists Prime\",\"Droidz\",\"BowsCoin\",\"Squall Coin\",\"Song Coin\",\"BitZeny\",\"Diggits\",\"Expanse\",\"Paycon\",\"Siacoin\",\"Emercoin\",\"EverGreenCoin\",\"MindCoin\",\"I0coin\",\"Decred\",\"Revolution VR\",\"HOdlcoin\",\"EDRCoin\",\"Hitcoin\",\"Gamecredits\",\"DubaiCoin\",\"CarpeDiemCoin\",\"PWR Coin\",\"BillaryCoin\",\"GPU Coin\",\"Adzcoin\",\"SoilCoin\",\"YoCoin\",\"SibCoin\",\"EuropeCoin\",\"ZeitCoin\",\"SwingCoin\",\"SafeExchangeCoin\",\"Nebuchadnezzar\",\"Francs\",\"BolivarCoin\",\"Ratecoin\",\"Revenu\",\"Clockcoin\",\"VIP Tokens\",\"BitSend\",\"Omni\",\"Let it Ride\",\"PutinCoin\",\"iBankCoin\",\"Frankywillcoin\",\"MudraCoin\",\"PizzaCoin\",\"Lutetium Coin\",\"Komodo\",\"GoldBlocks\",\"CarterCoin\",\"Karbo\",\"BitTokens\",\"ZayedCoin\",\"MustangCoin\",\"ZoneCoin\",\"Circuits of Value\",\"RootCoin\",\"DopeCoin\",\"BitCurrency\",\"DollarCoin\",\"Swiscoin\",\"Shilling\",\"BuzzCoin\",\"Opair\",\"PesoBit\",\"Halloween Coin\",\"ZCoin\",\"CoffeeCoin\",\"RoyalCoin\",\"GanjaCoin V2\",\"TeamUP\",\"LanaCoin\",\"Elementrem\",\"ZClassic\",\"ARK\",\"InsaneCoin\",\"KiloCoin\",\"ArtexCoin\",\"EmberCoin\",\"XenixCoin\",\"FreeCoin\",\"PLNCoin\",\"AquariusCoin\",\"Kurrent\",\"Creatio\",\"Eternity\",\"Eurocoin\",\"BitcoinFast\",\"Stakenet\",\"BitConnect Coin\",\"MoneyCoin\",\"Enigma\",\"Cannabis Industry Coin\",\"Russiacoin\",\"PandaCoin\",\"GameUnits\",\"GAKHcoin\",\"Allsafe\",\"LiteCreed\",\"OsmiumCoin\",\"Bikercoins\",\"HexxCoin\",\"Klingon Empire Darsek\",\"Internet of People\",\"KushCoin\",\"Printerium\",\"PacCoin\",\"Impeach\",\"Citadel\",\"Zilbercoin\",\"FirstCoin\",\"BeaverCoin\",\"FindCoin\",\"VaultCoin\",\"Zero\",\"OpenChat\",\"Canada eCoin\",\"Zoin\",\"RenosCoin\",\"DubaiCoin\",\"VirtacoinPlus\",\"TajCoin\",\"Impact\",\"EB3coin\",\"Atmos\",\"HappyCoin\",\"Coinonat\",\"MacronCoin\",\"Condensate\",\"Independent Money System\",\"ArgusCoin\",\"LomoCoin\",\"ProCurrency\",\"GoldReserve\",\"BenjiRolls\",\"GrowthCoin\",\"ILCoin\",\"Phreak\",\"Degas Coin\",\"HTML5 Coin\",\"Ultimate Secure Cash\",\"EquiTrader\",\"QTUM\",\"Quantum Resistant Ledger\",\"Espers\",\"Dynamic\",\"Nano\",\"ChanCoin\",\"Dinastycoin\",\"Denarius\",\"DigitalPrice\",\"Virta Unique Coin\",\"Bitcoin Planet\",\"Unify\",\"BritCoin\",\"SocialCoin\",\"ArcticCoin\",\"DAS\",\"Linda\",\"LeviarCoin\",\"DeepOnion\",\"Bitcore\",\"gCn Coin\",\"SmartCash\",\"Signatum\",\"Onix\",\"Cream\",\"Bitcoin Cash\",\"Monoeci\",\"Draftcoin\",\"Vechain\",\"Sojourn Coin\",\"Stakecoin\",\"NewYorkCoin\",\"FrazCoin\",\"Kronecoin\",\"AdCoin\",\"Linx\",\"CoinonatX\",\"Ethereum Dark\",\"Sumokoin\",\"Obsidian\",\"Cardano\",\"Regalcoin\",\"BitcoinZ\",\"TrezarCoin\",\"Elements\",\"TerraNovaCoin\",\"VIVO Coin\",\"Rupee\",\"Bitcoin Gold\",\"WomenCoin\",\"Theresa May Coin\",\"NamoCoin\",\"LUXCoin\",\"Pirl\",\"Xios\",\"Bitcloud 2.0\",\"eBoost\",\"KekCoin\",\"BlackholeCoin\",\"Infinity Economics\",\"Pura\",\"Innova\",\"Ellaism\",\"GoByte\",\"Magnet\",\"Lamden Tau\",\"Electra\",\"Bitcoin Diamond\",\"SHIELD\",\"Cash & Back Coin\",\"UltraNote\",\"BitCoal\",\"DaxxCoin\",\"Bulwark\",\"Kalkulus\",\"AC3\",\"Lethean\",\"GermanCoin\",\"LiteCoin Ultra\",\"PopularCoin\",\"PhantomX\",\"Photon\",\"Sucre\",\"SparksPay\",\"Digiwage\",\"GunCoin\",\"IrishCoin\",\"Trollcoin\",\"Litecoin Plus\",\"Monkey Project\",\"Pioneer Coin\",\"UnitedBitcoin\",\"Interzone\",\"TokenPay\",\"1717 Masonic Commemorative Token\",\"My Big Coin\",\"TurtleCoin\",\"MUNcoin\",\"Unified Society USDEX\",\"Niobio Cash\",\"ShareChain\",\"Travelflex\",\"KREDS\",\"Tokyo Coin\",\"BiblePay\",\"LitecoinCash\",\"BitFlip\",\"LottoCoin\",\"Crypto Improvement Fund\",\"Stipend\",\"Poa Network\",\"Pushi\",\"Ellerium\",\"Velox\",\"Ontology\",\"Callisto Network\",\"BitTube\",\"Poseidon\",\"Aidos Kuneen\",\"Bitspace\",\"Briacoin\",\"Ignition\",\"Bitrolium\",\"MedicCoin\",\"Alpenschillling\",\"Bitcoin Green\",\"Deviant Coin\",\"Abjcoin\",\"Semux\",\"FuturoCoin\",\"Carebit\",\"Zealium\",\"Monero Classic\",\"Proton\",\"iDealCash\",\"Jumpcoin\",\"Infinex\",\"Bitcoin Incognito\",\"KEYCO\",\"HollyWoodCoin\",\"GINcoin\",\"PlatinCoin\",\"Loki\",\"Newton Coin\",\"Swisscoin\",\"Xt3ch\",\"MassGrid\",\"TheVig\",\"PluraCoin\",\"EmaratCoin\",\"Dekado\",\"Lynx\",\"Poseidon Quark\",\"BitcoinWSpectrum\",\"Muse\",\"Motion\",\"PlusOneCoin\",\"Axe\",\"Trivechain\",\"Dystem\",\"Giant\",\"Peony Coin\",\"Absolute Coin\",\"Vitae\",\"HexCoin\",\"TPCash\",\"Webchain\",\"Ryo\",\"Urals Coin\",\"Qwertycoin\",\"ARENON\",\"EUNO\",\"MMOCoin\",\"Ketan\",\"Project Pai\",\"XDNA\",\"PAXEX\",\"Azart\",\"ThunderStake\",\"Kcash\",\"Xchange\",\"Acute Angle Cloud\",\"CrypticCoin\",\"Bettex coin\",\"Actinium\",\"Bitcoin SV\",\"BitMoney\",\"Junson Ming Chan Coin\",\"FREDEnergy\",\"HerbCoin\",\"Universal Molecule\",\"Lithium\",\"PirateCash\",\"Exosis\",\"Block-Logic\",\"Oduwa\",\"Beam\",\"Galilel\",\"Bithereum\",\"Crypto Sports\",\"Credit\",\"SLICE\",\"Dash Platinum\",\"Nasdacoin\",\"Beetle Coin\",\"Titan Coin\",\"Award\",\"BLAST\",\"Bitcoin Rhodium\",\"GlobalToken\",\"Insane Coin\",\"ALAX\",\"LiteDoge\",\"SolarCoin\",\"TruckCoin\",\"UFO Coin\",\"OrangeCoin\",\"BlakeCoin\",\"BitstarCoin\",\"NeosCoin\",\"HyperCoin\",\"PinkCoin\",\"Crypto Escudo\",\"AudioCoin\",\"IncaKoin\",\"Piggy Coin\",\"Crown Coin\",\"Genstake\",\"SmileyCoin\",\"XiaoMiCoin\",\"Groestlcoin\",\"CapriCoin\",\" ClubCoin\",\"Radium\",\"Bata\",\"Pakcoin\",\"Creditbit \",\"OKCash\",\"Lisk\",\"HiCoin\",\"WhiteCoin\",\"FriendshipCoin\",\"Fiii\",\"JoinCoin\",\"Triangles Coin\",\"Vollar\",\"EOS\",\"Reality Clash\",\"Oxycoin\",\"TigerCash\",\"Waves\",\"Particl\",\"BitTorrent\",\"Nxt\",\"ZEPHYR\",\"Gapcoin\",\"Beldex\",\"Horizen\",\"BitcoinPlus\"],\"TotalCoinSupply\":{\"__ndarray__\":\"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\",\"dtype\":\"float64\",\"shape\":[533]},\"TotalCoinsMined\":{\"__ndarray__\":\"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\",\"dtype\":\"float64\",\"shape\":[533]}},\"selected\":{\"id\":\"2058\",\"type\":\"Selection\"},\"selection_policy\":{\"id\":\"2075\",\"type\":\"UnionRenderers\"}},\"id\":\"2057\",\"type\":\"ColumnDataSource\"},{\"attributes\":{\"grid_line_color\":null,\"ticker\":{\"id\":\"2036\",\"type\":\"BasicTicker\"}},\"id\":\"2039\",\"type\":\"Grid\"},{\"attributes\":{\"text\":\"\",\"text_color\":{\"value\":\"black\"},\"text_font_size\":{\"value\":\"12pt\"}},\"id\":\"2027\",\"type\":\"Title\"},{\"attributes\":{\"bottom_units\":\"screen\",\"fill_alpha\":{\"value\":0.5},\"fill_color\":{\"value\":\"lightgrey\"},\"left_units\":\"screen\",\"level\":\"overlay\",\"line_alpha\":{\"value\":1.0},\"line_color\":{\"value\":\"black\"},\"line_dash\":[4,4],\"line_width\":{\"value\":2},\"render_mode\":\"css\",\"right_units\":\"screen\",\"top_units\":\"screen\"},\"id\":\"2074\",\"type\":\"BoxAnnotation\"},{\"attributes\":{},\"id\":\"2058\",\"type\":\"Selection\"},{\"attributes\":{\"active_drag\":\"auto\",\"active_inspect\":\"auto\",\"active_multi\":null,\"active_scroll\":\"auto\",\"active_tap\":\"auto\",\"tools\":[{\"id\":\"2025\",\"type\":\"HoverTool\"},{\"id\":\"2045\",\"type\":\"SaveTool\"},{\"id\":\"2046\",\"type\":\"PanTool\"},{\"id\":\"2047\",\"type\":\"WheelZoomTool\"},{\"id\":\"2048\",\"type\":\"BoxZoomTool\"},{\"id\":\"2049\",\"type\":\"ResetTool\"}]},\"id\":\"2050\",\"type\":\"Toolbar\"},{\"attributes\":{},\"id\":\"2075\",\"type\":\"UnionRenderers\"},{\"attributes\":{},\"id\":\"2045\",\"type\":\"SaveTool\"},{\"attributes\":{\"callback\":null,\"end\":1.052232881626375,\"reset_end\":1.052232881626375,\"reset_start\":-0.06816214573469379,\"start\":-0.06816214573469379,\"tags\":[[[\"TotalCoinsMined\",\"TotalCoinsMined\",null]]]},\"id\":\"2023\",\"type\":\"Range1d\"},{\"attributes\":{},\"id\":\"2046\",\"type\":\"PanTool\"},{\"attributes\":{},\"id\":\"2047\",\"type\":\"WheelZoomTool\"},{\"attributes\":{\"overlay\":{\"id\":\"2074\",\"type\":\"BoxAnnotation\"}},\"id\":\"2048\",\"type\":\"BoxZoomTool\"},{\"attributes\":{},\"id\":\"2031\",\"type\":\"LinearScale\"},{\"attributes\":{\"callback\":null,\"renderers\":[{\"id\":\"2063\",\"type\":\"GlyphRenderer\"}],\"tags\":[\"hv_created\"],\"tooltips\":[[\"TotalCoinsMined\",\"@{TotalCoinsMined}\"],[\"TotalCoinSupply\",\"@{TotalCoinSupply}\"],[\"CoinName\",\"@{CoinName}\"]]},\"id\":\"2025\",\"type\":\"HoverTool\"},{\"attributes\":{\"axis_label\":\"TotalCoinSupply\",\"axis_label_text_font_size\":{\"value\":\"10pt\"},\"bounds\":\"auto\",\"formatter\":{\"id\":\"2068\",\"type\":\"BasicTickFormatter\"},\"major_label_orientation\":\"horizontal\",\"ticker\":{\"id\":\"2041\",\"type\":\"BasicTicker\"}},\"id\":\"2040\",\"type\":\"LinearAxis\"},{\"attributes\":{\"children\":[{\"id\":\"2022\",\"type\":\"Spacer\"},{\"id\":\"2026\",\"subtype\":\"Figure\",\"type\":\"Plot\"},{\"id\":\"2077\",\"type\":\"Spacer\"}],\"margin\":[0,0,0,0],\"name\":\"Row03677\",\"tags\":[\"embedded\"]},\"id\":\"2021\",\"type\":\"Row\"},{\"attributes\":{},\"id\":\"2049\",\"type\":\"ResetTool\"},{\"attributes\":{\"source\":{\"id\":\"2057\",\"type\":\"ColumnDataSource\"}},\"id\":\"2064\",\"type\":\"CDSView\"},{\"attributes\":{\"margin\":[5,5,5,5],\"name\":\"HSpacer03682\",\"sizing_mode\":\"stretch_width\"},\"id\":\"2077\",\"type\":\"Spacer\"},{\"attributes\":{},\"id\":\"2033\",\"type\":\"LinearScale\"},{\"attributes\":{\"data_source\":{\"id\":\"2057\",\"type\":\"ColumnDataSource\"},\"glyph\":{\"id\":\"2060\",\"type\":\"Scatter\"},\"hover_glyph\":null,\"muted_glyph\":{\"id\":\"2062\",\"type\":\"Scatter\"},\"nonselection_glyph\":{\"id\":\"2061\",\"type\":\"Scatter\"},\"selection_glyph\":null,\"view\":{\"id\":\"2064\",\"type\":\"CDSView\"}},\"id\":\"2063\",\"type\":\"GlyphRenderer\"},{\"attributes\":{\"align\":null,\"below\":[{\"id\":\"2035\",\"type\":\"LinearAxis\"}],\"center\":[{\"id\":\"2039\",\"type\":\"Grid\"},{\"id\":\"2044\",\"type\":\"Grid\"}],\"left\":[{\"id\":\"2040\",\"type\":\"LinearAxis\"}],\"margin\":null,\"min_border_bottom\":10,\"min_border_left\":10,\"min_border_right\":10,\"min_border_top\":10,\"plot_height\":500,\"plot_width\":800,\"renderers\":[{\"id\":\"2063\",\"type\":\"GlyphRenderer\"}],\"sizing_mode\":\"fixed\",\"title\":{\"id\":\"2027\",\"type\":\"Title\"},\"toolbar\":{\"id\":\"2050\",\"type\":\"Toolbar\"},\"x_range\":{\"id\":\"2023\",\"type\":\"Range1d\"},\"x_scale\":{\"id\":\"2031\",\"type\":\"LinearScale\"},\"y_range\":{\"id\":\"2024\",\"type\":\"Range1d\"},\"y_scale\":{\"id\":\"2033\",\"type\":\"LinearScale\"}},\"id\":\"2026\",\"subtype\":\"Figure\",\"type\":\"Plot\"},{\"attributes\":{\"callback\":null,\"end\":1100000000000.0,\"reset_end\":1100000000000.0,\"reset_start\":-100000000000.0,\"start\":-100000000000.0,\"tags\":[[[\"TotalCoinSupply\",\"TotalCoinSupply\",null]]]},\"id\":\"2024\",\"type\":\"Range1d\"},{\"attributes\":{\"axis_label\":\"TotalCoinsMined\",\"axis_label_text_font_size\":{\"value\":\"10pt\"},\"bounds\":\"auto\",\"formatter\":{\"id\":\"2066\",\"type\":\"BasicTickFormatter\"},\"major_label_orientation\":\"horizontal\",\"ticker\":{\"id\":\"2036\",\"type\":\"BasicTicker\"}},\"id\":\"2035\",\"type\":\"LinearAxis\"},{\"attributes\":{\"fill_alpha\":{\"value\":0.1},\"fill_color\":{\"value\":\"#1f77b3\"},\"line_alpha\":{\"value\":0.1},\"line_color\":{\"value\":\"#1f77b3\"},\"size\":{\"units\":\"screen\",\"value\":5.477225575051661},\"x\":{\"field\":\"TotalCoinsMined\"},\"y\":{\"field\":\"TotalCoinSupply\"}},\"id\":\"2061\",\"type\":\"Scatter\"},{\"attributes\":{},\"id\":\"2036\",\"type\":\"BasicTicker\"},{\"attributes\":{\"fill_color\":{\"value\":\"#1f77b3\"},\"line_color\":{\"value\":\"#1f77b3\"},\"size\":{\"units\":\"screen\",\"value\":5.477225575051661},\"x\":{\"field\":\"TotalCoinsMined\"},\"y\":{\"field\":\"TotalCoinSupply\"}},\"id\":\"2060\",\"type\":\"Scatter\"},{\"attributes\":{\"margin\":[5,5,5,5],\"name\":\"HSpacer03681\",\"sizing_mode\":\"stretch_width\"},\"id\":\"2022\",\"type\":\"Spacer\"},{\"attributes\":{},\"id\":\"2041\",\"type\":\"BasicTicker\"}],\"root_ids\":[\"2021\"]},\"title\":\"Bokeh Application\",\"version\":\"1.4.0\"}};\n",
       "  var render_items = [{\"docid\":\"b2ea5c21-3052-40f8-8a17-ce81757bbe60\",\"roots\":{\"2021\":\"71ae74a2-2a2c-4cf7-9778-fc21cce81827\"}}];\n",
       "  root.Bokeh.embed.embed_items_notebook(docs_json, render_items);\n",
       "  }\n",
       "if (root.Bokeh !== undefined) {\n",
       "    embed_document(root);\n",
       "  } else {\n",
       "    var attempts = 0;\n",
       "    var timer = setInterval(function(root) {\n",
       "      if (root.Bokeh !== undefined) {\n",
       "        clearInterval(timer);\n",
       "        embed_document(root);\n",
       "      } else if (document.readyState == \"complete\") {\n",
       "        attempts++;\n",
       "        if (attempts > 100) {\n",
       "          clearInterval(timer);\n",
       "          console.log(\"Bokeh: ERROR: Unable to run BokehJS code because BokehJS library is missing\");\n",
       "        }\n",
       "      }\n",
       "    }, 10, root)\n",
       "  }\n",
       "})(window);</script>"
      ],
      "text/plain": [
       ":Scatter   [TotalCoinsMined]   (TotalCoinSupply,CoinName)"
      ]
     },
     "execution_count": 132,
     "metadata": {
      "application/vnd.holoviews_exec.v0+json": {
       "id": "2021"
      }
     },
     "output_type": "execute_result"
    }
   ],
   "source": [
    "# Plot the scatter with x=\"TotalCoinsMined\" and y=\"TotalCoinSupply\"\n",
    "clustered_df_scaled.hvplot.scatter(x = \"TotalCoinsMined\",\n",
    "                            y = \"TotalCoinSupply\",\n",
    "                            hover_cols=[\"CoinName\"],\n",
    "                            width=800,\n",
    "                            height=500)"
   ]
  },
  {
   "cell_type": "code",
   "execution_count": null,
   "metadata": {},
   "outputs": [],
   "source": [
    "\n"
   ]
  }
 ],
 "metadata": {
  "file_extension": ".py",
  "kernelspec": {
   "display_name": "Python 3",
   "language": "python",
   "name": "python3"
  },
  "language_info": {
   "codemirror_mode": {
    "name": "ipython",
    "version": 3
   },
   "file_extension": ".py",
   "mimetype": "text/x-python",
   "name": "python",
   "nbconvert_exporter": "python",
   "pygments_lexer": "ipython3",
   "version": "3.7.6"
  },
  "mimetype": "text/x-python",
  "name": "python",
  "npconvert_exporter": "python",
  "pygments_lexer": "ipython3",
  "version": 3
 },
 "nbformat": 4,
 "nbformat_minor": 4
}
